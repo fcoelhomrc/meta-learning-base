{
 "cells": [
  {
   "cell_type": "code",
   "id": "319c98836d36bb6c",
   "metadata": {
    "ExecuteTime": {
     "end_time": "2025-05-12T13:47:41.697743Z",
     "start_time": "2025-05-12T13:47:41.643815Z"
    }
   },
   "source": [
    "import os\n",
    "\n",
    "import albumentations as A\n",
    "import rich.progress as rprogress\n",
    "import torch\n",
    "import torchmetrics.functional\n",
    "from rich.traceback import install\n",
    "\n",
    "from types import SimpleNamespace\n",
    "\n",
    "from src.callbacks import ModelCheckpoint\n",
    "from src.datasets import MultiDomainDataset, DomainRole, PreprocessingPipeline\n",
    "from src.models import MLDG, BaseLearner, Encoder, Classifier, compute_metrics, ERM\n",
    "from rich import print\n",
    "\n",
    "\n",
    "install(show_locals=False)\n",
    "\n",
    "args = {\n",
    "    \"num_classes\": 7,\n",
    "    \"batch_size\": 8,\n",
    "    \"nonlinear_classifier\": False,\n",
    "    \"dropout\": 0.,\n",
    "    \"lr\": 1e-5,\n",
    "    \"weight_decay\": 0.,\n",
    "    \"beta\": 1.0,\n",
    "}\n",
    "args = SimpleNamespace(**args)\n",
    "\n",
    "\n",
    "# Backend: albumentations\n",
    "transform = A.Compose([\n",
    "    A.Resize(height=224, width=224),\n",
    "    A.Normalize(\n",
    "        mean=(0.485, 0.456, 0.406), std=(0.229, 0.224, 0.225)\n",
    "    ),\n",
    "    A.ToTensorV2(),\n",
    "])\n",
    "\n",
    "augment_transform = A.Compose([\n",
    "    A.RandomResizedCrop(size=(224, 224), scale=(0.7, 1.0), p=1.0),\n",
    "    A.HorizontalFlip(p=0.5),\n",
    "    A.ColorJitter(brightness=0.3, contrast=0.3, saturation=0.3, hue=0.3, p=0.5),\n",
    "    A.ToGray(num_output_channels=3, p=0.10),\n",
    "    A.Normalize(\n",
    "        mean=(0.485, 0.456, 0.406), std=(0.229, 0.224, 0.225)\n",
    "    ),\n",
    "    A.ToTensorV2(),\n",
    "])\n",
    "\n",
    "\n",
    "def wrapper_albumentations_transform(transform: A.Compose):\n",
    "    def transform_(img):\n",
    "        img_ = img.permute(1, 2, 0).numpy()\n",
    "        try:\n",
    "            return transform(image=img_).get(\"image\")\n",
    "        except Exception as error:\n",
    "            print(f\"Failed to apply transform at image {img_.shape}, {img_.dtype}\")\n",
    "            raise error\n",
    "\n",
    "    return transform_\n",
    "\n",
    "pipeline = PreprocessingPipeline(\n",
    "    source_transform=wrapper_albumentations_transform(augment_transform),\n",
    "    target_transform=wrapper_albumentations_transform(transform),\n",
    ")"
   ],
   "outputs": [],
   "execution_count": 10
  },
  {
   "metadata": {
    "ExecuteTime": {
     "end_time": "2025-05-12T13:03:10.688550Z",
     "start_time": "2025-05-12T13:03:10.549534Z"
    }
   },
   "cell_type": "code",
   "source": [
    "device = \"cuda\" if torch.cuda.is_available() else \"cpu\"\n",
    "print(f\"Device selected: {device}\")"
   ],
   "id": "de8b9faea255ce8b",
   "outputs": [
    {
     "data": {
      "text/plain": [
       "Device selected: cuda\n"
      ],
      "text/html": [
       "<pre style=\"white-space:pre;overflow-x:auto;line-height:normal;font-family:Menlo,'DejaVu Sans Mono',consolas,'Courier New',monospace\">Device selected: cuda\n",
       "</pre>\n"
      ]
     },
     "metadata": {},
     "output_type": "display_data"
    }
   ],
   "execution_count": 2
  },
  {
   "metadata": {
    "ExecuteTime": {
     "end_time": "2025-05-12T13:03:10.794803Z",
     "start_time": "2025-05-12T13:03:10.792830Z"
    }
   },
   "cell_type": "code",
   "source": [
    "domains = [\"art_painting\", \"cartoon\", \"photo\", \"sketch\"]\n",
    "roles = [DomainRole.TARGET, DomainRole.TARGET, DomainRole.TARGET, DomainRole.TARGET]\n"
   ],
   "id": "6d81d516b15adbae",
   "outputs": [],
   "execution_count": 3
  },
  {
   "metadata": {
    "ExecuteTime": {
     "end_time": "2025-05-12T13:48:01.162530Z",
     "start_time": "2025-05-12T13:48:01.157566Z"
    }
   },
   "cell_type": "code",
   "source": [
    "def load_model(checkpoint, args):\n",
    "\n",
    "    if args.baseline:\n",
    "        model = ERM(\n",
    "        network=BaseLearner(\n",
    "            encoder=Encoder(hparams={}),\n",
    "            classifier=Classifier(hparams={\"num_feats\": 2048, \"num_classes\": args.num_classes, \"dropout\": args.dropout})\n",
    "        ),\n",
    "        device=device,\n",
    "        num_classes=args.num_classes,\n",
    "        num_domains=len([role for role in roles if role == DomainRole.TARGET]),\n",
    "        hparams={\n",
    "            \"lr\": args.lr,\n",
    "            \"weight_decay\": args.weight_decay,\n",
    "        }\n",
    "    )\n",
    "\n",
    "    else:\n",
    "        model = MLDG(\n",
    "        network=BaseLearner(\n",
    "            encoder=Encoder(hparams={}),\n",
    "            classifier=Classifier(hparams={\"num_feats\": 2048, \"num_classes\": args.num_classes, \"dropout\": args.dropout})\n",
    "        ),\n",
    "        device=device,\n",
    "        num_classes=args.num_classes,\n",
    "        num_domains=len([role for role in roles if role == DomainRole.TARGET]),\n",
    "        hparams={\n",
    "            \"num_meta_test\": 1,\n",
    "            \"lr\": args.lr,\n",
    "            \"weight_decay\": args.weight_decay,\n",
    "            \"beta\": args.beta,\n",
    "            \"lr_clone\": args.lr,  # TODO: for now, using same value for both\n",
    "            \"weight_decay_clone\": args.weight_decay,\n",
    "        }\n",
    "    )\n",
    "\n",
    "    # Test\n",
    "    model.load_state_dict(\n",
    "        state_dict=torch.load(\n",
    "            checkpoint\n",
    "        )\n",
    "    )\n",
    "    model.eval()\n",
    "    return model\n"
   ],
   "id": "ae3e9eb60df241d4",
   "outputs": [],
   "execution_count": 11
  },
  {
   "metadata": {
    "ExecuteTime": {
     "end_time": "2025-05-12T13:03:11.241231Z",
     "start_time": "2025-05-12T13:03:11.007814Z"
    }
   },
   "cell_type": "code",
   "source": [
    "dataset = MultiDomainDataset(\n",
    "    root=\"../data/PACS/\",\n",
    "    domains=domains,\n",
    "    roles=roles,\n",
    "    transforms=[pipeline] * len(domains),\n",
    "    seed=0,\n",
    "    split_ratio=0.80,\n",
    ")\n",
    "\n",
    "\n",
    "progress_bar = rprogress.Progress(\n",
    "    rprogress.SpinnerColumn(),\n",
    "    *rprogress.Progress.get_default_columns(),\n",
    "    rprogress.TimeElapsedColumn(),\n",
    "    rprogress.TextColumn(\"{task.fields[metrics]}\", justify=\"right\"),\n",
    ")\n",
    "\n",
    "loaders = dataset.build_target_dataloaders(\n",
    "    use_splits=False, batch_size=args.batch_size, num_workers=8,\n",
    "    shuffle=False, persistent_workers=True\n",
    ")"
   ],
   "id": "751b3d4a1c90e0d9",
   "outputs": [],
   "execution_count": 5
  },
  {
   "metadata": {
    "ExecuteTime": {
     "end_time": "2025-05-12T08:17:36.739079Z",
     "start_time": "2025-05-12T08:17:36.734942Z"
    }
   },
   "cell_type": "code",
   "source": [
    "RESULTS = {\n",
    "    \"CHECKPOINTS\": [\n",
    "        \"../dump/dutiful-leaf-69_val.ckpt\", # photo\n",
    "        \"../dump/polar-mountain-68_val.ckpt\",  # art\n",
    "        \"../dump/hearty-microwave-67_val.ckpt\",  # cartoon\n",
    "        \"../dump/vague-armadillo-66_val.ckpt\",  # sketch\n",
    "    ],\n",
    "    \"TEST_ACC\": [],\n",
    "    \"TEST_MACRO\": [],\n",
    "    \"TEST_ACC_PER_DOMAIN\": [],\n",
    "    \"TEST_ACC_PER_CLASS\": [],\n",
    "}"
   ],
   "id": "cde7777d3b759f5e",
   "outputs": [],
   "execution_count": 19
  },
  {
   "metadata": {
    "ExecuteTime": {
     "end_time": "2025-05-12T08:17:39.101578Z",
     "start_time": "2025-05-12T08:17:39.096318Z"
    }
   },
   "cell_type": "code",
   "source": [
    "for checkpoint in RESULTS[\"CHECKPOINTS\"]:\n",
    "    if not os.path.exists(checkpoint):\n",
    "        print(f\"Failed to locate checkpoint {checkpoint}\")"
   ],
   "id": "b9314b6890488e71",
   "outputs": [],
   "execution_count": 20
  },
  {
   "metadata": {
    "ExecuteTime": {
     "end_time": "2025-05-12T08:17:40.208651Z",
     "start_time": "2025-05-12T08:17:40.202710Z"
    }
   },
   "cell_type": "code",
   "source": "args",
   "id": "600d873d637e8dd3",
   "outputs": [
    {
     "data": {
      "text/plain": [
       "namespace(num_classes=7,\n",
       "          batch_size=8,\n",
       "          nonlinear_classifier=False,\n",
       "          dropout=0.0,\n",
       "          lr=1e-05,\n",
       "          weight_decay=0.0,\n",
       "          beta=1.0)"
      ]
     },
     "execution_count": 21,
     "metadata": {},
     "output_type": "execute_result"
    }
   ],
   "execution_count": 21
  },
  {
   "metadata": {
    "ExecuteTime": {
     "end_time": "2025-05-12T08:17:43.542187Z",
     "start_time": "2025-05-12T08:17:43.536389Z"
    }
   },
   "cell_type": "code",
   "source": [
    "import torch.nn.functional as F\n",
    "\n",
    "def compute_metrics_no_agg(model, batch):\n",
    "    acc = torch.zeros(model.num_classes).to(model.device)\n",
    "    count = 0\n",
    "    assert len(batch) == 1\n",
    "    for (_, x, y) in batch:\n",
    "        x, y = x.to(model.device), y.to(model.device)\n",
    "        logits = model.network(x)\n",
    "        probs = F.softmax(logits, dim=1)\n",
    "        labels = torch.argmax(probs, dim=1)\n",
    "        acc_ = torchmetrics.functional.accuracy(labels, y, task=\"multiclass\", num_classes=model.num_classes, average=\"none\")\n",
    "        acc += acc_\n",
    "        count += 1\n",
    "    acc /= count\n",
    "    return acc\n",
    "\n",
    "\n",
    "def compute_metrics_macro(model, batch):\n",
    "    acc = 0\n",
    "    count = 0\n",
    "    assert len(batch) == 1\n",
    "    for (_, x, y) in batch:\n",
    "        x, y = x.to(model.device), y.to(model.device)\n",
    "        logits = model.network(x)\n",
    "        probs = F.softmax(logits, dim=1)\n",
    "        labels = torch.argmax(probs, dim=1)\n",
    "        acc_ = torchmetrics.functional.accuracy(labels, y, task=\"multiclass\", num_classes=model.num_classes, average=\"macro\")\n",
    "        acc += acc_\n",
    "        count += 1\n",
    "    acc /= count\n",
    "    return acc"
   ],
   "id": "d31cdddfa4185fa5",
   "outputs": [],
   "execution_count": 22
  },
  {
   "metadata": {},
   "cell_type": "code",
   "source": [
    "with progress_bar:\n",
    "    for i, CHECKPOINT in enumerate(RESULTS[\"CHECKPOINTS\"]):\n",
    "        model = load_model(CHECKPOINT, args)\n",
    "\n",
    "\n",
    "        tasks = [\n",
    "            progress_bar.add_task(\n",
    "                description=f\"Testing {dataset.domains[i]}\",\n",
    "                total=len(loader),\n",
    "                metrics=f\"acc: --\",\n",
    "            )\n",
    "            for i, loader in enumerate(loaders)\n",
    "        ]\n",
    "\n",
    "\n",
    "        ACC = []\n",
    "        ACC_MACRO = []\n",
    "        ACC_PER_DOMAIN = []\n",
    "        ACC_PER_CLASS = []\n",
    "        for task, loader in zip(tasks, loaders):\n",
    "            acc = 0\n",
    "            acc_macro = 0\n",
    "            acc_per_class = torch.zeros(model.num_classes)\n",
    "            count = 0\n",
    "            for batch in loader:\n",
    "                acc_ = model.log_metrics((batch,))\n",
    "                acc_macro_ = compute_metrics_macro(model, (batch, ))\n",
    "                acc_per_class_ = compute_metrics_no_agg(model, (batch, ))\n",
    "\n",
    "                # print(f\"acc_ {acc_.shape}\")\n",
    "                # print(f\"acc_per_class_ {acc_per_class_.shape}\")\n",
    "\n",
    "                count += 1\n",
    "                acc += acc_\n",
    "                acc_macro += acc_macro_\n",
    "                acc_per_class += acc_per_class_.cpu().numpy()\n",
    "\n",
    "                progress_bar.update(\n",
    "                    task,\n",
    "                    advance=1,\n",
    "                    metrics=f\"acc: {acc_:.2%}\",\n",
    "                )\n",
    "\n",
    "            acc /= count\n",
    "            acc_macro /= count\n",
    "            acc_per_class /= count\n",
    "\n",
    "            progress_bar.update(\n",
    "                task,\n",
    "                metrics=f\"acc: {acc:.2%}\",\n",
    "            )\n",
    "            ACC.append(acc)\n",
    "            ACC_MACRO.append(acc_macro)\n",
    "            ACC_PER_CLASS.append(acc_per_class)\n",
    "\n",
    "        RESULTS[\"TEST_ACC\"].append(ACC[i])\n",
    "        RESULTS[\"TEST_MACRO\"].append(ACC_MACRO[i])\n",
    "        RESULTS[\"TEST_ACC_PER_DOMAIN\"].append(ACC)\n",
    "        RESULTS[\"TEST_ACC_PER_CLASS\"].append(ACC_PER_CLASS)"
   ],
   "id": "a3d08a0fab200826",
   "outputs": [],
   "execution_count": null
  },
  {
   "metadata": {
    "ExecuteTime": {
     "end_time": "2025-05-12T08:17:56.907059Z",
     "start_time": "2025-05-12T08:17:56.903007Z"
    }
   },
   "cell_type": "code",
   "source": "dataset.domains",
   "id": "15d7e8a9dbfb79a5",
   "outputs": [
    {
     "data": {
      "text/plain": [
       "['art_painting', 'cartoon', 'photo', 'sketch']"
      ]
     },
     "execution_count": 24,
     "metadata": {},
     "output_type": "execute_result"
    }
   ],
   "execution_count": 24
  },
  {
   "metadata": {
    "ExecuteTime": {
     "end_time": "2025-05-11T23:01:14.875614Z",
     "start_time": "2025-05-11T23:01:14.868075Z"
    }
   },
   "cell_type": "code",
   "source": "acc_per_class",
   "id": "e63c025a557825bf",
   "outputs": [
    {
     "data": {
      "text/plain": [
       "tensor([0.1156, 0.1105, 0.1646, 0.1458, 0.1044, 0.0122, 0.0077])"
      ]
     },
     "execution_count": 14,
     "metadata": {},
     "output_type": "execute_result"
    }
   ],
   "execution_count": 14
  },
  {
   "metadata": {
    "ExecuteTime": {
     "end_time": "2025-05-11T23:01:17.187558Z",
     "start_time": "2025-05-11T23:01:17.168243Z"
    }
   },
   "cell_type": "code",
   "source": "print(RESULTS)",
   "id": "cd835c34f8edd822",
   "outputs": [
    {
     "data": {
      "text/plain": [
       "\u001B[1m{\u001B[0m\n",
       "    \u001B[32m'CHECKPOINTS'\u001B[0m: \u001B[1m[\u001B[0m\n",
       "        \u001B[32m'../dump/dutiful-leaf-69_val.ckpt'\u001B[0m,\n",
       "        \u001B[32m'../dump/polar-mountain-68_val.ckpt'\u001B[0m,\n",
       "        \u001B[32m'../dump/hearty-microwave-67_val.ckpt'\u001B[0m,\n",
       "        \u001B[32m'../dump/vague-armadillo-66_val.ckpt'\u001B[0m\n",
       "    \u001B[1m]\u001B[0m,\n",
       "    \u001B[32m'TEST_ACC'\u001B[0m: \u001B[1m[\u001B[0m\n",
       "        \u001B[1;35mtensor\u001B[0m\u001B[1m(\u001B[0m\u001B[1;36m0.7393\u001B[0m, \u001B[33mdevice\u001B[0m=\u001B[32m'cuda:0'\u001B[0m\u001B[1m)\u001B[0m,\n",
       "        \u001B[1;35mtensor\u001B[0m\u001B[1m(\u001B[0m\u001B[1;36m0.6779\u001B[0m, \u001B[33mdevice\u001B[0m=\u001B[32m'cuda:0'\u001B[0m\u001B[1m)\u001B[0m,\n",
       "        \u001B[1;35mtensor\u001B[0m\u001B[1m(\u001B[0m\u001B[1;36m0.9486\u001B[0m, \u001B[33mdevice\u001B[0m=\u001B[32m'cuda:0'\u001B[0m\u001B[1m)\u001B[0m,\n",
       "        \u001B[1;35mtensor\u001B[0m\u001B[1m(\u001B[0m\u001B[1;36m0.6550\u001B[0m, \u001B[33mdevice\u001B[0m=\u001B[32m'cuda:0'\u001B[0m\u001B[1m)\u001B[0m\n",
       "    \u001B[1m]\u001B[0m,\n",
       "    \u001B[32m'TEST_MACRO'\u001B[0m: \u001B[1m[\u001B[0m\n",
       "        \u001B[1;35mtensor\u001B[0m\u001B[1m(\u001B[0m\u001B[1;36m0.4354\u001B[0m, \u001B[33mdevice\u001B[0m=\u001B[32m'cuda:0'\u001B[0m\u001B[1m)\u001B[0m,\n",
       "        \u001B[1;35mtensor\u001B[0m\u001B[1m(\u001B[0m\u001B[1;36m0.3909\u001B[0m, \u001B[33mdevice\u001B[0m=\u001B[32m'cuda:0'\u001B[0m\u001B[1m)\u001B[0m,\n",
       "        \u001B[1;35mtensor\u001B[0m\u001B[1m(\u001B[0m\u001B[1;36m0.8237\u001B[0m, \u001B[33mdevice\u001B[0m=\u001B[32m'cuda:0'\u001B[0m\u001B[1m)\u001B[0m,\n",
       "        \u001B[1;35mtensor\u001B[0m\u001B[1m(\u001B[0m\u001B[1;36m0.3478\u001B[0m, \u001B[33mdevice\u001B[0m=\u001B[32m'cuda:0'\u001B[0m\u001B[1m)\u001B[0m\n",
       "    \u001B[1m]\u001B[0m,\n",
       "    \u001B[32m'TEST_ACC_PER_DOMAIN'\u001B[0m: \u001B[1m[\u001B[0m\n",
       "        \u001B[1m[\u001B[0m\n",
       "            \u001B[1;35mtensor\u001B[0m\u001B[1m(\u001B[0m\u001B[1;36m0.7393\u001B[0m, \u001B[33mdevice\u001B[0m=\u001B[32m'cuda:0'\u001B[0m\u001B[1m)\u001B[0m,\n",
       "            \u001B[1;35mtensor\u001B[0m\u001B[1m(\u001B[0m\u001B[1;36m0.8584\u001B[0m, \u001B[33mdevice\u001B[0m=\u001B[32m'cuda:0'\u001B[0m\u001B[1m)\u001B[0m,\n",
       "            \u001B[1;35mtensor\u001B[0m\u001B[1m(\u001B[0m\u001B[1;36m0.9821\u001B[0m, \u001B[33mdevice\u001B[0m=\u001B[32m'cuda:0'\u001B[0m\u001B[1m)\u001B[0m,\n",
       "            \u001B[1;35mtensor\u001B[0m\u001B[1m(\u001B[0m\u001B[1;36m0.8740\u001B[0m, \u001B[33mdevice\u001B[0m=\u001B[32m'cuda:0'\u001B[0m\u001B[1m)\u001B[0m\n",
       "        \u001B[1m]\u001B[0m,\n",
       "        \u001B[1m[\u001B[0m\n",
       "            \u001B[1;35mtensor\u001B[0m\u001B[1m(\u001B[0m\u001B[1;36m0.9121\u001B[0m, \u001B[33mdevice\u001B[0m=\u001B[32m'cuda:0'\u001B[0m\u001B[1m)\u001B[0m,\n",
       "            \u001B[1;35mtensor\u001B[0m\u001B[1m(\u001B[0m\u001B[1;36m0.6779\u001B[0m, \u001B[33mdevice\u001B[0m=\u001B[32m'cuda:0'\u001B[0m\u001B[1m)\u001B[0m,\n",
       "            \u001B[1;35mtensor\u001B[0m\u001B[1m(\u001B[0m\u001B[1;36m0.9868\u001B[0m, \u001B[33mdevice\u001B[0m=\u001B[32m'cuda:0'\u001B[0m\u001B[1m)\u001B[0m,\n",
       "            \u001B[1;35mtensor\u001B[0m\u001B[1m(\u001B[0m\u001B[1;36m0.8608\u001B[0m, \u001B[33mdevice\u001B[0m=\u001B[32m'cuda:0'\u001B[0m\u001B[1m)\u001B[0m\n",
       "        \u001B[1m]\u001B[0m,\n",
       "        \u001B[1m[\u001B[0m\n",
       "            \u001B[1;35mtensor\u001B[0m\u001B[1m(\u001B[0m\u001B[1;36m0.8511\u001B[0m, \u001B[33mdevice\u001B[0m=\u001B[32m'cuda:0'\u001B[0m\u001B[1m)\u001B[0m,\n",
       "            \u001B[1;35mtensor\u001B[0m\u001B[1m(\u001B[0m\u001B[1;36m0.8959\u001B[0m, \u001B[33mdevice\u001B[0m=\u001B[32m'cuda:0'\u001B[0m\u001B[1m)\u001B[0m,\n",
       "            \u001B[1;35mtensor\u001B[0m\u001B[1m(\u001B[0m\u001B[1;36m0.9486\u001B[0m, \u001B[33mdevice\u001B[0m=\u001B[32m'cuda:0'\u001B[0m\u001B[1m)\u001B[0m,\n",
       "            \u001B[1;35mtensor\u001B[0m\u001B[1m(\u001B[0m\u001B[1;36m0.8910\u001B[0m, \u001B[33mdevice\u001B[0m=\u001B[32m'cuda:0'\u001B[0m\u001B[1m)\u001B[0m\n",
       "        \u001B[1m]\u001B[0m,\n",
       "        \u001B[1m[\u001B[0m\n",
       "            \u001B[1;35mtensor\u001B[0m\u001B[1m(\u001B[0m\u001B[1;36m0.9150\u001B[0m, \u001B[33mdevice\u001B[0m=\u001B[32m'cuda:0'\u001B[0m\u001B[1m)\u001B[0m,\n",
       "            \u001B[1;35mtensor\u001B[0m\u001B[1m(\u001B[0m\u001B[1;36m0.8409\u001B[0m, \u001B[33mdevice\u001B[0m=\u001B[32m'cuda:0'\u001B[0m\u001B[1m)\u001B[0m,\n",
       "            \u001B[1;35mtensor\u001B[0m\u001B[1m(\u001B[0m\u001B[1;36m0.9916\u001B[0m, \u001B[33mdevice\u001B[0m=\u001B[32m'cuda:0'\u001B[0m\u001B[1m)\u001B[0m,\n",
       "            \u001B[1;35mtensor\u001B[0m\u001B[1m(\u001B[0m\u001B[1;36m0.6550\u001B[0m, \u001B[33mdevice\u001B[0m=\u001B[32m'cuda:0'\u001B[0m\u001B[1m)\u001B[0m\n",
       "        \u001B[1m]\u001B[0m\n",
       "    \u001B[1m]\u001B[0m,\n",
       "    \u001B[32m'TEST_ACC_PER_CLASS'\u001B[0m: \u001B[1m[\u001B[0m\n",
       "        \u001B[1m[\u001B[0m\n",
       "            \u001B[1;35mtensor\u001B[0m\u001B[1m(\u001B[0m\u001B[1m[\u001B[0m\u001B[1;36m0.1427\u001B[0m, \u001B[1;36m0.0829\u001B[0m, \u001B[1;36m0.1328\u001B[0m, \u001B[1;36m0.0422\u001B[0m, \u001B[1;36m0.0713\u001B[0m, \u001B[1;36m0.1426\u001B[0m, \u001B[1;36m0.1363\u001B[0m\u001B[1m]\u001B[0m\u001B[1m)\u001B[0m,\n",
       "            \u001B[1;35mtensor\u001B[0m\u001B[1m(\u001B[0m\u001B[1m[\u001B[0m\u001B[1;36m0.1591\u001B[0m, \u001B[1;36m0.1730\u001B[0m, \u001B[1;36m0.1455\u001B[0m, \u001B[1;36m0.0614\u001B[0m, \u001B[1;36m0.0922\u001B[0m, \u001B[1;36m0.1186\u001B[0m, \u001B[1;36m0.1239\u001B[0m\u001B[1m]\u001B[0m\u001B[1m)\u001B[0m,\n",
       "            \u001B[1;35mtensor\u001B[0m\u001B[1m(\u001B[0m\u001B[1m[\u001B[0m\u001B[1;36m0.1112\u001B[0m, \u001B[1;36m0.1280\u001B[0m, \u001B[1;36m0.1112\u001B[0m, \u001B[1;36m0.1106\u001B[0m, \u001B[1;36m0.1141\u001B[0m, \u001B[1;36m0.1675\u001B[0m, \u001B[1;36m0.2632\u001B[0m\u001B[1m]\u001B[0m\u001B[1m)\u001B[0m,\n",
       "            \u001B[1;35mtensor\u001B[0m\u001B[1m(\u001B[0m\u001B[1m[\u001B[0m\u001B[1;36m0.1606\u001B[0m, \u001B[1;36m0.1664\u001B[0m, \u001B[1;36m0.1498\u001B[0m, \u001B[1;36m0.1547\u001B[0m, \u001B[1;36m0.1939\u001B[0m, \u001B[1;36m0.0196\u001B[0m, \u001B[1;36m0.0368\u001B[0m\u001B[1m]\u001B[0m\u001B[1m)\u001B[0m\n",
       "        \u001B[1m]\u001B[0m,\n",
       "        \u001B[1m[\u001B[0m\n",
       "            \u001B[1;35mtensor\u001B[0m\u001B[1m(\u001B[0m\u001B[1m[\u001B[0m\u001B[1;36m0.1748\u001B[0m, \u001B[1;36m0.1206\u001B[0m, \u001B[1;36m0.1367\u001B[0m, \u001B[1;36m0.0815\u001B[0m, \u001B[1;36m0.0864\u001B[0m, \u001B[1;36m0.1426\u001B[0m, \u001B[1;36m0.1880\u001B[0m\u001B[1m]\u001B[0m\u001B[1m)\u001B[0m,\n",
       "            \u001B[1;35mtensor\u001B[0m\u001B[1m(\u001B[0m\u001B[1m[\u001B[0m\u001B[1;36m0.1201\u001B[0m, \u001B[1;36m0.1247\u001B[0m, \u001B[1;36m0.1328\u001B[0m, \u001B[1;36m0.0614\u001B[0m, \u001B[1;36m0.0499\u001B[0m, \u001B[1;36m0.1126\u001B[0m, \u001B[1;36m0.0869\u001B[0m\u001B[1m]\u001B[0m\u001B[1m)\u001B[0m,\n",
       "            \u001B[1;35mtensor\u001B[0m\u001B[1m(\u001B[0m\u001B[1m[\u001B[0m\u001B[1;36m0.1130\u001B[0m, \u001B[1;36m0.1292\u001B[0m, \u001B[1;36m0.1118\u001B[0m, \u001B[1;36m0.1142\u001B[0m, \u001B[1;36m0.1118\u001B[0m, \u001B[1;36m0.1675\u001B[0m, \u001B[1;36m0.2632\u001B[0m\u001B[1m]\u001B[0m\u001B[1m)\u001B[0m,\n",
       "            \u001B[1;35mtensor\u001B[0m\u001B[1m(\u001B[0m\u001B[1m[\u001B[0m\u001B[1;36m0.1480\u001B[0m, \u001B[1;36m0.1730\u001B[0m, \u001B[1;36m0.1809\u001B[0m, \u001B[1;36m0.1562\u001B[0m, \u001B[1;36m0.1748\u001B[0m, \u001B[1;36m0.0112\u001B[0m, \u001B[1;36m0.0231\u001B[0m\u001B[1m]\u001B[0m\u001B[1m)\u001B[0m\n",
       "        \u001B[1m]\u001B[0m,\n",
       "        \u001B[1m[\u001B[0m\n",
       "            \u001B[1;35mtensor\u001B[0m\u001B[1m(\u001B[0m\u001B[1m[\u001B[0m\u001B[1;36m0.1593\u001B[0m, \u001B[1;36m0.1172\u001B[0m, \u001B[1;36m0.1265\u001B[0m, \u001B[1;36m0.0648\u001B[0m, \u001B[1;36m0.0874\u001B[0m, \u001B[1;36m0.1436\u001B[0m, \u001B[1;36m0.1667\u001B[0m\u001B[1m]\u001B[0m\u001B[1m)\u001B[0m,\n",
       "            \u001B[1;35mtensor\u001B[0m\u001B[1m(\u001B[0m\u001B[1m[\u001B[0m\u001B[1;36m0.1553\u001B[0m, \u001B[1;36m0.1840\u001B[0m, \u001B[1;36m0.1468\u001B[0m, \u001B[1;36m0.0614\u001B[0m, \u001B[1;36m0.0994\u001B[0m, \u001B[1;36m0.1186\u001B[0m, \u001B[1;36m0.1460\u001B[0m\u001B[1m]\u001B[0m\u001B[1m)\u001B[0m,\n",
       "            \u001B[1;35mtensor\u001B[0m\u001B[1m(\u001B[0m\u001B[1m[\u001B[0m\u001B[1;36m0.1077\u001B[0m, \u001B[1;36m0.1214\u001B[0m, \u001B[1;36m0.0965\u001B[0m, \u001B[1;36m0.1082\u001B[0m, \u001B[1;36m0.1076\u001B[0m, \u001B[1;36m0.1675\u001B[0m, \u001B[1;36m0.2632\u001B[0m\u001B[1m]\u001B[0m\u001B[1m)\u001B[0m,\n",
       "            \u001B[1;35mtensor\u001B[0m\u001B[1m(\u001B[0m\u001B[1m[\u001B[0m\u001B[1;36m0.1682\u001B[0m, \u001B[1;36m0.1702\u001B[0m, \u001B[1;36m0.1627\u001B[0m, \u001B[1;36m0.1560\u001B[0m, \u001B[1;36m0.1865\u001B[0m, \u001B[1;36m0.0183\u001B[0m, \u001B[1;36m0.0367\u001B[0m\u001B[1m]\u001B[0m\u001B[1m)\u001B[0m\n",
       "        \u001B[1m]\u001B[0m,\n",
       "        \u001B[1m[\u001B[0m\n",
       "            \u001B[1;35mtensor\u001B[0m\u001B[1m(\u001B[0m\u001B[1m[\u001B[0m\u001B[1;36m0.1738\u001B[0m, \u001B[1;36m0.1187\u001B[0m, \u001B[1;36m0.1401\u001B[0m, \u001B[1;36m0.0824\u001B[0m, \u001B[1;36m0.0898\u001B[0m, \u001B[1;36m0.1436\u001B[0m, \u001B[1;36m0.1857\u001B[0m\u001B[1m]\u001B[0m\u001B[1m)\u001B[0m,\n",
       "            \u001B[1;35mtensor\u001B[0m\u001B[1m(\u001B[0m\u001B[1m[\u001B[0m\u001B[1;36m0.1350\u001B[0m, \u001B[1;36m0.1691\u001B[0m, \u001B[1;36m0.1480\u001B[0m, \u001B[1;36m0.0606\u001B[0m, \u001B[1;36m0.1045\u001B[0m, \u001B[1;36m0.1207\u001B[0m, \u001B[1;36m0.1179\u001B[0m\u001B[1m]\u001B[0m\u001B[1m)\u001B[0m,\n",
       "            \u001B[1;35mtensor\u001B[0m\u001B[1m(\u001B[0m\u001B[1m[\u001B[0m\u001B[1;36m0.1142\u001B[0m, \u001B[1;36m0.1292\u001B[0m, \u001B[1;36m0.1136\u001B[0m, \u001B[1;36m0.1130\u001B[0m, \u001B[1;36m0.1147\u001B[0m, \u001B[1;36m0.1675\u001B[0m, \u001B[1;36m0.2632\u001B[0m\u001B[1m]\u001B[0m\u001B[1m)\u001B[0m,\n",
       "            \u001B[1;35mtensor\u001B[0m\u001B[1m(\u001B[0m\u001B[1m[\u001B[0m\u001B[1;36m0.1156\u001B[0m, \u001B[1;36m0.1105\u001B[0m, \u001B[1;36m0.1646\u001B[0m, \u001B[1;36m0.1458\u001B[0m, \u001B[1;36m0.1044\u001B[0m, \u001B[1;36m0.0122\u001B[0m, \u001B[1;36m0.0077\u001B[0m\u001B[1m]\u001B[0m\u001B[1m)\u001B[0m\n",
       "        \u001B[1m]\u001B[0m\n",
       "    \u001B[1m]\u001B[0m\n",
       "\u001B[1m}\u001B[0m\n"
      ],
      "text/html": [
       "<pre style=\"white-space:pre;overflow-x:auto;line-height:normal;font-family:Menlo,'DejaVu Sans Mono',consolas,'Courier New',monospace\"><span style=\"font-weight: bold\">{</span>\n",
       "    <span style=\"color: #008000; text-decoration-color: #008000\">'CHECKPOINTS'</span>: <span style=\"font-weight: bold\">[</span>\n",
       "        <span style=\"color: #008000; text-decoration-color: #008000\">'../dump/dutiful-leaf-69_val.ckpt'</span>,\n",
       "        <span style=\"color: #008000; text-decoration-color: #008000\">'../dump/polar-mountain-68_val.ckpt'</span>,\n",
       "        <span style=\"color: #008000; text-decoration-color: #008000\">'../dump/hearty-microwave-67_val.ckpt'</span>,\n",
       "        <span style=\"color: #008000; text-decoration-color: #008000\">'../dump/vague-armadillo-66_val.ckpt'</span>\n",
       "    <span style=\"font-weight: bold\">]</span>,\n",
       "    <span style=\"color: #008000; text-decoration-color: #008000\">'TEST_ACC'</span>: <span style=\"font-weight: bold\">[</span>\n",
       "        <span style=\"color: #800080; text-decoration-color: #800080; font-weight: bold\">tensor</span><span style=\"font-weight: bold\">(</span><span style=\"color: #008080; text-decoration-color: #008080; font-weight: bold\">0.7393</span>, <span style=\"color: #808000; text-decoration-color: #808000\">device</span>=<span style=\"color: #008000; text-decoration-color: #008000\">'cuda:0'</span><span style=\"font-weight: bold\">)</span>,\n",
       "        <span style=\"color: #800080; text-decoration-color: #800080; font-weight: bold\">tensor</span><span style=\"font-weight: bold\">(</span><span style=\"color: #008080; text-decoration-color: #008080; font-weight: bold\">0.6779</span>, <span style=\"color: #808000; text-decoration-color: #808000\">device</span>=<span style=\"color: #008000; text-decoration-color: #008000\">'cuda:0'</span><span style=\"font-weight: bold\">)</span>,\n",
       "        <span style=\"color: #800080; text-decoration-color: #800080; font-weight: bold\">tensor</span><span style=\"font-weight: bold\">(</span><span style=\"color: #008080; text-decoration-color: #008080; font-weight: bold\">0.9486</span>, <span style=\"color: #808000; text-decoration-color: #808000\">device</span>=<span style=\"color: #008000; text-decoration-color: #008000\">'cuda:0'</span><span style=\"font-weight: bold\">)</span>,\n",
       "        <span style=\"color: #800080; text-decoration-color: #800080; font-weight: bold\">tensor</span><span style=\"font-weight: bold\">(</span><span style=\"color: #008080; text-decoration-color: #008080; font-weight: bold\">0.6550</span>, <span style=\"color: #808000; text-decoration-color: #808000\">device</span>=<span style=\"color: #008000; text-decoration-color: #008000\">'cuda:0'</span><span style=\"font-weight: bold\">)</span>\n",
       "    <span style=\"font-weight: bold\">]</span>,\n",
       "    <span style=\"color: #008000; text-decoration-color: #008000\">'TEST_MACRO'</span>: <span style=\"font-weight: bold\">[</span>\n",
       "        <span style=\"color: #800080; text-decoration-color: #800080; font-weight: bold\">tensor</span><span style=\"font-weight: bold\">(</span><span style=\"color: #008080; text-decoration-color: #008080; font-weight: bold\">0.4354</span>, <span style=\"color: #808000; text-decoration-color: #808000\">device</span>=<span style=\"color: #008000; text-decoration-color: #008000\">'cuda:0'</span><span style=\"font-weight: bold\">)</span>,\n",
       "        <span style=\"color: #800080; text-decoration-color: #800080; font-weight: bold\">tensor</span><span style=\"font-weight: bold\">(</span><span style=\"color: #008080; text-decoration-color: #008080; font-weight: bold\">0.3909</span>, <span style=\"color: #808000; text-decoration-color: #808000\">device</span>=<span style=\"color: #008000; text-decoration-color: #008000\">'cuda:0'</span><span style=\"font-weight: bold\">)</span>,\n",
       "        <span style=\"color: #800080; text-decoration-color: #800080; font-weight: bold\">tensor</span><span style=\"font-weight: bold\">(</span><span style=\"color: #008080; text-decoration-color: #008080; font-weight: bold\">0.8237</span>, <span style=\"color: #808000; text-decoration-color: #808000\">device</span>=<span style=\"color: #008000; text-decoration-color: #008000\">'cuda:0'</span><span style=\"font-weight: bold\">)</span>,\n",
       "        <span style=\"color: #800080; text-decoration-color: #800080; font-weight: bold\">tensor</span><span style=\"font-weight: bold\">(</span><span style=\"color: #008080; text-decoration-color: #008080; font-weight: bold\">0.3478</span>, <span style=\"color: #808000; text-decoration-color: #808000\">device</span>=<span style=\"color: #008000; text-decoration-color: #008000\">'cuda:0'</span><span style=\"font-weight: bold\">)</span>\n",
       "    <span style=\"font-weight: bold\">]</span>,\n",
       "    <span style=\"color: #008000; text-decoration-color: #008000\">'TEST_ACC_PER_DOMAIN'</span>: <span style=\"font-weight: bold\">[</span>\n",
       "        <span style=\"font-weight: bold\">[</span>\n",
       "            <span style=\"color: #800080; text-decoration-color: #800080; font-weight: bold\">tensor</span><span style=\"font-weight: bold\">(</span><span style=\"color: #008080; text-decoration-color: #008080; font-weight: bold\">0.7393</span>, <span style=\"color: #808000; text-decoration-color: #808000\">device</span>=<span style=\"color: #008000; text-decoration-color: #008000\">'cuda:0'</span><span style=\"font-weight: bold\">)</span>,\n",
       "            <span style=\"color: #800080; text-decoration-color: #800080; font-weight: bold\">tensor</span><span style=\"font-weight: bold\">(</span><span style=\"color: #008080; text-decoration-color: #008080; font-weight: bold\">0.8584</span>, <span style=\"color: #808000; text-decoration-color: #808000\">device</span>=<span style=\"color: #008000; text-decoration-color: #008000\">'cuda:0'</span><span style=\"font-weight: bold\">)</span>,\n",
       "            <span style=\"color: #800080; text-decoration-color: #800080; font-weight: bold\">tensor</span><span style=\"font-weight: bold\">(</span><span style=\"color: #008080; text-decoration-color: #008080; font-weight: bold\">0.9821</span>, <span style=\"color: #808000; text-decoration-color: #808000\">device</span>=<span style=\"color: #008000; text-decoration-color: #008000\">'cuda:0'</span><span style=\"font-weight: bold\">)</span>,\n",
       "            <span style=\"color: #800080; text-decoration-color: #800080; font-weight: bold\">tensor</span><span style=\"font-weight: bold\">(</span><span style=\"color: #008080; text-decoration-color: #008080; font-weight: bold\">0.8740</span>, <span style=\"color: #808000; text-decoration-color: #808000\">device</span>=<span style=\"color: #008000; text-decoration-color: #008000\">'cuda:0'</span><span style=\"font-weight: bold\">)</span>\n",
       "        <span style=\"font-weight: bold\">]</span>,\n",
       "        <span style=\"font-weight: bold\">[</span>\n",
       "            <span style=\"color: #800080; text-decoration-color: #800080; font-weight: bold\">tensor</span><span style=\"font-weight: bold\">(</span><span style=\"color: #008080; text-decoration-color: #008080; font-weight: bold\">0.9121</span>, <span style=\"color: #808000; text-decoration-color: #808000\">device</span>=<span style=\"color: #008000; text-decoration-color: #008000\">'cuda:0'</span><span style=\"font-weight: bold\">)</span>,\n",
       "            <span style=\"color: #800080; text-decoration-color: #800080; font-weight: bold\">tensor</span><span style=\"font-weight: bold\">(</span><span style=\"color: #008080; text-decoration-color: #008080; font-weight: bold\">0.6779</span>, <span style=\"color: #808000; text-decoration-color: #808000\">device</span>=<span style=\"color: #008000; text-decoration-color: #008000\">'cuda:0'</span><span style=\"font-weight: bold\">)</span>,\n",
       "            <span style=\"color: #800080; text-decoration-color: #800080; font-weight: bold\">tensor</span><span style=\"font-weight: bold\">(</span><span style=\"color: #008080; text-decoration-color: #008080; font-weight: bold\">0.9868</span>, <span style=\"color: #808000; text-decoration-color: #808000\">device</span>=<span style=\"color: #008000; text-decoration-color: #008000\">'cuda:0'</span><span style=\"font-weight: bold\">)</span>,\n",
       "            <span style=\"color: #800080; text-decoration-color: #800080; font-weight: bold\">tensor</span><span style=\"font-weight: bold\">(</span><span style=\"color: #008080; text-decoration-color: #008080; font-weight: bold\">0.8608</span>, <span style=\"color: #808000; text-decoration-color: #808000\">device</span>=<span style=\"color: #008000; text-decoration-color: #008000\">'cuda:0'</span><span style=\"font-weight: bold\">)</span>\n",
       "        <span style=\"font-weight: bold\">]</span>,\n",
       "        <span style=\"font-weight: bold\">[</span>\n",
       "            <span style=\"color: #800080; text-decoration-color: #800080; font-weight: bold\">tensor</span><span style=\"font-weight: bold\">(</span><span style=\"color: #008080; text-decoration-color: #008080; font-weight: bold\">0.8511</span>, <span style=\"color: #808000; text-decoration-color: #808000\">device</span>=<span style=\"color: #008000; text-decoration-color: #008000\">'cuda:0'</span><span style=\"font-weight: bold\">)</span>,\n",
       "            <span style=\"color: #800080; text-decoration-color: #800080; font-weight: bold\">tensor</span><span style=\"font-weight: bold\">(</span><span style=\"color: #008080; text-decoration-color: #008080; font-weight: bold\">0.8959</span>, <span style=\"color: #808000; text-decoration-color: #808000\">device</span>=<span style=\"color: #008000; text-decoration-color: #008000\">'cuda:0'</span><span style=\"font-weight: bold\">)</span>,\n",
       "            <span style=\"color: #800080; text-decoration-color: #800080; font-weight: bold\">tensor</span><span style=\"font-weight: bold\">(</span><span style=\"color: #008080; text-decoration-color: #008080; font-weight: bold\">0.9486</span>, <span style=\"color: #808000; text-decoration-color: #808000\">device</span>=<span style=\"color: #008000; text-decoration-color: #008000\">'cuda:0'</span><span style=\"font-weight: bold\">)</span>,\n",
       "            <span style=\"color: #800080; text-decoration-color: #800080; font-weight: bold\">tensor</span><span style=\"font-weight: bold\">(</span><span style=\"color: #008080; text-decoration-color: #008080; font-weight: bold\">0.8910</span>, <span style=\"color: #808000; text-decoration-color: #808000\">device</span>=<span style=\"color: #008000; text-decoration-color: #008000\">'cuda:0'</span><span style=\"font-weight: bold\">)</span>\n",
       "        <span style=\"font-weight: bold\">]</span>,\n",
       "        <span style=\"font-weight: bold\">[</span>\n",
       "            <span style=\"color: #800080; text-decoration-color: #800080; font-weight: bold\">tensor</span><span style=\"font-weight: bold\">(</span><span style=\"color: #008080; text-decoration-color: #008080; font-weight: bold\">0.9150</span>, <span style=\"color: #808000; text-decoration-color: #808000\">device</span>=<span style=\"color: #008000; text-decoration-color: #008000\">'cuda:0'</span><span style=\"font-weight: bold\">)</span>,\n",
       "            <span style=\"color: #800080; text-decoration-color: #800080; font-weight: bold\">tensor</span><span style=\"font-weight: bold\">(</span><span style=\"color: #008080; text-decoration-color: #008080; font-weight: bold\">0.8409</span>, <span style=\"color: #808000; text-decoration-color: #808000\">device</span>=<span style=\"color: #008000; text-decoration-color: #008000\">'cuda:0'</span><span style=\"font-weight: bold\">)</span>,\n",
       "            <span style=\"color: #800080; text-decoration-color: #800080; font-weight: bold\">tensor</span><span style=\"font-weight: bold\">(</span><span style=\"color: #008080; text-decoration-color: #008080; font-weight: bold\">0.9916</span>, <span style=\"color: #808000; text-decoration-color: #808000\">device</span>=<span style=\"color: #008000; text-decoration-color: #008000\">'cuda:0'</span><span style=\"font-weight: bold\">)</span>,\n",
       "            <span style=\"color: #800080; text-decoration-color: #800080; font-weight: bold\">tensor</span><span style=\"font-weight: bold\">(</span><span style=\"color: #008080; text-decoration-color: #008080; font-weight: bold\">0.6550</span>, <span style=\"color: #808000; text-decoration-color: #808000\">device</span>=<span style=\"color: #008000; text-decoration-color: #008000\">'cuda:0'</span><span style=\"font-weight: bold\">)</span>\n",
       "        <span style=\"font-weight: bold\">]</span>\n",
       "    <span style=\"font-weight: bold\">]</span>,\n",
       "    <span style=\"color: #008000; text-decoration-color: #008000\">'TEST_ACC_PER_CLASS'</span>: <span style=\"font-weight: bold\">[</span>\n",
       "        <span style=\"font-weight: bold\">[</span>\n",
       "            <span style=\"color: #800080; text-decoration-color: #800080; font-weight: bold\">tensor</span><span style=\"font-weight: bold\">([</span><span style=\"color: #008080; text-decoration-color: #008080; font-weight: bold\">0.1427</span>, <span style=\"color: #008080; text-decoration-color: #008080; font-weight: bold\">0.0829</span>, <span style=\"color: #008080; text-decoration-color: #008080; font-weight: bold\">0.1328</span>, <span style=\"color: #008080; text-decoration-color: #008080; font-weight: bold\">0.0422</span>, <span style=\"color: #008080; text-decoration-color: #008080; font-weight: bold\">0.0713</span>, <span style=\"color: #008080; text-decoration-color: #008080; font-weight: bold\">0.1426</span>, <span style=\"color: #008080; text-decoration-color: #008080; font-weight: bold\">0.1363</span><span style=\"font-weight: bold\">])</span>,\n",
       "            <span style=\"color: #800080; text-decoration-color: #800080; font-weight: bold\">tensor</span><span style=\"font-weight: bold\">([</span><span style=\"color: #008080; text-decoration-color: #008080; font-weight: bold\">0.1591</span>, <span style=\"color: #008080; text-decoration-color: #008080; font-weight: bold\">0.1730</span>, <span style=\"color: #008080; text-decoration-color: #008080; font-weight: bold\">0.1455</span>, <span style=\"color: #008080; text-decoration-color: #008080; font-weight: bold\">0.0614</span>, <span style=\"color: #008080; text-decoration-color: #008080; font-weight: bold\">0.0922</span>, <span style=\"color: #008080; text-decoration-color: #008080; font-weight: bold\">0.1186</span>, <span style=\"color: #008080; text-decoration-color: #008080; font-weight: bold\">0.1239</span><span style=\"font-weight: bold\">])</span>,\n",
       "            <span style=\"color: #800080; text-decoration-color: #800080; font-weight: bold\">tensor</span><span style=\"font-weight: bold\">([</span><span style=\"color: #008080; text-decoration-color: #008080; font-weight: bold\">0.1112</span>, <span style=\"color: #008080; text-decoration-color: #008080; font-weight: bold\">0.1280</span>, <span style=\"color: #008080; text-decoration-color: #008080; font-weight: bold\">0.1112</span>, <span style=\"color: #008080; text-decoration-color: #008080; font-weight: bold\">0.1106</span>, <span style=\"color: #008080; text-decoration-color: #008080; font-weight: bold\">0.1141</span>, <span style=\"color: #008080; text-decoration-color: #008080; font-weight: bold\">0.1675</span>, <span style=\"color: #008080; text-decoration-color: #008080; font-weight: bold\">0.2632</span><span style=\"font-weight: bold\">])</span>,\n",
       "            <span style=\"color: #800080; text-decoration-color: #800080; font-weight: bold\">tensor</span><span style=\"font-weight: bold\">([</span><span style=\"color: #008080; text-decoration-color: #008080; font-weight: bold\">0.1606</span>, <span style=\"color: #008080; text-decoration-color: #008080; font-weight: bold\">0.1664</span>, <span style=\"color: #008080; text-decoration-color: #008080; font-weight: bold\">0.1498</span>, <span style=\"color: #008080; text-decoration-color: #008080; font-weight: bold\">0.1547</span>, <span style=\"color: #008080; text-decoration-color: #008080; font-weight: bold\">0.1939</span>, <span style=\"color: #008080; text-decoration-color: #008080; font-weight: bold\">0.0196</span>, <span style=\"color: #008080; text-decoration-color: #008080; font-weight: bold\">0.0368</span><span style=\"font-weight: bold\">])</span>\n",
       "        <span style=\"font-weight: bold\">]</span>,\n",
       "        <span style=\"font-weight: bold\">[</span>\n",
       "            <span style=\"color: #800080; text-decoration-color: #800080; font-weight: bold\">tensor</span><span style=\"font-weight: bold\">([</span><span style=\"color: #008080; text-decoration-color: #008080; font-weight: bold\">0.1748</span>, <span style=\"color: #008080; text-decoration-color: #008080; font-weight: bold\">0.1206</span>, <span style=\"color: #008080; text-decoration-color: #008080; font-weight: bold\">0.1367</span>, <span style=\"color: #008080; text-decoration-color: #008080; font-weight: bold\">0.0815</span>, <span style=\"color: #008080; text-decoration-color: #008080; font-weight: bold\">0.0864</span>, <span style=\"color: #008080; text-decoration-color: #008080; font-weight: bold\">0.1426</span>, <span style=\"color: #008080; text-decoration-color: #008080; font-weight: bold\">0.1880</span><span style=\"font-weight: bold\">])</span>,\n",
       "            <span style=\"color: #800080; text-decoration-color: #800080; font-weight: bold\">tensor</span><span style=\"font-weight: bold\">([</span><span style=\"color: #008080; text-decoration-color: #008080; font-weight: bold\">0.1201</span>, <span style=\"color: #008080; text-decoration-color: #008080; font-weight: bold\">0.1247</span>, <span style=\"color: #008080; text-decoration-color: #008080; font-weight: bold\">0.1328</span>, <span style=\"color: #008080; text-decoration-color: #008080; font-weight: bold\">0.0614</span>, <span style=\"color: #008080; text-decoration-color: #008080; font-weight: bold\">0.0499</span>, <span style=\"color: #008080; text-decoration-color: #008080; font-weight: bold\">0.1126</span>, <span style=\"color: #008080; text-decoration-color: #008080; font-weight: bold\">0.0869</span><span style=\"font-weight: bold\">])</span>,\n",
       "            <span style=\"color: #800080; text-decoration-color: #800080; font-weight: bold\">tensor</span><span style=\"font-weight: bold\">([</span><span style=\"color: #008080; text-decoration-color: #008080; font-weight: bold\">0.1130</span>, <span style=\"color: #008080; text-decoration-color: #008080; font-weight: bold\">0.1292</span>, <span style=\"color: #008080; text-decoration-color: #008080; font-weight: bold\">0.1118</span>, <span style=\"color: #008080; text-decoration-color: #008080; font-weight: bold\">0.1142</span>, <span style=\"color: #008080; text-decoration-color: #008080; font-weight: bold\">0.1118</span>, <span style=\"color: #008080; text-decoration-color: #008080; font-weight: bold\">0.1675</span>, <span style=\"color: #008080; text-decoration-color: #008080; font-weight: bold\">0.2632</span><span style=\"font-weight: bold\">])</span>,\n",
       "            <span style=\"color: #800080; text-decoration-color: #800080; font-weight: bold\">tensor</span><span style=\"font-weight: bold\">([</span><span style=\"color: #008080; text-decoration-color: #008080; font-weight: bold\">0.1480</span>, <span style=\"color: #008080; text-decoration-color: #008080; font-weight: bold\">0.1730</span>, <span style=\"color: #008080; text-decoration-color: #008080; font-weight: bold\">0.1809</span>, <span style=\"color: #008080; text-decoration-color: #008080; font-weight: bold\">0.1562</span>, <span style=\"color: #008080; text-decoration-color: #008080; font-weight: bold\">0.1748</span>, <span style=\"color: #008080; text-decoration-color: #008080; font-weight: bold\">0.0112</span>, <span style=\"color: #008080; text-decoration-color: #008080; font-weight: bold\">0.0231</span><span style=\"font-weight: bold\">])</span>\n",
       "        <span style=\"font-weight: bold\">]</span>,\n",
       "        <span style=\"font-weight: bold\">[</span>\n",
       "            <span style=\"color: #800080; text-decoration-color: #800080; font-weight: bold\">tensor</span><span style=\"font-weight: bold\">([</span><span style=\"color: #008080; text-decoration-color: #008080; font-weight: bold\">0.1593</span>, <span style=\"color: #008080; text-decoration-color: #008080; font-weight: bold\">0.1172</span>, <span style=\"color: #008080; text-decoration-color: #008080; font-weight: bold\">0.1265</span>, <span style=\"color: #008080; text-decoration-color: #008080; font-weight: bold\">0.0648</span>, <span style=\"color: #008080; text-decoration-color: #008080; font-weight: bold\">0.0874</span>, <span style=\"color: #008080; text-decoration-color: #008080; font-weight: bold\">0.1436</span>, <span style=\"color: #008080; text-decoration-color: #008080; font-weight: bold\">0.1667</span><span style=\"font-weight: bold\">])</span>,\n",
       "            <span style=\"color: #800080; text-decoration-color: #800080; font-weight: bold\">tensor</span><span style=\"font-weight: bold\">([</span><span style=\"color: #008080; text-decoration-color: #008080; font-weight: bold\">0.1553</span>, <span style=\"color: #008080; text-decoration-color: #008080; font-weight: bold\">0.1840</span>, <span style=\"color: #008080; text-decoration-color: #008080; font-weight: bold\">0.1468</span>, <span style=\"color: #008080; text-decoration-color: #008080; font-weight: bold\">0.0614</span>, <span style=\"color: #008080; text-decoration-color: #008080; font-weight: bold\">0.0994</span>, <span style=\"color: #008080; text-decoration-color: #008080; font-weight: bold\">0.1186</span>, <span style=\"color: #008080; text-decoration-color: #008080; font-weight: bold\">0.1460</span><span style=\"font-weight: bold\">])</span>,\n",
       "            <span style=\"color: #800080; text-decoration-color: #800080; font-weight: bold\">tensor</span><span style=\"font-weight: bold\">([</span><span style=\"color: #008080; text-decoration-color: #008080; font-weight: bold\">0.1077</span>, <span style=\"color: #008080; text-decoration-color: #008080; font-weight: bold\">0.1214</span>, <span style=\"color: #008080; text-decoration-color: #008080; font-weight: bold\">0.0965</span>, <span style=\"color: #008080; text-decoration-color: #008080; font-weight: bold\">0.1082</span>, <span style=\"color: #008080; text-decoration-color: #008080; font-weight: bold\">0.1076</span>, <span style=\"color: #008080; text-decoration-color: #008080; font-weight: bold\">0.1675</span>, <span style=\"color: #008080; text-decoration-color: #008080; font-weight: bold\">0.2632</span><span style=\"font-weight: bold\">])</span>,\n",
       "            <span style=\"color: #800080; text-decoration-color: #800080; font-weight: bold\">tensor</span><span style=\"font-weight: bold\">([</span><span style=\"color: #008080; text-decoration-color: #008080; font-weight: bold\">0.1682</span>, <span style=\"color: #008080; text-decoration-color: #008080; font-weight: bold\">0.1702</span>, <span style=\"color: #008080; text-decoration-color: #008080; font-weight: bold\">0.1627</span>, <span style=\"color: #008080; text-decoration-color: #008080; font-weight: bold\">0.1560</span>, <span style=\"color: #008080; text-decoration-color: #008080; font-weight: bold\">0.1865</span>, <span style=\"color: #008080; text-decoration-color: #008080; font-weight: bold\">0.0183</span>, <span style=\"color: #008080; text-decoration-color: #008080; font-weight: bold\">0.0367</span><span style=\"font-weight: bold\">])</span>\n",
       "        <span style=\"font-weight: bold\">]</span>,\n",
       "        <span style=\"font-weight: bold\">[</span>\n",
       "            <span style=\"color: #800080; text-decoration-color: #800080; font-weight: bold\">tensor</span><span style=\"font-weight: bold\">([</span><span style=\"color: #008080; text-decoration-color: #008080; font-weight: bold\">0.1738</span>, <span style=\"color: #008080; text-decoration-color: #008080; font-weight: bold\">0.1187</span>, <span style=\"color: #008080; text-decoration-color: #008080; font-weight: bold\">0.1401</span>, <span style=\"color: #008080; text-decoration-color: #008080; font-weight: bold\">0.0824</span>, <span style=\"color: #008080; text-decoration-color: #008080; font-weight: bold\">0.0898</span>, <span style=\"color: #008080; text-decoration-color: #008080; font-weight: bold\">0.1436</span>, <span style=\"color: #008080; text-decoration-color: #008080; font-weight: bold\">0.1857</span><span style=\"font-weight: bold\">])</span>,\n",
       "            <span style=\"color: #800080; text-decoration-color: #800080; font-weight: bold\">tensor</span><span style=\"font-weight: bold\">([</span><span style=\"color: #008080; text-decoration-color: #008080; font-weight: bold\">0.1350</span>, <span style=\"color: #008080; text-decoration-color: #008080; font-weight: bold\">0.1691</span>, <span style=\"color: #008080; text-decoration-color: #008080; font-weight: bold\">0.1480</span>, <span style=\"color: #008080; text-decoration-color: #008080; font-weight: bold\">0.0606</span>, <span style=\"color: #008080; text-decoration-color: #008080; font-weight: bold\">0.1045</span>, <span style=\"color: #008080; text-decoration-color: #008080; font-weight: bold\">0.1207</span>, <span style=\"color: #008080; text-decoration-color: #008080; font-weight: bold\">0.1179</span><span style=\"font-weight: bold\">])</span>,\n",
       "            <span style=\"color: #800080; text-decoration-color: #800080; font-weight: bold\">tensor</span><span style=\"font-weight: bold\">([</span><span style=\"color: #008080; text-decoration-color: #008080; font-weight: bold\">0.1142</span>, <span style=\"color: #008080; text-decoration-color: #008080; font-weight: bold\">0.1292</span>, <span style=\"color: #008080; text-decoration-color: #008080; font-weight: bold\">0.1136</span>, <span style=\"color: #008080; text-decoration-color: #008080; font-weight: bold\">0.1130</span>, <span style=\"color: #008080; text-decoration-color: #008080; font-weight: bold\">0.1147</span>, <span style=\"color: #008080; text-decoration-color: #008080; font-weight: bold\">0.1675</span>, <span style=\"color: #008080; text-decoration-color: #008080; font-weight: bold\">0.2632</span><span style=\"font-weight: bold\">])</span>,\n",
       "            <span style=\"color: #800080; text-decoration-color: #800080; font-weight: bold\">tensor</span><span style=\"font-weight: bold\">([</span><span style=\"color: #008080; text-decoration-color: #008080; font-weight: bold\">0.1156</span>, <span style=\"color: #008080; text-decoration-color: #008080; font-weight: bold\">0.1105</span>, <span style=\"color: #008080; text-decoration-color: #008080; font-weight: bold\">0.1646</span>, <span style=\"color: #008080; text-decoration-color: #008080; font-weight: bold\">0.1458</span>, <span style=\"color: #008080; text-decoration-color: #008080; font-weight: bold\">0.1044</span>, <span style=\"color: #008080; text-decoration-color: #008080; font-weight: bold\">0.0122</span>, <span style=\"color: #008080; text-decoration-color: #008080; font-weight: bold\">0.0077</span><span style=\"font-weight: bold\">])</span>\n",
       "        <span style=\"font-weight: bold\">]</span>\n",
       "    <span style=\"font-weight: bold\">]</span>\n",
       "<span style=\"font-weight: bold\">}</span>\n",
       "</pre>\n"
      ]
     },
     "metadata": {},
     "output_type": "display_data"
    }
   ],
   "execution_count": 16
  },
  {
   "metadata": {
    "ExecuteTime": {
     "end_time": "2025-05-11T23:05:48.698479Z",
     "start_time": "2025-05-11T23:05:48.670015Z"
    }
   },
   "cell_type": "code",
   "source": [
    "dlist = dataset.domains\n",
    "\n",
    "for domain, acc in zip(dlist, RESULTS[\"TEST_ACC\"]):\n",
    "    print(f\"[bold green]{domain}[/bold green]: {acc:.2%}\")\n",
    "print(f\"[bold green]Average[/bold green]: {torch.mean(torch.tensor(RESULTS[\"TEST_ACC\"])).item():.2%}\")\n",
    "\n",
    "for domain, acc in zip(dlist, RESULTS[\"TEST_MACRO\"]):\n",
    "    print(f\"[bold green]{domain}[/bold green]: {acc:.2%}\")\n",
    "\n",
    "for domain, acc in zip(dlist, RESULTS[\"TEST_ACC_PER_DOMAIN\"]):\n",
    "    print(f\"[bold green]{domain}[/bold green]: {[f'{a:.2%}' for a in acc]}\")\n",
    "\n",
    "cls_to_idx = dataset.datasets[0].class_to_idx.copy()\n",
    "idx_to_cls = {v: k for k, v in cls_to_idx.items()}\n",
    "names = list(map(idx_to_cls.get, range(7)))\n",
    "print(names)\n",
    "for j, acc in enumerate(RESULTS[\"TEST_ACC_PER_CLASS\"]):\n",
    "    vals = {k: f\"{v.item():.2%}\" for i, (k, v) in enumerate(zip(names, acc[j]))}\n",
    "    print(f\"[bold green]{domains[j]}[/bold green]: {vals}\")\n"
   ],
   "id": "588cdd788b9d8219",
   "outputs": [
    {
     "data": {
      "text/plain": [
       "\u001B[1;32mart_painting\u001B[0m: \u001B[1;36m73.93\u001B[0m%\n"
      ],
      "text/html": [
       "<pre style=\"white-space:pre;overflow-x:auto;line-height:normal;font-family:Menlo,'DejaVu Sans Mono',consolas,'Courier New',monospace\"><span style=\"color: #008000; text-decoration-color: #008000; font-weight: bold\">art_painting</span>: <span style=\"color: #008080; text-decoration-color: #008080; font-weight: bold\">73.93</span>%\n",
       "</pre>\n"
      ]
     },
     "metadata": {},
     "output_type": "display_data"
    },
    {
     "data": {
      "text/plain": [
       "\u001B[1;32mcartoon\u001B[0m: \u001B[1;36m67.79\u001B[0m%\n"
      ],
      "text/html": [
       "<pre style=\"white-space:pre;overflow-x:auto;line-height:normal;font-family:Menlo,'DejaVu Sans Mono',consolas,'Courier New',monospace\"><span style=\"color: #008000; text-decoration-color: #008000; font-weight: bold\">cartoon</span>: <span style=\"color: #008080; text-decoration-color: #008080; font-weight: bold\">67.79</span>%\n",
       "</pre>\n"
      ]
     },
     "metadata": {},
     "output_type": "display_data"
    },
    {
     "data": {
      "text/plain": [
       "\u001B[1;32mphoto\u001B[0m: \u001B[1;36m94.86\u001B[0m%\n"
      ],
      "text/html": [
       "<pre style=\"white-space:pre;overflow-x:auto;line-height:normal;font-family:Menlo,'DejaVu Sans Mono',consolas,'Courier New',monospace\"><span style=\"color: #008000; text-decoration-color: #008000; font-weight: bold\">photo</span>: <span style=\"color: #008080; text-decoration-color: #008080; font-weight: bold\">94.86</span>%\n",
       "</pre>\n"
      ]
     },
     "metadata": {},
     "output_type": "display_data"
    },
    {
     "data": {
      "text/plain": [
       "\u001B[1;32msketch\u001B[0m: \u001B[1;36m65.50\u001B[0m%\n"
      ],
      "text/html": [
       "<pre style=\"white-space:pre;overflow-x:auto;line-height:normal;font-family:Menlo,'DejaVu Sans Mono',consolas,'Courier New',monospace\"><span style=\"color: #008000; text-decoration-color: #008000; font-weight: bold\">sketch</span>: <span style=\"color: #008080; text-decoration-color: #008080; font-weight: bold\">65.50</span>%\n",
       "</pre>\n"
      ]
     },
     "metadata": {},
     "output_type": "display_data"
    },
    {
     "data": {
      "text/plain": [
       "\u001B[1;32mAverage\u001B[0m: \u001B[1;36m75.52\u001B[0m%\n"
      ],
      "text/html": [
       "<pre style=\"white-space:pre;overflow-x:auto;line-height:normal;font-family:Menlo,'DejaVu Sans Mono',consolas,'Courier New',monospace\"><span style=\"color: #008000; text-decoration-color: #008000; font-weight: bold\">Average</span>: <span style=\"color: #008080; text-decoration-color: #008080; font-weight: bold\">75.52</span>%\n",
       "</pre>\n"
      ]
     },
     "metadata": {},
     "output_type": "display_data"
    },
    {
     "data": {
      "text/plain": [
       "\u001B[1;32mart_painting\u001B[0m: \u001B[1;36m43.54\u001B[0m%\n"
      ],
      "text/html": [
       "<pre style=\"white-space:pre;overflow-x:auto;line-height:normal;font-family:Menlo,'DejaVu Sans Mono',consolas,'Courier New',monospace\"><span style=\"color: #008000; text-decoration-color: #008000; font-weight: bold\">art_painting</span>: <span style=\"color: #008080; text-decoration-color: #008080; font-weight: bold\">43.54</span>%\n",
       "</pre>\n"
      ]
     },
     "metadata": {},
     "output_type": "display_data"
    },
    {
     "data": {
      "text/plain": [
       "\u001B[1;32mcartoon\u001B[0m: \u001B[1;36m39.09\u001B[0m%\n"
      ],
      "text/html": [
       "<pre style=\"white-space:pre;overflow-x:auto;line-height:normal;font-family:Menlo,'DejaVu Sans Mono',consolas,'Courier New',monospace\"><span style=\"color: #008000; text-decoration-color: #008000; font-weight: bold\">cartoon</span>: <span style=\"color: #008080; text-decoration-color: #008080; font-weight: bold\">39.09</span>%\n",
       "</pre>\n"
      ]
     },
     "metadata": {},
     "output_type": "display_data"
    },
    {
     "data": {
      "text/plain": [
       "\u001B[1;32mphoto\u001B[0m: \u001B[1;36m82.37\u001B[0m%\n"
      ],
      "text/html": [
       "<pre style=\"white-space:pre;overflow-x:auto;line-height:normal;font-family:Menlo,'DejaVu Sans Mono',consolas,'Courier New',monospace\"><span style=\"color: #008000; text-decoration-color: #008000; font-weight: bold\">photo</span>: <span style=\"color: #008080; text-decoration-color: #008080; font-weight: bold\">82.37</span>%\n",
       "</pre>\n"
      ]
     },
     "metadata": {},
     "output_type": "display_data"
    },
    {
     "data": {
      "text/plain": [
       "\u001B[1;32msketch\u001B[0m: \u001B[1;36m34.78\u001B[0m%\n"
      ],
      "text/html": [
       "<pre style=\"white-space:pre;overflow-x:auto;line-height:normal;font-family:Menlo,'DejaVu Sans Mono',consolas,'Courier New',monospace\"><span style=\"color: #008000; text-decoration-color: #008000; font-weight: bold\">sketch</span>: <span style=\"color: #008080; text-decoration-color: #008080; font-weight: bold\">34.78</span>%\n",
       "</pre>\n"
      ]
     },
     "metadata": {},
     "output_type": "display_data"
    },
    {
     "data": {
      "text/plain": [
       "\u001B[1;32mart_painting\u001B[0m: \u001B[1m[\u001B[0m\u001B[32m'73.93%'\u001B[0m, \u001B[32m'85.84%'\u001B[0m, \u001B[32m'98.21%'\u001B[0m, \u001B[32m'87.40%'\u001B[0m\u001B[1m]\u001B[0m\n"
      ],
      "text/html": [
       "<pre style=\"white-space:pre;overflow-x:auto;line-height:normal;font-family:Menlo,'DejaVu Sans Mono',consolas,'Courier New',monospace\"><span style=\"color: #008000; text-decoration-color: #008000; font-weight: bold\">art_painting</span>: <span style=\"font-weight: bold\">[</span><span style=\"color: #008000; text-decoration-color: #008000\">'73.93%'</span>, <span style=\"color: #008000; text-decoration-color: #008000\">'85.84%'</span>, <span style=\"color: #008000; text-decoration-color: #008000\">'98.21%'</span>, <span style=\"color: #008000; text-decoration-color: #008000\">'87.40%'</span><span style=\"font-weight: bold\">]</span>\n",
       "</pre>\n"
      ]
     },
     "metadata": {},
     "output_type": "display_data"
    },
    {
     "data": {
      "text/plain": [
       "\u001B[1;32mcartoon\u001B[0m: \u001B[1m[\u001B[0m\u001B[32m'91.21%'\u001B[0m, \u001B[32m'67.79%'\u001B[0m, \u001B[32m'98.68%'\u001B[0m, \u001B[32m'86.08%'\u001B[0m\u001B[1m]\u001B[0m\n"
      ],
      "text/html": [
       "<pre style=\"white-space:pre;overflow-x:auto;line-height:normal;font-family:Menlo,'DejaVu Sans Mono',consolas,'Courier New',monospace\"><span style=\"color: #008000; text-decoration-color: #008000; font-weight: bold\">cartoon</span>: <span style=\"font-weight: bold\">[</span><span style=\"color: #008000; text-decoration-color: #008000\">'91.21%'</span>, <span style=\"color: #008000; text-decoration-color: #008000\">'67.79%'</span>, <span style=\"color: #008000; text-decoration-color: #008000\">'98.68%'</span>, <span style=\"color: #008000; text-decoration-color: #008000\">'86.08%'</span><span style=\"font-weight: bold\">]</span>\n",
       "</pre>\n"
      ]
     },
     "metadata": {},
     "output_type": "display_data"
    },
    {
     "data": {
      "text/plain": [
       "\u001B[1;32mphoto\u001B[0m: \u001B[1m[\u001B[0m\u001B[32m'85.11%'\u001B[0m, \u001B[32m'89.59%'\u001B[0m, \u001B[32m'94.86%'\u001B[0m, \u001B[32m'89.10%'\u001B[0m\u001B[1m]\u001B[0m\n"
      ],
      "text/html": [
       "<pre style=\"white-space:pre;overflow-x:auto;line-height:normal;font-family:Menlo,'DejaVu Sans Mono',consolas,'Courier New',monospace\"><span style=\"color: #008000; text-decoration-color: #008000; font-weight: bold\">photo</span>: <span style=\"font-weight: bold\">[</span><span style=\"color: #008000; text-decoration-color: #008000\">'85.11%'</span>, <span style=\"color: #008000; text-decoration-color: #008000\">'89.59%'</span>, <span style=\"color: #008000; text-decoration-color: #008000\">'94.86%'</span>, <span style=\"color: #008000; text-decoration-color: #008000\">'89.10%'</span><span style=\"font-weight: bold\">]</span>\n",
       "</pre>\n"
      ]
     },
     "metadata": {},
     "output_type": "display_data"
    },
    {
     "data": {
      "text/plain": [
       "\u001B[1;32msketch\u001B[0m: \u001B[1m[\u001B[0m\u001B[32m'91.50%'\u001B[0m, \u001B[32m'84.09%'\u001B[0m, \u001B[32m'99.16%'\u001B[0m, \u001B[32m'65.50%'\u001B[0m\u001B[1m]\u001B[0m\n"
      ],
      "text/html": [
       "<pre style=\"white-space:pre;overflow-x:auto;line-height:normal;font-family:Menlo,'DejaVu Sans Mono',consolas,'Courier New',monospace\"><span style=\"color: #008000; text-decoration-color: #008000; font-weight: bold\">sketch</span>: <span style=\"font-weight: bold\">[</span><span style=\"color: #008000; text-decoration-color: #008000\">'91.50%'</span>, <span style=\"color: #008000; text-decoration-color: #008000\">'84.09%'</span>, <span style=\"color: #008000; text-decoration-color: #008000\">'99.16%'</span>, <span style=\"color: #008000; text-decoration-color: #008000\">'65.50%'</span><span style=\"font-weight: bold\">]</span>\n",
       "</pre>\n"
      ]
     },
     "metadata": {},
     "output_type": "display_data"
    },
    {
     "data": {
      "text/plain": [
       "\u001B[1m[\u001B[0m\u001B[32m'dog'\u001B[0m, \u001B[32m'elephant'\u001B[0m, \u001B[32m'giraffe'\u001B[0m, \u001B[32m'guitar'\u001B[0m, \u001B[32m'horse'\u001B[0m, \u001B[32m'house'\u001B[0m, \u001B[32m'person'\u001B[0m\u001B[1m]\u001B[0m\n"
      ],
      "text/html": [
       "<pre style=\"white-space:pre;overflow-x:auto;line-height:normal;font-family:Menlo,'DejaVu Sans Mono',consolas,'Courier New',monospace\"><span style=\"font-weight: bold\">[</span><span style=\"color: #008000; text-decoration-color: #008000\">'dog'</span>, <span style=\"color: #008000; text-decoration-color: #008000\">'elephant'</span>, <span style=\"color: #008000; text-decoration-color: #008000\">'giraffe'</span>, <span style=\"color: #008000; text-decoration-color: #008000\">'guitar'</span>, <span style=\"color: #008000; text-decoration-color: #008000\">'horse'</span>, <span style=\"color: #008000; text-decoration-color: #008000\">'house'</span>, <span style=\"color: #008000; text-decoration-color: #008000\">'person'</span><span style=\"font-weight: bold\">]</span>\n",
       "</pre>\n"
      ]
     },
     "metadata": {},
     "output_type": "display_data"
    },
    {
     "data": {
      "text/plain": [
       "\u001B[1;32mart_painting\u001B[0m: \u001B[1m{\u001B[0m\u001B[32m'dog'\u001B[0m: \u001B[32m'14.27%'\u001B[0m, \u001B[32m'elephant'\u001B[0m: \u001B[32m'8.29%'\u001B[0m, \u001B[32m'giraffe'\u001B[0m: \u001B[32m'13.28%'\u001B[0m, \u001B[32m'guitar'\u001B[0m: \u001B[32m'4.22%'\u001B[0m, \u001B[32m'horse'\u001B[0m: \u001B[32m'7.13%'\u001B[0m, \n",
       "\u001B[32m'house'\u001B[0m: \u001B[32m'14.26%'\u001B[0m, \u001B[32m'person'\u001B[0m: \u001B[32m'13.63%'\u001B[0m\u001B[1m}\u001B[0m\n"
      ],
      "text/html": [
       "<pre style=\"white-space:pre;overflow-x:auto;line-height:normal;font-family:Menlo,'DejaVu Sans Mono',consolas,'Courier New',monospace\"><span style=\"color: #008000; text-decoration-color: #008000; font-weight: bold\">art_painting</span>: <span style=\"font-weight: bold\">{</span><span style=\"color: #008000; text-decoration-color: #008000\">'dog'</span>: <span style=\"color: #008000; text-decoration-color: #008000\">'14.27%'</span>, <span style=\"color: #008000; text-decoration-color: #008000\">'elephant'</span>: <span style=\"color: #008000; text-decoration-color: #008000\">'8.29%'</span>, <span style=\"color: #008000; text-decoration-color: #008000\">'giraffe'</span>: <span style=\"color: #008000; text-decoration-color: #008000\">'13.28%'</span>, <span style=\"color: #008000; text-decoration-color: #008000\">'guitar'</span>: <span style=\"color: #008000; text-decoration-color: #008000\">'4.22%'</span>, <span style=\"color: #008000; text-decoration-color: #008000\">'horse'</span>: <span style=\"color: #008000; text-decoration-color: #008000\">'7.13%'</span>, \n",
       "<span style=\"color: #008000; text-decoration-color: #008000\">'house'</span>: <span style=\"color: #008000; text-decoration-color: #008000\">'14.26%'</span>, <span style=\"color: #008000; text-decoration-color: #008000\">'person'</span>: <span style=\"color: #008000; text-decoration-color: #008000\">'13.63%'</span><span style=\"font-weight: bold\">}</span>\n",
       "</pre>\n"
      ]
     },
     "metadata": {},
     "output_type": "display_data"
    },
    {
     "data": {
      "text/plain": [
       "\u001B[1;32mcartoon\u001B[0m: \u001B[1m{\u001B[0m\u001B[32m'dog'\u001B[0m: \u001B[32m'12.01%'\u001B[0m, \u001B[32m'elephant'\u001B[0m: \u001B[32m'12.47%'\u001B[0m, \u001B[32m'giraffe'\u001B[0m: \u001B[32m'13.28%'\u001B[0m, \u001B[32m'guitar'\u001B[0m: \u001B[32m'6.14%'\u001B[0m, \u001B[32m'horse'\u001B[0m: \u001B[32m'4.99%'\u001B[0m, \u001B[32m'house'\u001B[0m:\n",
       "\u001B[32m'11.26%'\u001B[0m, \u001B[32m'person'\u001B[0m: \u001B[32m'8.69%'\u001B[0m\u001B[1m}\u001B[0m\n"
      ],
      "text/html": [
       "<pre style=\"white-space:pre;overflow-x:auto;line-height:normal;font-family:Menlo,'DejaVu Sans Mono',consolas,'Courier New',monospace\"><span style=\"color: #008000; text-decoration-color: #008000; font-weight: bold\">cartoon</span>: <span style=\"font-weight: bold\">{</span><span style=\"color: #008000; text-decoration-color: #008000\">'dog'</span>: <span style=\"color: #008000; text-decoration-color: #008000\">'12.01%'</span>, <span style=\"color: #008000; text-decoration-color: #008000\">'elephant'</span>: <span style=\"color: #008000; text-decoration-color: #008000\">'12.47%'</span>, <span style=\"color: #008000; text-decoration-color: #008000\">'giraffe'</span>: <span style=\"color: #008000; text-decoration-color: #008000\">'13.28%'</span>, <span style=\"color: #008000; text-decoration-color: #008000\">'guitar'</span>: <span style=\"color: #008000; text-decoration-color: #008000\">'6.14%'</span>, <span style=\"color: #008000; text-decoration-color: #008000\">'horse'</span>: <span style=\"color: #008000; text-decoration-color: #008000\">'4.99%'</span>, <span style=\"color: #008000; text-decoration-color: #008000\">'house'</span>:\n",
       "<span style=\"color: #008000; text-decoration-color: #008000\">'11.26%'</span>, <span style=\"color: #008000; text-decoration-color: #008000\">'person'</span>: <span style=\"color: #008000; text-decoration-color: #008000\">'8.69%'</span><span style=\"font-weight: bold\">}</span>\n",
       "</pre>\n"
      ]
     },
     "metadata": {},
     "output_type": "display_data"
    },
    {
     "data": {
      "text/plain": [
       "\u001B[1;32mphoto\u001B[0m: \u001B[1m{\u001B[0m\u001B[32m'dog'\u001B[0m: \u001B[32m'10.77%'\u001B[0m, \u001B[32m'elephant'\u001B[0m: \u001B[32m'12.14%'\u001B[0m, \u001B[32m'giraffe'\u001B[0m: \u001B[32m'9.65%'\u001B[0m, \u001B[32m'guitar'\u001B[0m: \u001B[32m'10.82%'\u001B[0m, \u001B[32m'horse'\u001B[0m: \u001B[32m'10.76%'\u001B[0m, \u001B[32m'house'\u001B[0m: \n",
       "\u001B[32m'16.75%'\u001B[0m, \u001B[32m'person'\u001B[0m: \u001B[32m'26.32%'\u001B[0m\u001B[1m}\u001B[0m\n"
      ],
      "text/html": [
       "<pre style=\"white-space:pre;overflow-x:auto;line-height:normal;font-family:Menlo,'DejaVu Sans Mono',consolas,'Courier New',monospace\"><span style=\"color: #008000; text-decoration-color: #008000; font-weight: bold\">photo</span>: <span style=\"font-weight: bold\">{</span><span style=\"color: #008000; text-decoration-color: #008000\">'dog'</span>: <span style=\"color: #008000; text-decoration-color: #008000\">'10.77%'</span>, <span style=\"color: #008000; text-decoration-color: #008000\">'elephant'</span>: <span style=\"color: #008000; text-decoration-color: #008000\">'12.14%'</span>, <span style=\"color: #008000; text-decoration-color: #008000\">'giraffe'</span>: <span style=\"color: #008000; text-decoration-color: #008000\">'9.65%'</span>, <span style=\"color: #008000; text-decoration-color: #008000\">'guitar'</span>: <span style=\"color: #008000; text-decoration-color: #008000\">'10.82%'</span>, <span style=\"color: #008000; text-decoration-color: #008000\">'horse'</span>: <span style=\"color: #008000; text-decoration-color: #008000\">'10.76%'</span>, <span style=\"color: #008000; text-decoration-color: #008000\">'house'</span>: \n",
       "<span style=\"color: #008000; text-decoration-color: #008000\">'16.75%'</span>, <span style=\"color: #008000; text-decoration-color: #008000\">'person'</span>: <span style=\"color: #008000; text-decoration-color: #008000\">'26.32%'</span><span style=\"font-weight: bold\">}</span>\n",
       "</pre>\n"
      ]
     },
     "metadata": {},
     "output_type": "display_data"
    },
    {
     "data": {
      "text/plain": [
       "\u001B[1;32msketch\u001B[0m: \u001B[1m{\u001B[0m\u001B[32m'dog'\u001B[0m: \u001B[32m'11.56%'\u001B[0m, \u001B[32m'elephant'\u001B[0m: \u001B[32m'11.05%'\u001B[0m, \u001B[32m'giraffe'\u001B[0m: \u001B[32m'16.46%'\u001B[0m, \u001B[32m'guitar'\u001B[0m: \u001B[32m'14.58%'\u001B[0m, \u001B[32m'horse'\u001B[0m: \u001B[32m'10.44%'\u001B[0m, \n",
       "\u001B[32m'house'\u001B[0m: \u001B[32m'1.22%'\u001B[0m, \u001B[32m'person'\u001B[0m: \u001B[32m'0.77%'\u001B[0m\u001B[1m}\u001B[0m\n"
      ],
      "text/html": [
       "<pre style=\"white-space:pre;overflow-x:auto;line-height:normal;font-family:Menlo,'DejaVu Sans Mono',consolas,'Courier New',monospace\"><span style=\"color: #008000; text-decoration-color: #008000; font-weight: bold\">sketch</span>: <span style=\"font-weight: bold\">{</span><span style=\"color: #008000; text-decoration-color: #008000\">'dog'</span>: <span style=\"color: #008000; text-decoration-color: #008000\">'11.56%'</span>, <span style=\"color: #008000; text-decoration-color: #008000\">'elephant'</span>: <span style=\"color: #008000; text-decoration-color: #008000\">'11.05%'</span>, <span style=\"color: #008000; text-decoration-color: #008000\">'giraffe'</span>: <span style=\"color: #008000; text-decoration-color: #008000\">'16.46%'</span>, <span style=\"color: #008000; text-decoration-color: #008000\">'guitar'</span>: <span style=\"color: #008000; text-decoration-color: #008000\">'14.58%'</span>, <span style=\"color: #008000; text-decoration-color: #008000\">'horse'</span>: <span style=\"color: #008000; text-decoration-color: #008000\">'10.44%'</span>, \n",
       "<span style=\"color: #008000; text-decoration-color: #008000\">'house'</span>: <span style=\"color: #008000; text-decoration-color: #008000\">'1.22%'</span>, <span style=\"color: #008000; text-decoration-color: #008000\">'person'</span>: <span style=\"color: #008000; text-decoration-color: #008000\">'0.77%'</span><span style=\"font-weight: bold\">}</span>\n",
       "</pre>\n"
      ]
     },
     "metadata": {},
     "output_type": "display_data"
    }
   ],
   "execution_count": 19
  },
  {
   "metadata": {
    "ExecuteTime": {
     "end_time": "2025-05-12T13:49:47.511646Z",
     "start_time": "2025-05-12T13:49:47.495877Z"
    }
   },
   "cell_type": "code",
   "source": [
    "import torch\n",
    "from torchmetrics.classification import (\n",
    "    MulticlassAccuracy,\n",
    "    MulticlassF1Score,\n",
    "    MulticlassPrecision,\n",
    "    MulticlassRecall\n",
    ")\n",
    "\n",
    "# Parameters\n",
    "num_classes = 7\n",
    "domains = dataset.domains\n",
    "print(f\"Domains: {domains}\")\n",
    "\n",
    "# Helper\n",
    "domain_to_idx = {domain.lower(): i for i, domain in enumerate(domains)}\n",
    "\n",
    "# MLDG MODEL\n",
    "# RESULTS = {\n",
    "#     \"CHECKPOINTS\": [\n",
    "#         \"../dump/wobbly-disco-103_val.ckpt\",  # sketch\n",
    "#         \"../dump/lively-violet-104_val.ckpt\",  # photo\n",
    "#         \"../dump/breezy-pond-105_val.ckpt\",  # cartoon\n",
    "#         \"../dump/deep-wave-107_val.ckpt\",  # art\n",
    "#     ],\n",
    "#     \"TEST_DOMAIN\": [  # to make sure we dont mix up things\n",
    "#         \"Sketch\",\n",
    "#         \"Photo\",\n",
    "#         \"Cartoon\",\n",
    "#         \"Art_Painting\"\n",
    "#     ],\n",
    "#     \"METRIC_SUMMARY\": [],\n",
    "# }\n",
    "\n",
    "\n",
    "# BASELINE\n",
    "RESULTS = {\n",
    "    \"CHECKPOINTS\": [\n",
    "        \"../dump/devout-rain-112_val.ckpt\",  # sketch\n",
    "        \"../dump/wobbly-shape-113_val.ckpt\",  # photo\n",
    "        \"../dump/clean-dust-114_val.ckpt\",  # cartoon\n",
    "        \"../dump/vital-bird-115_val.ckpt\",  # art\n",
    "    ],\n",
    "    \"TEST_DOMAIN\": [  # to make sure we dont mix up things\n",
    "        \"Sketch\",\n",
    "        \"Photo\",\n",
    "        \"Cartoon\",\n",
    "        \"Art_Painting\"\n",
    "    ],\n",
    "    \"METRIC_SUMMARY\": [],\n",
    "}\n",
    "\n",
    "args.baseline = True\n",
    "\n",
    "args.nonlinear_classifier = True\n",
    "\n",
    "print(f\"Checkpoints to load: {\n",
    "    [(check, test) for check, test in zip(RESULTS['CHECKPOINTS'], RESULTS['TEST_DOMAIN'])]\n",
    "}\")\n",
    "print(args)"
   ],
   "id": "18c0654b6855a74e",
   "outputs": [
    {
     "data": {
      "text/plain": [
       "Domains: \u001B[1m[\u001B[0m\u001B[32m'art_painting'\u001B[0m, \u001B[32m'cartoon'\u001B[0m, \u001B[32m'photo'\u001B[0m, \u001B[32m'sketch'\u001B[0m\u001B[1m]\u001B[0m\n"
      ],
      "text/html": [
       "<pre style=\"white-space:pre;overflow-x:auto;line-height:normal;font-family:Menlo,'DejaVu Sans Mono',consolas,'Courier New',monospace\">Domains: <span style=\"font-weight: bold\">[</span><span style=\"color: #008000; text-decoration-color: #008000\">'art_painting'</span>, <span style=\"color: #008000; text-decoration-color: #008000\">'cartoon'</span>, <span style=\"color: #008000; text-decoration-color: #008000\">'photo'</span>, <span style=\"color: #008000; text-decoration-color: #008000\">'sketch'</span><span style=\"font-weight: bold\">]</span>\n",
       "</pre>\n"
      ]
     },
     "metadata": {},
     "output_type": "display_data"
    },
    {
     "data": {
      "text/plain": [
       "Checkpoints to load: \u001B[1m[\u001B[0m\u001B[1m(\u001B[0m\u001B[32m'../dump/devout-rain-112_val.ckpt'\u001B[0m, \u001B[32m'Sketch'\u001B[0m\u001B[1m)\u001B[0m, \u001B[1m(\u001B[0m\u001B[32m'../dump/wobbly-shape-113_val.ckpt'\u001B[0m, \n",
       "\u001B[32m'Photo'\u001B[0m\u001B[1m)\u001B[0m, \u001B[1m(\u001B[0m\u001B[32m'../dump/clean-dust-114_val.ckpt'\u001B[0m, \u001B[32m'Cartoon'\u001B[0m\u001B[1m)\u001B[0m, \u001B[1m(\u001B[0m\u001B[32m'../dump/vital-bird-115_val.ckpt'\u001B[0m, \u001B[32m'Art_Painting'\u001B[0m\u001B[1m)\u001B[0m\u001B[1m]\u001B[0m\n"
      ],
      "text/html": [
       "<pre style=\"white-space:pre;overflow-x:auto;line-height:normal;font-family:Menlo,'DejaVu Sans Mono',consolas,'Courier New',monospace\">Checkpoints to load: <span style=\"font-weight: bold\">[(</span><span style=\"color: #008000; text-decoration-color: #008000\">'../dump/devout-rain-112_val.ckpt'</span>, <span style=\"color: #008000; text-decoration-color: #008000\">'Sketch'</span><span style=\"font-weight: bold\">)</span>, <span style=\"font-weight: bold\">(</span><span style=\"color: #008000; text-decoration-color: #008000\">'../dump/wobbly-shape-113_val.ckpt'</span>, \n",
       "<span style=\"color: #008000; text-decoration-color: #008000\">'Photo'</span><span style=\"font-weight: bold\">)</span>, <span style=\"font-weight: bold\">(</span><span style=\"color: #008000; text-decoration-color: #008000\">'../dump/clean-dust-114_val.ckpt'</span>, <span style=\"color: #008000; text-decoration-color: #008000\">'Cartoon'</span><span style=\"font-weight: bold\">)</span>, <span style=\"font-weight: bold\">(</span><span style=\"color: #008000; text-decoration-color: #008000\">'../dump/vital-bird-115_val.ckpt'</span>, <span style=\"color: #008000; text-decoration-color: #008000\">'Art_Painting'</span><span style=\"font-weight: bold\">)]</span>\n",
       "</pre>\n"
      ]
     },
     "metadata": {},
     "output_type": "display_data"
    },
    {
     "data": {
      "text/plain": [
       "\u001B[1;35mnamespace\u001B[0m\u001B[1m(\u001B[0m\u001B[33mnum_classes\u001B[0m=\u001B[1;36m7\u001B[0m, \u001B[33mbatch_size\u001B[0m=\u001B[1;36m8\u001B[0m, \u001B[33mnonlinear_classifier\u001B[0m=\u001B[3;92mTrue\u001B[0m, \u001B[33mdropout\u001B[0m=\u001B[1;36m0\u001B[0m\u001B[1;36m.0\u001B[0m, \u001B[33mlr\u001B[0m=\u001B[1;36m1e\u001B[0m\u001B[1;36m-05\u001B[0m, \u001B[33mweight_decay\u001B[0m=\u001B[1;36m0\u001B[0m\u001B[1;36m.0\u001B[0m, \n",
       "\u001B[33mbeta\u001B[0m=\u001B[1;36m1\u001B[0m\u001B[1;36m.0\u001B[0m, \u001B[33mbaseline\u001B[0m=\u001B[3;92mTrue\u001B[0m\u001B[1m)\u001B[0m\n"
      ],
      "text/html": [
       "<pre style=\"white-space:pre;overflow-x:auto;line-height:normal;font-family:Menlo,'DejaVu Sans Mono',consolas,'Courier New',monospace\"><span style=\"color: #800080; text-decoration-color: #800080; font-weight: bold\">namespace</span><span style=\"font-weight: bold\">(</span><span style=\"color: #808000; text-decoration-color: #808000\">num_classes</span>=<span style=\"color: #008080; text-decoration-color: #008080; font-weight: bold\">7</span>, <span style=\"color: #808000; text-decoration-color: #808000\">batch_size</span>=<span style=\"color: #008080; text-decoration-color: #008080; font-weight: bold\">8</span>, <span style=\"color: #808000; text-decoration-color: #808000\">nonlinear_classifier</span>=<span style=\"color: #00ff00; text-decoration-color: #00ff00; font-style: italic\">True</span>, <span style=\"color: #808000; text-decoration-color: #808000\">dropout</span>=<span style=\"color: #008080; text-decoration-color: #008080; font-weight: bold\">0.0</span>, <span style=\"color: #808000; text-decoration-color: #808000\">lr</span>=<span style=\"color: #008080; text-decoration-color: #008080; font-weight: bold\">1e-05</span>, <span style=\"color: #808000; text-decoration-color: #808000\">weight_decay</span>=<span style=\"color: #008080; text-decoration-color: #008080; font-weight: bold\">0.0</span>, \n",
       "<span style=\"color: #808000; text-decoration-color: #808000\">beta</span>=<span style=\"color: #008080; text-decoration-color: #008080; font-weight: bold\">1.0</span>, <span style=\"color: #808000; text-decoration-color: #808000\">baseline</span>=<span style=\"color: #00ff00; text-decoration-color: #00ff00; font-style: italic\">True</span><span style=\"font-weight: bold\">)</span>\n",
       "</pre>\n"
      ]
     },
     "metadata": {},
     "output_type": "display_data"
    }
   ],
   "execution_count": 12
  },
  {
   "metadata": {
    "ExecuteTime": {
     "end_time": "2025-05-12T13:51:03.082922Z",
     "start_time": "2025-05-12T13:50:05.352586Z"
    }
   },
   "cell_type": "code",
   "source": [
    "\n",
    "with progress_bar:\n",
    "    for i, (CHECKPOINT, DOMAIN) in enumerate(zip(RESULTS[\"CHECKPOINTS\"], RESULTS[\"TEST_DOMAIN\"])):\n",
    "        model = load_model(CHECKPOINT, args)\n",
    "        loader = loaders[domain_to_idx[RESULTS[\"TEST_DOMAIN\"][i].lower()]]\n",
    "        task = progress_bar.add_task(\n",
    "            description=f\"Testing {dataset.domains[i]}\",\n",
    "            total=len(loader),\n",
    "            metrics=\"--\"\n",
    "        )\n",
    "\n",
    "\n",
    "        # Define metric objects (stateful across batches)\n",
    "        metric_acc = MulticlassAccuracy(num_classes=num_classes, average='micro')\n",
    "        metric_f1_macro = MulticlassF1Score(num_classes=num_classes, average='macro')\n",
    "        metric_f1_weighted = MulticlassF1Score(num_classes=num_classes, average='weighted')\n",
    "        metric_precision = MulticlassPrecision(num_classes=num_classes, average=None)\n",
    "        metric_recall = MulticlassRecall(num_classes=num_classes, average=None)\n",
    "        metric_f1_per_class = MulticlassF1Score(num_classes=num_classes, average=None)\n",
    "\n",
    "        metric_acc = metric_acc.to(device)\n",
    "        metric_f1_macro = metric_f1_macro.to(device)\n",
    "        metric_f1_weighted = metric_f1_weighted.to(device)\n",
    "        metric_precision = metric_precision.to(device)\n",
    "        metric_recall = metric_recall.to(device)\n",
    "        metric_f1_per_class = metric_f1_per_class.to(device)\n",
    "\n",
    "\n",
    "        for batch in loader:\n",
    "            with torch.inference_mode():\n",
    "                # Compute stuff\n",
    "                (_, x, y_true) = batch\n",
    "                x, y_true = x.to(model.device), y_true.to(model.device)\n",
    "                logits = model.network(x)\n",
    "                probs = torch.nn.functional.softmax(logits, dim=1)\n",
    "                y_pred = torch.argmax(probs, dim=1)\n",
    "\n",
    "                 # Update metrics\n",
    "                metric_acc.update(y_pred, y_true)\n",
    "                metric_f1_macro.update(y_pred, y_true)\n",
    "                metric_f1_weighted.update(y_pred, y_true)\n",
    "                metric_precision.update(y_pred, y_true)\n",
    "                metric_recall.update(y_pred, y_true)\n",
    "                metric_f1_per_class.update(y_pred, y_true)\n",
    "\n",
    "            progress_bar.update(\n",
    "                task,\n",
    "                advance=1,\n",
    "                metrics=f\"acc: {metric_acc.compute():.4f}\",\n",
    "            )\n",
    "\n",
    "        # Compute final results\n",
    "        acc = metric_acc.compute()\n",
    "        f1_macro = metric_f1_macro.compute()\n",
    "        f1_weighted = metric_f1_weighted.compute()\n",
    "        precision_per_class = metric_precision.compute()\n",
    "        recall_per_class = metric_recall.compute()\n",
    "        f1_per_class = metric_f1_per_class.compute()\n",
    "\n",
    "        RESULTS[\"METRIC_SUMMARY\"].append({\n",
    "            \"acc\": acc,\n",
    "            \"f1_macro\": f1_macro,\n",
    "            \"f1_weighted\": f1_weighted,\n",
    "            \"precision_per_class\": precision_per_class,\n",
    "            \"recall_per_class\": recall_per_class,\n",
    "            \"f1_per_class\": f1_per_class,\n",
    "        })\n",
    "\n",
    "\n",
    "        # Display results\n",
    "        print(f\"=== {DOMAIN.lower()} ===\")\n",
    "        print(f\"Micro Accuracy:     {acc:.4f}\")\n",
    "        print(f\"Macro F1 Score:     {f1_macro:.4f}\")\n",
    "        print(f\"Weighted F1 Score:  {f1_weighted:.4f}\\n\")\n",
    "\n",
    "        for i in range(num_classes):\n",
    "            print(f\"Class {i}: \"\n",
    "                  f\"Precision={precision_per_class[i]:.4f}  \"\n",
    "                  f\"Recall={recall_per_class[i]:.4f} \"\n",
    "                  f\"F1={f1_per_class[i]:.4f}\")\n"
   ],
   "id": "78c8ec833a9eea12",
   "outputs": [
    {
     "data": {
      "text/plain": [
       "=== sketch ===\n"
      ],
      "text/html": [
       "<pre style=\"white-space:pre;overflow-x:auto;line-height:normal;font-family:Menlo,'DejaVu Sans Mono',consolas,'Courier New',monospace\">=== sketch ===\n",
       "</pre>\n"
      ]
     },
     "metadata": {},
     "output_type": "display_data"
    },
    {
     "data": {
      "text/plain": [
       "Micro Accuracy:     \u001B[1;36m0.7160\u001B[0m\n"
      ],
      "text/html": [
       "<pre style=\"white-space:pre;overflow-x:auto;line-height:normal;font-family:Menlo,'DejaVu Sans Mono',consolas,'Courier New',monospace\">Micro Accuracy:     <span style=\"color: #008080; text-decoration-color: #008080; font-weight: bold\">0.7160</span>\n",
       "</pre>\n"
      ]
     },
     "metadata": {},
     "output_type": "display_data"
    },
    {
     "data": {
      "text/plain": [
       "Macro F1 Score:     \u001B[1;36m0.7200\u001B[0m\n"
      ],
      "text/html": [
       "<pre style=\"white-space:pre;overflow-x:auto;line-height:normal;font-family:Menlo,'DejaVu Sans Mono',consolas,'Courier New',monospace\">Macro F1 Score:     <span style=\"color: #008080; text-decoration-color: #008080; font-weight: bold\">0.7200</span>\n",
       "</pre>\n"
      ]
     },
     "metadata": {},
     "output_type": "display_data"
    },
    {
     "data": {
      "text/plain": [
       "Weighted F1 Score:  \u001B[1;36m0.7371\u001B[0m\n",
       "\n"
      ],
      "text/html": [
       "<pre style=\"white-space:pre;overflow-x:auto;line-height:normal;font-family:Menlo,'DejaVu Sans Mono',consolas,'Courier New',monospace\">Weighted F1 Score:  <span style=\"color: #008080; text-decoration-color: #008080; font-weight: bold\">0.7371</span>\n",
       "\n",
       "</pre>\n"
      ]
     },
     "metadata": {},
     "output_type": "display_data"
    },
    {
     "data": {
      "text/plain": [
       "Class \u001B[1;36m0\u001B[0m: \u001B[33mPrecision\u001B[0m=\u001B[1;36m0\u001B[0m\u001B[1;36m.7373\u001B[0m  \u001B[33mRecall\u001B[0m=\u001B[1;36m0\u001B[0m\u001B[1;36m.5997\u001B[0m \u001B[33mF1\u001B[0m=\u001B[1;36m0\u001B[0m\u001B[1;36m.6614\u001B[0m\n"
      ],
      "text/html": [
       "<pre style=\"white-space:pre;overflow-x:auto;line-height:normal;font-family:Menlo,'DejaVu Sans Mono',consolas,'Courier New',monospace\">Class <span style=\"color: #008080; text-decoration-color: #008080; font-weight: bold\">0</span>: <span style=\"color: #808000; text-decoration-color: #808000\">Precision</span>=<span style=\"color: #008080; text-decoration-color: #008080; font-weight: bold\">0.7373</span>  <span style=\"color: #808000; text-decoration-color: #808000\">Recall</span>=<span style=\"color: #008080; text-decoration-color: #008080; font-weight: bold\">0.5997</span> <span style=\"color: #808000; text-decoration-color: #808000\">F1</span>=<span style=\"color: #008080; text-decoration-color: #008080; font-weight: bold\">0.6614</span>\n",
       "</pre>\n"
      ]
     },
     "metadata": {},
     "output_type": "display_data"
    },
    {
     "data": {
      "text/plain": [
       "Class \u001B[1;36m1\u001B[0m: \u001B[33mPrecision\u001B[0m=\u001B[1;36m0\u001B[0m\u001B[1;36m.9140\u001B[0m  \u001B[33mRecall\u001B[0m=\u001B[1;36m0\u001B[0m\u001B[1;36m.5027\u001B[0m \u001B[33mF1\u001B[0m=\u001B[1;36m0\u001B[0m\u001B[1;36m.6486\u001B[0m\n"
      ],
      "text/html": [
       "<pre style=\"white-space:pre;overflow-x:auto;line-height:normal;font-family:Menlo,'DejaVu Sans Mono',consolas,'Courier New',monospace\">Class <span style=\"color: #008080; text-decoration-color: #008080; font-weight: bold\">1</span>: <span style=\"color: #808000; text-decoration-color: #808000\">Precision</span>=<span style=\"color: #008080; text-decoration-color: #008080; font-weight: bold\">0.9140</span>  <span style=\"color: #808000; text-decoration-color: #808000\">Recall</span>=<span style=\"color: #008080; text-decoration-color: #008080; font-weight: bold\">0.5027</span> <span style=\"color: #808000; text-decoration-color: #808000\">F1</span>=<span style=\"color: #008080; text-decoration-color: #008080; font-weight: bold\">0.6486</span>\n",
       "</pre>\n"
      ]
     },
     "metadata": {},
     "output_type": "display_data"
    },
    {
     "data": {
      "text/plain": [
       "Class \u001B[1;36m2\u001B[0m: \u001B[33mPrecision\u001B[0m=\u001B[1;36m0\u001B[0m\u001B[1;36m.9793\u001B[0m  \u001B[33mRecall\u001B[0m=\u001B[1;36m0\u001B[0m\u001B[1;36m.6282\u001B[0m \u001B[33mF1\u001B[0m=\u001B[1;36m0\u001B[0m\u001B[1;36m.7654\u001B[0m\n"
      ],
      "text/html": [
       "<pre style=\"white-space:pre;overflow-x:auto;line-height:normal;font-family:Menlo,'DejaVu Sans Mono',consolas,'Courier New',monospace\">Class <span style=\"color: #008080; text-decoration-color: #008080; font-weight: bold\">2</span>: <span style=\"color: #808000; text-decoration-color: #808000\">Precision</span>=<span style=\"color: #008080; text-decoration-color: #008080; font-weight: bold\">0.9793</span>  <span style=\"color: #808000; text-decoration-color: #808000\">Recall</span>=<span style=\"color: #008080; text-decoration-color: #008080; font-weight: bold\">0.6282</span> <span style=\"color: #808000; text-decoration-color: #808000\">F1</span>=<span style=\"color: #008080; text-decoration-color: #008080; font-weight: bold\">0.7654</span>\n",
       "</pre>\n"
      ]
     },
     "metadata": {},
     "output_type": "display_data"
    },
    {
     "data": {
      "text/plain": [
       "Class \u001B[1;36m3\u001B[0m: \u001B[33mPrecision\u001B[0m=\u001B[1;36m0\u001B[0m\u001B[1;36m.9790\u001B[0m  \u001B[33mRecall\u001B[0m=\u001B[1;36m0\u001B[0m\u001B[1;36m.9211\u001B[0m \u001B[33mF1\u001B[0m=\u001B[1;36m0\u001B[0m\u001B[1;36m.9492\u001B[0m\n"
      ],
      "text/html": [
       "<pre style=\"white-space:pre;overflow-x:auto;line-height:normal;font-family:Menlo,'DejaVu Sans Mono',consolas,'Courier New',monospace\">Class <span style=\"color: #008080; text-decoration-color: #008080; font-weight: bold\">3</span>: <span style=\"color: #808000; text-decoration-color: #808000\">Precision</span>=<span style=\"color: #008080; text-decoration-color: #008080; font-weight: bold\">0.9790</span>  <span style=\"color: #808000; text-decoration-color: #808000\">Recall</span>=<span style=\"color: #008080; text-decoration-color: #008080; font-weight: bold\">0.9211</span> <span style=\"color: #808000; text-decoration-color: #808000\">F1</span>=<span style=\"color: #008080; text-decoration-color: #008080; font-weight: bold\">0.9492</span>\n",
       "</pre>\n"
      ]
     },
     "metadata": {},
     "output_type": "display_data"
    },
    {
     "data": {
      "text/plain": [
       "Class \u001B[1;36m4\u001B[0m: \u001B[33mPrecision\u001B[0m=\u001B[1;36m0\u001B[0m\u001B[1;36m.6694\u001B[0m  \u001B[33mRecall\u001B[0m=\u001B[1;36m0\u001B[0m\u001B[1;36m.8860\u001B[0m \u001B[33mF1\u001B[0m=\u001B[1;36m0\u001B[0m\u001B[1;36m.7627\u001B[0m\n"
      ],
      "text/html": [
       "<pre style=\"white-space:pre;overflow-x:auto;line-height:normal;font-family:Menlo,'DejaVu Sans Mono',consolas,'Courier New',monospace\">Class <span style=\"color: #008080; text-decoration-color: #008080; font-weight: bold\">4</span>: <span style=\"color: #808000; text-decoration-color: #808000\">Precision</span>=<span style=\"color: #008080; text-decoration-color: #008080; font-weight: bold\">0.6694</span>  <span style=\"color: #808000; text-decoration-color: #808000\">Recall</span>=<span style=\"color: #008080; text-decoration-color: #008080; font-weight: bold\">0.8860</span> <span style=\"color: #808000; text-decoration-color: #808000\">F1</span>=<span style=\"color: #008080; text-decoration-color: #008080; font-weight: bold\">0.7627</span>\n",
       "</pre>\n"
      ]
     },
     "metadata": {},
     "output_type": "display_data"
    },
    {
     "data": {
      "text/plain": [
       "Class \u001B[1;36m5\u001B[0m: \u001B[33mPrecision\u001B[0m=\u001B[1;36m0\u001B[0m\u001B[1;36m.9846\u001B[0m  \u001B[33mRecall\u001B[0m=\u001B[1;36m0\u001B[0m\u001B[1;36m.8000\u001B[0m \u001B[33mF1\u001B[0m=\u001B[1;36m0\u001B[0m\u001B[1;36m.8828\u001B[0m\n"
      ],
      "text/html": [
       "<pre style=\"white-space:pre;overflow-x:auto;line-height:normal;font-family:Menlo,'DejaVu Sans Mono',consolas,'Courier New',monospace\">Class <span style=\"color: #008080; text-decoration-color: #008080; font-weight: bold\">5</span>: <span style=\"color: #808000; text-decoration-color: #808000\">Precision</span>=<span style=\"color: #008080; text-decoration-color: #008080; font-weight: bold\">0.9846</span>  <span style=\"color: #808000; text-decoration-color: #808000\">Recall</span>=<span style=\"color: #008080; text-decoration-color: #008080; font-weight: bold\">0.8000</span> <span style=\"color: #808000; text-decoration-color: #808000\">F1</span>=<span style=\"color: #008080; text-decoration-color: #008080; font-weight: bold\">0.8828</span>\n",
       "</pre>\n"
      ]
     },
     "metadata": {},
     "output_type": "display_data"
    },
    {
     "data": {
      "text/plain": [
       "Class \u001B[1;36m6\u001B[0m: \u001B[33mPrecision\u001B[0m=\u001B[1;36m0\u001B[0m\u001B[1;36m.2277\u001B[0m  \u001B[33mRecall\u001B[0m=\u001B[1;36m0\u001B[0m\u001B[1;36m.9875\u001B[0m \u001B[33mF1\u001B[0m=\u001B[1;36m0\u001B[0m\u001B[1;36m.3700\u001B[0m\n"
      ],
      "text/html": [
       "<pre style=\"white-space:pre;overflow-x:auto;line-height:normal;font-family:Menlo,'DejaVu Sans Mono',consolas,'Courier New',monospace\">Class <span style=\"color: #008080; text-decoration-color: #008080; font-weight: bold\">6</span>: <span style=\"color: #808000; text-decoration-color: #808000\">Precision</span>=<span style=\"color: #008080; text-decoration-color: #008080; font-weight: bold\">0.2277</span>  <span style=\"color: #808000; text-decoration-color: #808000\">Recall</span>=<span style=\"color: #008080; text-decoration-color: #008080; font-weight: bold\">0.9875</span> <span style=\"color: #808000; text-decoration-color: #808000\">F1</span>=<span style=\"color: #008080; text-decoration-color: #008080; font-weight: bold\">0.3700</span>\n",
       "</pre>\n"
      ]
     },
     "metadata": {},
     "output_type": "display_data"
    },
    {
     "data": {
      "text/plain": [
       "=== photo ===\n"
      ],
      "text/html": [
       "<pre style=\"white-space:pre;overflow-x:auto;line-height:normal;font-family:Menlo,'DejaVu Sans Mono',consolas,'Courier New',monospace\">=== photo ===\n",
       "</pre>\n"
      ]
     },
     "metadata": {},
     "output_type": "display_data"
    },
    {
     "data": {
      "text/plain": [
       "Micro Accuracy:     \u001B[1;36m0.9683\u001B[0m\n"
      ],
      "text/html": [
       "<pre style=\"white-space:pre;overflow-x:auto;line-height:normal;font-family:Menlo,'DejaVu Sans Mono',consolas,'Courier New',monospace\">Micro Accuracy:     <span style=\"color: #008080; text-decoration-color: #008080; font-weight: bold\">0.9683</span>\n",
       "</pre>\n"
      ]
     },
     "metadata": {},
     "output_type": "display_data"
    },
    {
     "data": {
      "text/plain": [
       "Macro F1 Score:     \u001B[1;36m0.9635\u001B[0m\n"
      ],
      "text/html": [
       "<pre style=\"white-space:pre;overflow-x:auto;line-height:normal;font-family:Menlo,'DejaVu Sans Mono',consolas,'Courier New',monospace\">Macro F1 Score:     <span style=\"color: #008080; text-decoration-color: #008080; font-weight: bold\">0.9635</span>\n",
       "</pre>\n"
      ]
     },
     "metadata": {},
     "output_type": "display_data"
    },
    {
     "data": {
      "text/plain": [
       "Weighted F1 Score:  \u001B[1;36m0.9679\u001B[0m\n",
       "\n"
      ],
      "text/html": [
       "<pre style=\"white-space:pre;overflow-x:auto;line-height:normal;font-family:Menlo,'DejaVu Sans Mono',consolas,'Courier New',monospace\">Weighted F1 Score:  <span style=\"color: #008080; text-decoration-color: #008080; font-weight: bold\">0.9679</span>\n",
       "\n",
       "</pre>\n"
      ]
     },
     "metadata": {},
     "output_type": "display_data"
    },
    {
     "data": {
      "text/plain": [
       "Class \u001B[1;36m0\u001B[0m: \u001B[33mPrecision\u001B[0m=\u001B[1;36m0\u001B[0m\u001B[1;36m.9485\u001B[0m  \u001B[33mRecall\u001B[0m=\u001B[1;36m0\u001B[0m\u001B[1;36m.9735\u001B[0m \u001B[33mF1\u001B[0m=\u001B[1;36m0\u001B[0m\u001B[1;36m.9608\u001B[0m\n"
      ],
      "text/html": [
       "<pre style=\"white-space:pre;overflow-x:auto;line-height:normal;font-family:Menlo,'DejaVu Sans Mono',consolas,'Courier New',monospace\">Class <span style=\"color: #008080; text-decoration-color: #008080; font-weight: bold\">0</span>: <span style=\"color: #808000; text-decoration-color: #808000\">Precision</span>=<span style=\"color: #008080; text-decoration-color: #008080; font-weight: bold\">0.9485</span>  <span style=\"color: #808000; text-decoration-color: #808000\">Recall</span>=<span style=\"color: #008080; text-decoration-color: #008080; font-weight: bold\">0.9735</span> <span style=\"color: #808000; text-decoration-color: #808000\">F1</span>=<span style=\"color: #008080; text-decoration-color: #008080; font-weight: bold\">0.9608</span>\n",
       "</pre>\n"
      ]
     },
     "metadata": {},
     "output_type": "display_data"
    },
    {
     "data": {
      "text/plain": [
       "Class \u001B[1;36m1\u001B[0m: \u001B[33mPrecision\u001B[0m=\u001B[1;36m0\u001B[0m\u001B[1;36m.9534\u001B[0m  \u001B[33mRecall\u001B[0m=\u001B[1;36m0\u001B[0m\u001B[1;36m.9109\u001B[0m \u001B[33mF1\u001B[0m=\u001B[1;36m0\u001B[0m\u001B[1;36m.9316\u001B[0m\n"
      ],
      "text/html": [
       "<pre style=\"white-space:pre;overflow-x:auto;line-height:normal;font-family:Menlo,'DejaVu Sans Mono',consolas,'Courier New',monospace\">Class <span style=\"color: #008080; text-decoration-color: #008080; font-weight: bold\">1</span>: <span style=\"color: #808000; text-decoration-color: #808000\">Precision</span>=<span style=\"color: #008080; text-decoration-color: #008080; font-weight: bold\">0.9534</span>  <span style=\"color: #808000; text-decoration-color: #808000\">Recall</span>=<span style=\"color: #008080; text-decoration-color: #008080; font-weight: bold\">0.9109</span> <span style=\"color: #808000; text-decoration-color: #808000\">F1</span>=<span style=\"color: #008080; text-decoration-color: #008080; font-weight: bold\">0.9316</span>\n",
       "</pre>\n"
      ]
     },
     "metadata": {},
     "output_type": "display_data"
    },
    {
     "data": {
      "text/plain": [
       "Class \u001B[1;36m2\u001B[0m: \u001B[33mPrecision\u001B[0m=\u001B[1;36m0\u001B[0m\u001B[1;36m.9728\u001B[0m  \u001B[33mRecall\u001B[0m=\u001B[1;36m0\u001B[0m\u001B[1;36m.9835\u001B[0m \u001B[33mF1\u001B[0m=\u001B[1;36m0\u001B[0m\u001B[1;36m.9781\u001B[0m\n"
      ],
      "text/html": [
       "<pre style=\"white-space:pre;overflow-x:auto;line-height:normal;font-family:Menlo,'DejaVu Sans Mono',consolas,'Courier New',monospace\">Class <span style=\"color: #008080; text-decoration-color: #008080; font-weight: bold\">2</span>: <span style=\"color: #808000; text-decoration-color: #808000\">Precision</span>=<span style=\"color: #008080; text-decoration-color: #008080; font-weight: bold\">0.9728</span>  <span style=\"color: #808000; text-decoration-color: #808000\">Recall</span>=<span style=\"color: #008080; text-decoration-color: #008080; font-weight: bold\">0.9835</span> <span style=\"color: #808000; text-decoration-color: #808000\">F1</span>=<span style=\"color: #008080; text-decoration-color: #008080; font-weight: bold\">0.9781</span>\n",
       "</pre>\n"
      ]
     },
     "metadata": {},
     "output_type": "display_data"
    },
    {
     "data": {
      "text/plain": [
       "Class \u001B[1;36m3\u001B[0m: \u001B[33mPrecision\u001B[0m=\u001B[1;36m0\u001B[0m\u001B[1;36m.9787\u001B[0m  \u001B[33mRecall\u001B[0m=\u001B[1;36m0\u001B[0m\u001B[1;36m.9892\u001B[0m \u001B[33mF1\u001B[0m=\u001B[1;36m0\u001B[0m\u001B[1;36m.9840\u001B[0m\n"
      ],
      "text/html": [
       "<pre style=\"white-space:pre;overflow-x:auto;line-height:normal;font-family:Menlo,'DejaVu Sans Mono',consolas,'Courier New',monospace\">Class <span style=\"color: #008080; text-decoration-color: #008080; font-weight: bold\">3</span>: <span style=\"color: #808000; text-decoration-color: #808000\">Precision</span>=<span style=\"color: #008080; text-decoration-color: #008080; font-weight: bold\">0.9787</span>  <span style=\"color: #808000; text-decoration-color: #808000\">Recall</span>=<span style=\"color: #008080; text-decoration-color: #008080; font-weight: bold\">0.9892</span> <span style=\"color: #808000; text-decoration-color: #808000\">F1</span>=<span style=\"color: #008080; text-decoration-color: #008080; font-weight: bold\">0.9840</span>\n",
       "</pre>\n"
      ]
     },
     "metadata": {},
     "output_type": "display_data"
    },
    {
     "data": {
      "text/plain": [
       "Class \u001B[1;36m4\u001B[0m: \u001B[33mPrecision\u001B[0m=\u001B[1;36m0\u001B[0m\u001B[1;36m.9617\u001B[0m  \u001B[33mRecall\u001B[0m=\u001B[1;36m0\u001B[0m\u001B[1;36m.8844\u001B[0m \u001B[33mF1\u001B[0m=\u001B[1;36m0\u001B[0m\u001B[1;36m.9215\u001B[0m\n"
      ],
      "text/html": [
       "<pre style=\"white-space:pre;overflow-x:auto;line-height:normal;font-family:Menlo,'DejaVu Sans Mono',consolas,'Courier New',monospace\">Class <span style=\"color: #008080; text-decoration-color: #008080; font-weight: bold\">4</span>: <span style=\"color: #808000; text-decoration-color: #808000\">Precision</span>=<span style=\"color: #008080; text-decoration-color: #008080; font-weight: bold\">0.9617</span>  <span style=\"color: #808000; text-decoration-color: #808000\">Recall</span>=<span style=\"color: #008080; text-decoration-color: #008080; font-weight: bold\">0.8844</span> <span style=\"color: #808000; text-decoration-color: #808000\">F1</span>=<span style=\"color: #008080; text-decoration-color: #008080; font-weight: bold\">0.9215</span>\n",
       "</pre>\n"
      ]
     },
     "metadata": {},
     "output_type": "display_data"
    },
    {
     "data": {
      "text/plain": [
       "Class \u001B[1;36m5\u001B[0m: \u001B[33mPrecision\u001B[0m=\u001B[1;36m0\u001B[0m\u001B[1;36m.9524\u001B[0m  \u001B[33mRecall\u001B[0m=\u001B[1;36m1\u001B[0m\u001B[1;36m.0000\u001B[0m \u001B[33mF1\u001B[0m=\u001B[1;36m0\u001B[0m\u001B[1;36m.9756\u001B[0m\n"
      ],
      "text/html": [
       "<pre style=\"white-space:pre;overflow-x:auto;line-height:normal;font-family:Menlo,'DejaVu Sans Mono',consolas,'Courier New',monospace\">Class <span style=\"color: #008080; text-decoration-color: #008080; font-weight: bold\">5</span>: <span style=\"color: #808000; text-decoration-color: #808000\">Precision</span>=<span style=\"color: #008080; text-decoration-color: #008080; font-weight: bold\">0.9524</span>  <span style=\"color: #808000; text-decoration-color: #808000\">Recall</span>=<span style=\"color: #008080; text-decoration-color: #008080; font-weight: bold\">1.0000</span> <span style=\"color: #808000; text-decoration-color: #808000\">F1</span>=<span style=\"color: #008080; text-decoration-color: #008080; font-weight: bold\">0.9756</span>\n",
       "</pre>\n"
      ]
     },
     "metadata": {},
     "output_type": "display_data"
    },
    {
     "data": {
      "text/plain": [
       "Class \u001B[1;36m6\u001B[0m: \u001B[33mPrecision\u001B[0m=\u001B[1;36m0\u001B[0m\u001B[1;36m.9908\u001B[0m  \u001B[33mRecall\u001B[0m=\u001B[1;36m0\u001B[0m\u001B[1;36m.9954\u001B[0m \u001B[33mF1\u001B[0m=\u001B[1;36m0\u001B[0m\u001B[1;36m.9931\u001B[0m\n"
      ],
      "text/html": [
       "<pre style=\"white-space:pre;overflow-x:auto;line-height:normal;font-family:Menlo,'DejaVu Sans Mono',consolas,'Courier New',monospace\">Class <span style=\"color: #008080; text-decoration-color: #008080; font-weight: bold\">6</span>: <span style=\"color: #808000; text-decoration-color: #808000\">Precision</span>=<span style=\"color: #008080; text-decoration-color: #008080; font-weight: bold\">0.9908</span>  <span style=\"color: #808000; text-decoration-color: #808000\">Recall</span>=<span style=\"color: #008080; text-decoration-color: #008080; font-weight: bold\">0.9954</span> <span style=\"color: #808000; text-decoration-color: #808000\">F1</span>=<span style=\"color: #008080; text-decoration-color: #008080; font-weight: bold\">0.9931</span>\n",
       "</pre>\n"
      ]
     },
     "metadata": {},
     "output_type": "display_data"
    },
    {
     "data": {
      "text/plain": [
       "=== cartoon ===\n"
      ],
      "text/html": [
       "<pre style=\"white-space:pre;overflow-x:auto;line-height:normal;font-family:Menlo,'DejaVu Sans Mono',consolas,'Courier New',monospace\">=== cartoon ===\n",
       "</pre>\n"
      ]
     },
     "metadata": {},
     "output_type": "display_data"
    },
    {
     "data": {
      "text/plain": [
       "Micro Accuracy:     \u001B[1;36m0.7376\u001B[0m\n"
      ],
      "text/html": [
       "<pre style=\"white-space:pre;overflow-x:auto;line-height:normal;font-family:Menlo,'DejaVu Sans Mono',consolas,'Courier New',monospace\">Micro Accuracy:     <span style=\"color: #008080; text-decoration-color: #008080; font-weight: bold\">0.7376</span>\n",
       "</pre>\n"
      ]
     },
     "metadata": {},
     "output_type": "display_data"
    },
    {
     "data": {
      "text/plain": [
       "Macro F1 Score:     \u001B[1;36m0.7688\u001B[0m\n"
      ],
      "text/html": [
       "<pre style=\"white-space:pre;overflow-x:auto;line-height:normal;font-family:Menlo,'DejaVu Sans Mono',consolas,'Courier New',monospace\">Macro F1 Score:     <span style=\"color: #008080; text-decoration-color: #008080; font-weight: bold\">0.7688</span>\n",
       "</pre>\n"
      ]
     },
     "metadata": {},
     "output_type": "display_data"
    },
    {
     "data": {
      "text/plain": [
       "Weighted F1 Score:  \u001B[1;36m0.7470\u001B[0m\n",
       "\n"
      ],
      "text/html": [
       "<pre style=\"white-space:pre;overflow-x:auto;line-height:normal;font-family:Menlo,'DejaVu Sans Mono',consolas,'Courier New',monospace\">Weighted F1 Score:  <span style=\"color: #008080; text-decoration-color: #008080; font-weight: bold\">0.7470</span>\n",
       "\n",
       "</pre>\n"
      ]
     },
     "metadata": {},
     "output_type": "display_data"
    },
    {
     "data": {
      "text/plain": [
       "Class \u001B[1;36m0\u001B[0m: \u001B[33mPrecision\u001B[0m=\u001B[1;36m0\u001B[0m\u001B[1;36m.4256\u001B[0m  \u001B[33mRecall\u001B[0m=\u001B[1;36m0\u001B[0m\u001B[1;36m.9409\u001B[0m \u001B[33mF1\u001B[0m=\u001B[1;36m0\u001B[0m\u001B[1;36m.5861\u001B[0m\n"
      ],
      "text/html": [
       "<pre style=\"white-space:pre;overflow-x:auto;line-height:normal;font-family:Menlo,'DejaVu Sans Mono',consolas,'Courier New',monospace\">Class <span style=\"color: #008080; text-decoration-color: #008080; font-weight: bold\">0</span>: <span style=\"color: #808000; text-decoration-color: #808000\">Precision</span>=<span style=\"color: #008080; text-decoration-color: #008080; font-weight: bold\">0.4256</span>  <span style=\"color: #808000; text-decoration-color: #808000\">Recall</span>=<span style=\"color: #008080; text-decoration-color: #008080; font-weight: bold\">0.9409</span> <span style=\"color: #808000; text-decoration-color: #808000\">F1</span>=<span style=\"color: #008080; text-decoration-color: #008080; font-weight: bold\">0.5861</span>\n",
       "</pre>\n"
      ]
     },
     "metadata": {},
     "output_type": "display_data"
    },
    {
     "data": {
      "text/plain": [
       "Class \u001B[1;36m1\u001B[0m: \u001B[33mPrecision\u001B[0m=\u001B[1;36m0\u001B[0m\u001B[1;36m.8814\u001B[0m  \u001B[33mRecall\u001B[0m=\u001B[1;36m0\u001B[0m\u001B[1;36m.4880\u001B[0m \u001B[33mF1\u001B[0m=\u001B[1;36m0\u001B[0m\u001B[1;36m.6282\u001B[0m\n"
      ],
      "text/html": [
       "<pre style=\"white-space:pre;overflow-x:auto;line-height:normal;font-family:Menlo,'DejaVu Sans Mono',consolas,'Courier New',monospace\">Class <span style=\"color: #008080; text-decoration-color: #008080; font-weight: bold\">1</span>: <span style=\"color: #808000; text-decoration-color: #808000\">Precision</span>=<span style=\"color: #008080; text-decoration-color: #008080; font-weight: bold\">0.8814</span>  <span style=\"color: #808000; text-decoration-color: #808000\">Recall</span>=<span style=\"color: #008080; text-decoration-color: #008080; font-weight: bold\">0.4880</span> <span style=\"color: #808000; text-decoration-color: #808000\">F1</span>=<span style=\"color: #008080; text-decoration-color: #008080; font-weight: bold\">0.6282</span>\n",
       "</pre>\n"
      ]
     },
     "metadata": {},
     "output_type": "display_data"
    },
    {
     "data": {
      "text/plain": [
       "Class \u001B[1;36m2\u001B[0m: \u001B[33mPrecision\u001B[0m=\u001B[1;36m0\u001B[0m\u001B[1;36m.9569\u001B[0m  \u001B[33mRecall\u001B[0m=\u001B[1;36m0\u001B[0m\u001B[1;36m.8988\u001B[0m \u001B[33mF1\u001B[0m=\u001B[1;36m0\u001B[0m\u001B[1;36m.9270\u001B[0m\n"
      ],
      "text/html": [
       "<pre style=\"white-space:pre;overflow-x:auto;line-height:normal;font-family:Menlo,'DejaVu Sans Mono',consolas,'Courier New',monospace\">Class <span style=\"color: #008080; text-decoration-color: #008080; font-weight: bold\">2</span>: <span style=\"color: #808000; text-decoration-color: #808000\">Precision</span>=<span style=\"color: #008080; text-decoration-color: #008080; font-weight: bold\">0.9569</span>  <span style=\"color: #808000; text-decoration-color: #808000\">Recall</span>=<span style=\"color: #008080; text-decoration-color: #008080; font-weight: bold\">0.8988</span> <span style=\"color: #808000; text-decoration-color: #808000\">F1</span>=<span style=\"color: #008080; text-decoration-color: #008080; font-weight: bold\">0.9270</span>\n",
       "</pre>\n"
      ]
     },
     "metadata": {},
     "output_type": "display_data"
    },
    {
     "data": {
      "text/plain": [
       "Class \u001B[1;36m3\u001B[0m: \u001B[33mPrecision\u001B[0m=\u001B[1;36m0\u001B[0m\u001B[1;36m.7472\u001B[0m  \u001B[33mRecall\u001B[0m=\u001B[1;36m0\u001B[0m\u001B[1;36m.9852\u001B[0m \u001B[33mF1\u001B[0m=\u001B[1;36m0\u001B[0m\u001B[1;36m.8498\u001B[0m\n"
      ],
      "text/html": [
       "<pre style=\"white-space:pre;overflow-x:auto;line-height:normal;font-family:Menlo,'DejaVu Sans Mono',consolas,'Courier New',monospace\">Class <span style=\"color: #008080; text-decoration-color: #008080; font-weight: bold\">3</span>: <span style=\"color: #808000; text-decoration-color: #808000\">Precision</span>=<span style=\"color: #008080; text-decoration-color: #008080; font-weight: bold\">0.7472</span>  <span style=\"color: #808000; text-decoration-color: #808000\">Recall</span>=<span style=\"color: #008080; text-decoration-color: #008080; font-weight: bold\">0.9852</span> <span style=\"color: #808000; text-decoration-color: #808000\">F1</span>=<span style=\"color: #008080; text-decoration-color: #008080; font-weight: bold\">0.8498</span>\n",
       "</pre>\n"
      ]
     },
     "metadata": {},
     "output_type": "display_data"
    },
    {
     "data": {
      "text/plain": [
       "Class \u001B[1;36m4\u001B[0m: \u001B[33mPrecision\u001B[0m=\u001B[1;36m0\u001B[0m\u001B[1;36m.9822\u001B[0m  \u001B[33mRecall\u001B[0m=\u001B[1;36m0\u001B[0m\u001B[1;36m.5123\u001B[0m \u001B[33mF1\u001B[0m=\u001B[1;36m0\u001B[0m\u001B[1;36m.6734\u001B[0m\n"
      ],
      "text/html": [
       "<pre style=\"white-space:pre;overflow-x:auto;line-height:normal;font-family:Menlo,'DejaVu Sans Mono',consolas,'Courier New',monospace\">Class <span style=\"color: #008080; text-decoration-color: #008080; font-weight: bold\">4</span>: <span style=\"color: #808000; text-decoration-color: #808000\">Precision</span>=<span style=\"color: #008080; text-decoration-color: #008080; font-weight: bold\">0.9822</span>  <span style=\"color: #808000; text-decoration-color: #808000\">Recall</span>=<span style=\"color: #008080; text-decoration-color: #008080; font-weight: bold\">0.5123</span> <span style=\"color: #808000; text-decoration-color: #808000\">F1</span>=<span style=\"color: #008080; text-decoration-color: #008080; font-weight: bold\">0.6734</span>\n",
       "</pre>\n"
      ]
     },
     "metadata": {},
     "output_type": "display_data"
    },
    {
     "data": {
      "text/plain": [
       "Class \u001B[1;36m5\u001B[0m: \u001B[33mPrecision\u001B[0m=\u001B[1;36m1\u001B[0m\u001B[1;36m.0000\u001B[0m  \u001B[33mRecall\u001B[0m=\u001B[1;36m0\u001B[0m\u001B[1;36m.9375\u001B[0m \u001B[33mF1\u001B[0m=\u001B[1;36m0\u001B[0m\u001B[1;36m.9677\u001B[0m\n"
      ],
      "text/html": [
       "<pre style=\"white-space:pre;overflow-x:auto;line-height:normal;font-family:Menlo,'DejaVu Sans Mono',consolas,'Courier New',monospace\">Class <span style=\"color: #008080; text-decoration-color: #008080; font-weight: bold\">5</span>: <span style=\"color: #808000; text-decoration-color: #808000\">Precision</span>=<span style=\"color: #008080; text-decoration-color: #008080; font-weight: bold\">1.0000</span>  <span style=\"color: #808000; text-decoration-color: #808000\">Recall</span>=<span style=\"color: #008080; text-decoration-color: #008080; font-weight: bold\">0.9375</span> <span style=\"color: #808000; text-decoration-color: #808000\">F1</span>=<span style=\"color: #008080; text-decoration-color: #008080; font-weight: bold\">0.9677</span>\n",
       "</pre>\n"
      ]
     },
     "metadata": {},
     "output_type": "display_data"
    },
    {
     "data": {
      "text/plain": [
       "Class \u001B[1;36m6\u001B[0m: \u001B[33mPrecision\u001B[0m=\u001B[1;36m0\u001B[0m\u001B[1;36m.8997\u001B[0m  \u001B[33mRecall\u001B[0m=\u001B[1;36m0\u001B[0m\u001B[1;36m.6420\u001B[0m \u001B[33mF1\u001B[0m=\u001B[1;36m0\u001B[0m\u001B[1;36m.7493\u001B[0m\n"
      ],
      "text/html": [
       "<pre style=\"white-space:pre;overflow-x:auto;line-height:normal;font-family:Menlo,'DejaVu Sans Mono',consolas,'Courier New',monospace\">Class <span style=\"color: #008080; text-decoration-color: #008080; font-weight: bold\">6</span>: <span style=\"color: #808000; text-decoration-color: #808000\">Precision</span>=<span style=\"color: #008080; text-decoration-color: #008080; font-weight: bold\">0.8997</span>  <span style=\"color: #808000; text-decoration-color: #808000\">Recall</span>=<span style=\"color: #008080; text-decoration-color: #008080; font-weight: bold\">0.6420</span> <span style=\"color: #808000; text-decoration-color: #808000\">F1</span>=<span style=\"color: #008080; text-decoration-color: #008080; font-weight: bold\">0.7493</span>\n",
       "</pre>\n"
      ]
     },
     "metadata": {},
     "output_type": "display_data"
    },
    {
     "data": {
      "text/plain": [
       "=== art_painting ===\n"
      ],
      "text/html": [
       "<pre style=\"white-space:pre;overflow-x:auto;line-height:normal;font-family:Menlo,'DejaVu Sans Mono',consolas,'Courier New',monospace\">=== art_painting ===\n",
       "</pre>\n"
      ]
     },
     "metadata": {},
     "output_type": "display_data"
    },
    {
     "data": {
      "text/plain": [
       "Micro Accuracy:     \u001B[1;36m0.8433\u001B[0m\n"
      ],
      "text/html": [
       "<pre style=\"white-space:pre;overflow-x:auto;line-height:normal;font-family:Menlo,'DejaVu Sans Mono',consolas,'Courier New',monospace\">Micro Accuracy:     <span style=\"color: #008080; text-decoration-color: #008080; font-weight: bold\">0.8433</span>\n",
       "</pre>\n"
      ]
     },
     "metadata": {},
     "output_type": "display_data"
    },
    {
     "data": {
      "text/plain": [
       "Macro F1 Score:     \u001B[1;36m0.8443\u001B[0m\n"
      ],
      "text/html": [
       "<pre style=\"white-space:pre;overflow-x:auto;line-height:normal;font-family:Menlo,'DejaVu Sans Mono',consolas,'Courier New',monospace\">Macro F1 Score:     <span style=\"color: #008080; text-decoration-color: #008080; font-weight: bold\">0.8443</span>\n",
       "</pre>\n"
      ]
     },
     "metadata": {},
     "output_type": "display_data"
    },
    {
     "data": {
      "text/plain": [
       "Weighted F1 Score:  \u001B[1;36m0.8443\u001B[0m\n",
       "\n"
      ],
      "text/html": [
       "<pre style=\"white-space:pre;overflow-x:auto;line-height:normal;font-family:Menlo,'DejaVu Sans Mono',consolas,'Courier New',monospace\">Weighted F1 Score:  <span style=\"color: #008080; text-decoration-color: #008080; font-weight: bold\">0.8443</span>\n",
       "\n",
       "</pre>\n"
      ]
     },
     "metadata": {},
     "output_type": "display_data"
    },
    {
     "data": {
      "text/plain": [
       "Class \u001B[1;36m0\u001B[0m: \u001B[33mPrecision\u001B[0m=\u001B[1;36m0\u001B[0m\u001B[1;36m.8899\u001B[0m  \u001B[33mRecall\u001B[0m=\u001B[1;36m0\u001B[0m\u001B[1;36m.7889\u001B[0m \u001B[33mF1\u001B[0m=\u001B[1;36m0\u001B[0m\u001B[1;36m.8364\u001B[0m\n"
      ],
      "text/html": [
       "<pre style=\"white-space:pre;overflow-x:auto;line-height:normal;font-family:Menlo,'DejaVu Sans Mono',consolas,'Courier New',monospace\">Class <span style=\"color: #008080; text-decoration-color: #008080; font-weight: bold\">0</span>: <span style=\"color: #808000; text-decoration-color: #808000\">Precision</span>=<span style=\"color: #008080; text-decoration-color: #008080; font-weight: bold\">0.8899</span>  <span style=\"color: #808000; text-decoration-color: #808000\">Recall</span>=<span style=\"color: #008080; text-decoration-color: #008080; font-weight: bold\">0.7889</span> <span style=\"color: #808000; text-decoration-color: #808000\">F1</span>=<span style=\"color: #008080; text-decoration-color: #008080; font-weight: bold\">0.8364</span>\n",
       "</pre>\n"
      ]
     },
     "metadata": {},
     "output_type": "display_data"
    },
    {
     "data": {
      "text/plain": [
       "Class \u001B[1;36m1\u001B[0m: \u001B[33mPrecision\u001B[0m=\u001B[1;36m0\u001B[0m\u001B[1;36m.7143\u001B[0m  \u001B[33mRecall\u001B[0m=\u001B[1;36m0\u001B[0m\u001B[1;36m.9412\u001B[0m \u001B[33mF1\u001B[0m=\u001B[1;36m0\u001B[0m\u001B[1;36m.8122\u001B[0m\n"
      ],
      "text/html": [
       "<pre style=\"white-space:pre;overflow-x:auto;line-height:normal;font-family:Menlo,'DejaVu Sans Mono',consolas,'Courier New',monospace\">Class <span style=\"color: #008080; text-decoration-color: #008080; font-weight: bold\">1</span>: <span style=\"color: #808000; text-decoration-color: #808000\">Precision</span>=<span style=\"color: #008080; text-decoration-color: #008080; font-weight: bold\">0.7143</span>  <span style=\"color: #808000; text-decoration-color: #808000\">Recall</span>=<span style=\"color: #008080; text-decoration-color: #008080; font-weight: bold\">0.9412</span> <span style=\"color: #808000; text-decoration-color: #808000\">F1</span>=<span style=\"color: #008080; text-decoration-color: #008080; font-weight: bold\">0.8122</span>\n",
       "</pre>\n"
      ]
     },
     "metadata": {},
     "output_type": "display_data"
    },
    {
     "data": {
      "text/plain": [
       "Class \u001B[1;36m2\u001B[0m: \u001B[33mPrecision\u001B[0m=\u001B[1;36m0\u001B[0m\u001B[1;36m.7962\u001B[0m  \u001B[33mRecall\u001B[0m=\u001B[1;36m0\u001B[0m\u001B[1;36m.8772\u001B[0m \u001B[33mF1\u001B[0m=\u001B[1;36m0\u001B[0m\u001B[1;36m.8347\u001B[0m\n"
      ],
      "text/html": [
       "<pre style=\"white-space:pre;overflow-x:auto;line-height:normal;font-family:Menlo,'DejaVu Sans Mono',consolas,'Courier New',monospace\">Class <span style=\"color: #008080; text-decoration-color: #008080; font-weight: bold\">2</span>: <span style=\"color: #808000; text-decoration-color: #808000\">Precision</span>=<span style=\"color: #008080; text-decoration-color: #008080; font-weight: bold\">0.7962</span>  <span style=\"color: #808000; text-decoration-color: #808000\">Recall</span>=<span style=\"color: #008080; text-decoration-color: #008080; font-weight: bold\">0.8772</span> <span style=\"color: #808000; text-decoration-color: #808000\">F1</span>=<span style=\"color: #008080; text-decoration-color: #008080; font-weight: bold\">0.8347</span>\n",
       "</pre>\n"
      ]
     },
     "metadata": {},
     "output_type": "display_data"
    },
    {
     "data": {
      "text/plain": [
       "Class \u001B[1;36m3\u001B[0m: \u001B[33mPrecision\u001B[0m=\u001B[1;36m0\u001B[0m\u001B[1;36m.8901\u001B[0m  \u001B[33mRecall\u001B[0m=\u001B[1;36m0\u001B[0m\u001B[1;36m.8804\u001B[0m \u001B[33mF1\u001B[0m=\u001B[1;36m0\u001B[0m\u001B[1;36m.8852\u001B[0m\n"
      ],
      "text/html": [
       "<pre style=\"white-space:pre;overflow-x:auto;line-height:normal;font-family:Menlo,'DejaVu Sans Mono',consolas,'Courier New',monospace\">Class <span style=\"color: #008080; text-decoration-color: #008080; font-weight: bold\">3</span>: <span style=\"color: #808000; text-decoration-color: #808000\">Precision</span>=<span style=\"color: #008080; text-decoration-color: #008080; font-weight: bold\">0.8901</span>  <span style=\"color: #808000; text-decoration-color: #808000\">Recall</span>=<span style=\"color: #008080; text-decoration-color: #008080; font-weight: bold\">0.8804</span> <span style=\"color: #808000; text-decoration-color: #808000\">F1</span>=<span style=\"color: #008080; text-decoration-color: #008080; font-weight: bold\">0.8852</span>\n",
       "</pre>\n"
      ]
     },
     "metadata": {},
     "output_type": "display_data"
    },
    {
     "data": {
      "text/plain": [
       "Class \u001B[1;36m4\u001B[0m: \u001B[33mPrecision\u001B[0m=\u001B[1;36m0\u001B[0m\u001B[1;36m.6948\u001B[0m  \u001B[33mRecall\u001B[0m=\u001B[1;36m0\u001B[0m\u001B[1;36m.8607\u001B[0m \u001B[33mF1\u001B[0m=\u001B[1;36m0\u001B[0m\u001B[1;36m.7689\u001B[0m\n"
      ],
      "text/html": [
       "<pre style=\"white-space:pre;overflow-x:auto;line-height:normal;font-family:Menlo,'DejaVu Sans Mono',consolas,'Courier New',monospace\">Class <span style=\"color: #008080; text-decoration-color: #008080; font-weight: bold\">4</span>: <span style=\"color: #808000; text-decoration-color: #808000\">Precision</span>=<span style=\"color: #008080; text-decoration-color: #008080; font-weight: bold\">0.6948</span>  <span style=\"color: #808000; text-decoration-color: #808000\">Recall</span>=<span style=\"color: #008080; text-decoration-color: #008080; font-weight: bold\">0.8607</span> <span style=\"color: #808000; text-decoration-color: #808000\">F1</span>=<span style=\"color: #008080; text-decoration-color: #008080; font-weight: bold\">0.7689</span>\n",
       "</pre>\n"
      ]
     },
     "metadata": {},
     "output_type": "display_data"
    },
    {
     "data": {
      "text/plain": [
       "Class \u001B[1;36m5\u001B[0m: \u001B[33mPrecision\u001B[0m=\u001B[1;36m0\u001B[0m\u001B[1;36m.9553\u001B[0m  \u001B[33mRecall\u001B[0m=\u001B[1;36m0\u001B[0m\u001B[1;36m.9424\u001B[0m \u001B[33mF1\u001B[0m=\u001B[1;36m0\u001B[0m\u001B[1;36m.9488\u001B[0m\n"
      ],
      "text/html": [
       "<pre style=\"white-space:pre;overflow-x:auto;line-height:normal;font-family:Menlo,'DejaVu Sans Mono',consolas,'Courier New',monospace\">Class <span style=\"color: #008080; text-decoration-color: #008080; font-weight: bold\">5</span>: <span style=\"color: #808000; text-decoration-color: #808000\">Precision</span>=<span style=\"color: #008080; text-decoration-color: #008080; font-weight: bold\">0.9553</span>  <span style=\"color: #808000; text-decoration-color: #808000\">Recall</span>=<span style=\"color: #008080; text-decoration-color: #008080; font-weight: bold\">0.9424</span> <span style=\"color: #808000; text-decoration-color: #808000\">F1</span>=<span style=\"color: #008080; text-decoration-color: #008080; font-weight: bold\">0.9488</span>\n",
       "</pre>\n"
      ]
     },
     "metadata": {},
     "output_type": "display_data"
    },
    {
     "data": {
      "text/plain": [
       "Class \u001B[1;36m6\u001B[0m: \u001B[33mPrecision\u001B[0m=\u001B[1;36m0\u001B[0m\u001B[1;36m.9559\u001B[0m  \u001B[33mRecall\u001B[0m=\u001B[1;36m0\u001B[0m\u001B[1;36m.7238\u001B[0m \u001B[33mF1\u001B[0m=\u001B[1;36m0\u001B[0m\u001B[1;36m.8238\u001B[0m\n"
      ],
      "text/html": [
       "<pre style=\"white-space:pre;overflow-x:auto;line-height:normal;font-family:Menlo,'DejaVu Sans Mono',consolas,'Courier New',monospace\">Class <span style=\"color: #008080; text-decoration-color: #008080; font-weight: bold\">6</span>: <span style=\"color: #808000; text-decoration-color: #808000\">Precision</span>=<span style=\"color: #008080; text-decoration-color: #008080; font-weight: bold\">0.9559</span>  <span style=\"color: #808000; text-decoration-color: #808000\">Recall</span>=<span style=\"color: #008080; text-decoration-color: #008080; font-weight: bold\">0.7238</span> <span style=\"color: #808000; text-decoration-color: #808000\">F1</span>=<span style=\"color: #008080; text-decoration-color: #008080; font-weight: bold\">0.8238</span>\n",
       "</pre>\n"
      ]
     },
     "metadata": {},
     "output_type": "display_data"
    },
    {
     "data": {
      "text/plain": [],
      "text/html": [
       "<pre style=\"white-space:pre;overflow-x:auto;line-height:normal;font-family:Menlo,'DejaVu Sans Mono',consolas,'Courier New',monospace\"></pre>\n"
      ]
     },
     "metadata": {},
     "output_type": "display_data"
    }
   ],
   "execution_count": 13
  },
  {
   "metadata": {
    "ExecuteTime": {
     "end_time": "2025-05-12T13:04:21.208282Z",
     "start_time": "2025-05-12T13:04:21.180926Z"
    }
   },
   "cell_type": "code",
   "source": "print(RESULTS)\n",
   "id": "5ab922e32da6c40c",
   "outputs": [
    {
     "data": {
      "text/plain": [
       "\u001B[1m{\u001B[0m\n",
       "    \u001B[32m'CHECKPOINTS'\u001B[0m: \u001B[1m[\u001B[0m\n",
       "        \u001B[32m'../dump/wobbly-disco-103_val.ckpt'\u001B[0m,\n",
       "        \u001B[32m'../dump/lively-violet-104_val.ckpt'\u001B[0m,\n",
       "        \u001B[32m'../dump/breezy-pond-105_val.ckpt'\u001B[0m,\n",
       "        \u001B[32m'../dump/deep-wave-107_val.ckpt'\u001B[0m\n",
       "    \u001B[1m]\u001B[0m,\n",
       "    \u001B[32m'TEST_DOMAIN'\u001B[0m: \u001B[1m[\u001B[0m\u001B[32m'Sketch'\u001B[0m, \u001B[32m'Photo'\u001B[0m, \u001B[32m'Cartoon'\u001B[0m, \u001B[32m'Art_Painting'\u001B[0m\u001B[1m]\u001B[0m,\n",
       "    \u001B[32m'METRIC_SUMMARY'\u001B[0m: \u001B[1m[\u001B[0m\n",
       "        \u001B[1m{\u001B[0m\n",
       "            \u001B[32m'acc'\u001B[0m: \u001B[1;35mtensor\u001B[0m\u001B[1m(\u001B[0m\u001B[1;36m0.8285\u001B[0m, \u001B[33mdevice\u001B[0m=\u001B[32m'cuda:0'\u001B[0m\u001B[1m)\u001B[0m,\n",
       "            \u001B[32m'f1_macro'\u001B[0m: \u001B[1;35mtensor\u001B[0m\u001B[1m(\u001B[0m\u001B[1;36m0.8470\u001B[0m, \u001B[33mdevice\u001B[0m=\u001B[32m'cuda:0'\u001B[0m\u001B[1m)\u001B[0m,\n",
       "            \u001B[32m'f1_weighted'\u001B[0m: \u001B[1;35mtensor\u001B[0m\u001B[1m(\u001B[0m\u001B[1;36m0.8283\u001B[0m, \u001B[33mdevice\u001B[0m=\u001B[32m'cuda:0'\u001B[0m\u001B[1m)\u001B[0m,\n",
       "            \u001B[32m'precision_per_class'\u001B[0m: \u001B[1;35mtensor\u001B[0m\u001B[1m(\u001B[0m\u001B[1m[\u001B[0m\u001B[1;36m0.7317\u001B[0m, \u001B[1;36m0.8765\u001B[0m, \u001B[1;36m0.9168\u001B[0m, \u001B[1;36m0.9617\u001B[0m, \u001B[1;36m0.7144\u001B[0m, \u001B[1;36m1.0000\u001B[0m, \u001B[1;36m0.8411\u001B[0m\u001B[1m]\u001B[0m,\n",
       "       \u001B[33mdevice\u001B[0m=\u001B[32m'cuda:0'\u001B[0m\u001B[1m)\u001B[0m,\n",
       "            \u001B[32m'recall_per_class'\u001B[0m: \u001B[1;35mtensor\u001B[0m\u001B[1m(\u001B[0m\u001B[1m[\u001B[0m\u001B[1;36m0.6749\u001B[0m, \u001B[1;36m0.7676\u001B[0m, \u001B[1;36m0.8194\u001B[0m, \u001B[1;36m0.9901\u001B[0m, \u001B[1;36m0.9167\u001B[0m, \u001B[1;36m0.9000\u001B[0m, \u001B[1;36m0.7937\u001B[0m\u001B[1m]\u001B[0m,\n",
       "       \u001B[33mdevice\u001B[0m=\u001B[32m'cuda:0'\u001B[0m\u001B[1m)\u001B[0m,\n",
       "            \u001B[32m'f1_per_class'\u001B[0m: \u001B[1;35mtensor\u001B[0m\u001B[1m(\u001B[0m\u001B[1m[\u001B[0m\u001B[1;36m0.7022\u001B[0m, \u001B[1;36m0.8184\u001B[0m, \u001B[1;36m0.8654\u001B[0m, \u001B[1;36m0.9757\u001B[0m, \u001B[1;36m0.8030\u001B[0m, \u001B[1;36m0.9474\u001B[0m, \u001B[1;36m0.8167\u001B[0m\u001B[1m]\u001B[0m,\n",
       "       \u001B[33mdevice\u001B[0m=\u001B[32m'cuda:0'\u001B[0m\u001B[1m)\u001B[0m\n",
       "        \u001B[1m}\u001B[0m,\n",
       "        \u001B[1m{\u001B[0m\n",
       "            \u001B[32m'acc'\u001B[0m: \u001B[1;35mtensor\u001B[0m\u001B[1m(\u001B[0m\u001B[1;36m0.9754\u001B[0m, \u001B[33mdevice\u001B[0m=\u001B[32m'cuda:0'\u001B[0m\u001B[1m)\u001B[0m,\n",
       "            \u001B[32m'f1_macro'\u001B[0m: \u001B[1;35mtensor\u001B[0m\u001B[1m(\u001B[0m\u001B[1;36m0.9714\u001B[0m, \u001B[33mdevice\u001B[0m=\u001B[32m'cuda:0'\u001B[0m\u001B[1m)\u001B[0m,\n",
       "            \u001B[32m'f1_weighted'\u001B[0m: \u001B[1;35mtensor\u001B[0m\u001B[1m(\u001B[0m\u001B[1;36m0.9754\u001B[0m, \u001B[33mdevice\u001B[0m=\u001B[32m'cuda:0'\u001B[0m\u001B[1m)\u001B[0m,\n",
       "            \u001B[32m'precision_per_class'\u001B[0m: \u001B[1;35mtensor\u001B[0m\u001B[1m(\u001B[0m\u001B[1m[\u001B[0m\u001B[1;36m0.9534\u001B[0m, \u001B[1;36m0.9797\u001B[0m, \u001B[1;36m0.9886\u001B[0m, \u001B[1;36m0.9945\u001B[0m, \u001B[1;36m0.9300\u001B[0m, \u001B[1;36m0.9689\u001B[0m, \u001B[1;36m0.9954\u001B[0m\u001B[1m]\u001B[0m,\n",
       "       \u001B[33mdevice\u001B[0m=\u001B[32m'cuda:0'\u001B[0m\u001B[1m)\u001B[0m,\n",
       "            \u001B[32m'recall_per_class'\u001B[0m: \u001B[1;35mtensor\u001B[0m\u001B[1m(\u001B[0m\u001B[1m[\u001B[0m\u001B[1;36m0.9735\u001B[0m, \u001B[1;36m0.9554\u001B[0m, \u001B[1;36m0.9560\u001B[0m, \u001B[1;36m0.9731\u001B[0m, \u001B[1;36m0.9347\u001B[0m, \u001B[1;36m1.0000\u001B[0m, \u001B[1;36m0.9977\u001B[0m\u001B[1m]\u001B[0m,\n",
       "       \u001B[33mdevice\u001B[0m=\u001B[32m'cuda:0'\u001B[0m\u001B[1m)\u001B[0m,\n",
       "            \u001B[32m'f1_per_class'\u001B[0m: \u001B[1;35mtensor\u001B[0m\u001B[1m(\u001B[0m\u001B[1m[\u001B[0m\u001B[1;36m0.9634\u001B[0m, \u001B[1;36m0.9674\u001B[0m, \u001B[1;36m0.9721\u001B[0m, \u001B[1;36m0.9837\u001B[0m, \u001B[1;36m0.9323\u001B[0m, \u001B[1;36m0.9842\u001B[0m, \u001B[1;36m0.9965\u001B[0m\u001B[1m]\u001B[0m,\n",
       "       \u001B[33mdevice\u001B[0m=\u001B[32m'cuda:0'\u001B[0m\u001B[1m)\u001B[0m\n",
       "        \u001B[1m}\u001B[0m,\n",
       "        \u001B[1m{\u001B[0m\n",
       "            \u001B[32m'acc'\u001B[0m: \u001B[1;35mtensor\u001B[0m\u001B[1m(\u001B[0m\u001B[1;36m0.7491\u001B[0m, \u001B[33mdevice\u001B[0m=\u001B[32m'cuda:0'\u001B[0m\u001B[1m)\u001B[0m,\n",
       "            \u001B[32m'f1_macro'\u001B[0m: \u001B[1;35mtensor\u001B[0m\u001B[1m(\u001B[0m\u001B[1;36m0.7663\u001B[0m, \u001B[33mdevice\u001B[0m=\u001B[32m'cuda:0'\u001B[0m\u001B[1m)\u001B[0m,\n",
       "            \u001B[32m'f1_weighted'\u001B[0m: \u001B[1;35mtensor\u001B[0m\u001B[1m(\u001B[0m\u001B[1;36m0.7578\u001B[0m, \u001B[33mdevice\u001B[0m=\u001B[32m'cuda:0'\u001B[0m\u001B[1m)\u001B[0m,\n",
       "            \u001B[32m'precision_per_class'\u001B[0m: \u001B[1;35mtensor\u001B[0m\u001B[1m(\u001B[0m\u001B[1m[\u001B[0m\u001B[1;36m0.4636\u001B[0m, \u001B[1;36m0.8191\u001B[0m, \u001B[1;36m0.9589\u001B[0m, \u001B[1;36m0.5895\u001B[0m, \u001B[1;36m0.9554\u001B[0m, \u001B[1;36m1.0000\u001B[0m, \u001B[1;36m0.9805\u001B[0m\u001B[1m]\u001B[0m,\n",
       "       \u001B[33mdevice\u001B[0m=\u001B[32m'cuda:0'\u001B[0m\u001B[1m)\u001B[0m,\n",
       "            \u001B[32m'recall_per_class'\u001B[0m: \u001B[1;35mtensor\u001B[0m\u001B[1m(\u001B[0m\u001B[1m[\u001B[0m\u001B[1;36m0.8843\u001B[0m, \u001B[1;36m0.6937\u001B[0m, \u001B[1;36m0.8757\u001B[0m, \u001B[1;36m1.0000\u001B[0m, \u001B[1;36m0.5957\u001B[0m, \u001B[1;36m0.9132\u001B[0m, \u001B[1;36m0.4963\u001B[0m\u001B[1m]\u001B[0m,\n",
       "       \u001B[33mdevice\u001B[0m=\u001B[32m'cuda:0'\u001B[0m\u001B[1m)\u001B[0m,\n",
       "            \u001B[32m'f1_per_class'\u001B[0m: \u001B[1;35mtensor\u001B[0m\u001B[1m(\u001B[0m\u001B[1m[\u001B[0m\u001B[1;36m0.6083\u001B[0m, \u001B[1;36m0.7512\u001B[0m, \u001B[1;36m0.9154\u001B[0m, \u001B[1;36m0.7418\u001B[0m, \u001B[1;36m0.7338\u001B[0m, \u001B[1;36m0.9546\u001B[0m, \u001B[1;36m0.6590\u001B[0m\u001B[1m]\u001B[0m,\n",
       "       \u001B[33mdevice\u001B[0m=\u001B[32m'cuda:0'\u001B[0m\u001B[1m)\u001B[0m\n",
       "        \u001B[1m}\u001B[0m,\n",
       "        \u001B[1m{\u001B[0m\n",
       "            \u001B[32m'acc'\u001B[0m: \u001B[1;35mtensor\u001B[0m\u001B[1m(\u001B[0m\u001B[1;36m0.8359\u001B[0m, \u001B[33mdevice\u001B[0m=\u001B[32m'cuda:0'\u001B[0m\u001B[1m)\u001B[0m,\n",
       "            \u001B[32m'f1_macro'\u001B[0m: \u001B[1;35mtensor\u001B[0m\u001B[1m(\u001B[0m\u001B[1;36m0.8316\u001B[0m, \u001B[33mdevice\u001B[0m=\u001B[32m'cuda:0'\u001B[0m\u001B[1m)\u001B[0m,\n",
       "            \u001B[32m'f1_weighted'\u001B[0m: \u001B[1;35mtensor\u001B[0m\u001B[1m(\u001B[0m\u001B[1;36m0.8362\u001B[0m, \u001B[33mdevice\u001B[0m=\u001B[32m'cuda:0'\u001B[0m\u001B[1m)\u001B[0m,\n",
       "            \u001B[32m'precision_per_class'\u001B[0m: \u001B[1;35mtensor\u001B[0m\u001B[1m(\u001B[0m\u001B[1m[\u001B[0m\u001B[1;36m0.8276\u001B[0m, \u001B[1;36m0.6853\u001B[0m, \u001B[1;36m0.8978\u001B[0m, \u001B[1;36m0.9922\u001B[0m, \u001B[1;36m0.6857\u001B[0m, \u001B[1;36m0.8831\u001B[0m, \u001B[1;36m0.9545\u001B[0m\u001B[1m]\u001B[0m,\n",
       "       \u001B[33mdevice\u001B[0m=\u001B[32m'cuda:0'\u001B[0m\u001B[1m)\u001B[0m,\n",
       "            \u001B[32m'recall_per_class'\u001B[0m: \u001B[1;35mtensor\u001B[0m\u001B[1m(\u001B[0m\u001B[1m[\u001B[0m\u001B[1;36m0.8865\u001B[0m, \u001B[1;36m0.9137\u001B[0m, \u001B[1;36m0.8632\u001B[0m, \u001B[1;36m0.6902\u001B[0m, \u001B[1;36m0.8358\u001B[0m, \u001B[1;36m0.9729\u001B[0m, \u001B[1;36m0.7016\u001B[0m\u001B[1m]\u001B[0m,\n",
       "       \u001B[33mdevice\u001B[0m=\u001B[32m'cuda:0'\u001B[0m\u001B[1m)\u001B[0m,\n",
       "            \u001B[32m'f1_per_class'\u001B[0m: \u001B[1;35mtensor\u001B[0m\u001B[1m(\u001B[0m\u001B[1m[\u001B[0m\u001B[1;36m0.8561\u001B[0m, \u001B[1;36m0.7832\u001B[0m, \u001B[1;36m0.8801\u001B[0m, \u001B[1;36m0.8141\u001B[0m, \u001B[1;36m0.7534\u001B[0m, \u001B[1;36m0.9258\u001B[0m, \u001B[1;36m0.8087\u001B[0m\u001B[1m]\u001B[0m,\n",
       "       \u001B[33mdevice\u001B[0m=\u001B[32m'cuda:0'\u001B[0m\u001B[1m)\u001B[0m\n",
       "        \u001B[1m}\u001B[0m\n",
       "    \u001B[1m]\u001B[0m\n",
       "\u001B[1m}\u001B[0m\n"
      ],
      "text/html": [
       "<pre style=\"white-space:pre;overflow-x:auto;line-height:normal;font-family:Menlo,'DejaVu Sans Mono',consolas,'Courier New',monospace\"><span style=\"font-weight: bold\">{</span>\n",
       "    <span style=\"color: #008000; text-decoration-color: #008000\">'CHECKPOINTS'</span>: <span style=\"font-weight: bold\">[</span>\n",
       "        <span style=\"color: #008000; text-decoration-color: #008000\">'../dump/wobbly-disco-103_val.ckpt'</span>,\n",
       "        <span style=\"color: #008000; text-decoration-color: #008000\">'../dump/lively-violet-104_val.ckpt'</span>,\n",
       "        <span style=\"color: #008000; text-decoration-color: #008000\">'../dump/breezy-pond-105_val.ckpt'</span>,\n",
       "        <span style=\"color: #008000; text-decoration-color: #008000\">'../dump/deep-wave-107_val.ckpt'</span>\n",
       "    <span style=\"font-weight: bold\">]</span>,\n",
       "    <span style=\"color: #008000; text-decoration-color: #008000\">'TEST_DOMAIN'</span>: <span style=\"font-weight: bold\">[</span><span style=\"color: #008000; text-decoration-color: #008000\">'Sketch'</span>, <span style=\"color: #008000; text-decoration-color: #008000\">'Photo'</span>, <span style=\"color: #008000; text-decoration-color: #008000\">'Cartoon'</span>, <span style=\"color: #008000; text-decoration-color: #008000\">'Art_Painting'</span><span style=\"font-weight: bold\">]</span>,\n",
       "    <span style=\"color: #008000; text-decoration-color: #008000\">'METRIC_SUMMARY'</span>: <span style=\"font-weight: bold\">[</span>\n",
       "        <span style=\"font-weight: bold\">{</span>\n",
       "            <span style=\"color: #008000; text-decoration-color: #008000\">'acc'</span>: <span style=\"color: #800080; text-decoration-color: #800080; font-weight: bold\">tensor</span><span style=\"font-weight: bold\">(</span><span style=\"color: #008080; text-decoration-color: #008080; font-weight: bold\">0.8285</span>, <span style=\"color: #808000; text-decoration-color: #808000\">device</span>=<span style=\"color: #008000; text-decoration-color: #008000\">'cuda:0'</span><span style=\"font-weight: bold\">)</span>,\n",
       "            <span style=\"color: #008000; text-decoration-color: #008000\">'f1_macro'</span>: <span style=\"color: #800080; text-decoration-color: #800080; font-weight: bold\">tensor</span><span style=\"font-weight: bold\">(</span><span style=\"color: #008080; text-decoration-color: #008080; font-weight: bold\">0.8470</span>, <span style=\"color: #808000; text-decoration-color: #808000\">device</span>=<span style=\"color: #008000; text-decoration-color: #008000\">'cuda:0'</span><span style=\"font-weight: bold\">)</span>,\n",
       "            <span style=\"color: #008000; text-decoration-color: #008000\">'f1_weighted'</span>: <span style=\"color: #800080; text-decoration-color: #800080; font-weight: bold\">tensor</span><span style=\"font-weight: bold\">(</span><span style=\"color: #008080; text-decoration-color: #008080; font-weight: bold\">0.8283</span>, <span style=\"color: #808000; text-decoration-color: #808000\">device</span>=<span style=\"color: #008000; text-decoration-color: #008000\">'cuda:0'</span><span style=\"font-weight: bold\">)</span>,\n",
       "            <span style=\"color: #008000; text-decoration-color: #008000\">'precision_per_class'</span>: <span style=\"color: #800080; text-decoration-color: #800080; font-weight: bold\">tensor</span><span style=\"font-weight: bold\">([</span><span style=\"color: #008080; text-decoration-color: #008080; font-weight: bold\">0.7317</span>, <span style=\"color: #008080; text-decoration-color: #008080; font-weight: bold\">0.8765</span>, <span style=\"color: #008080; text-decoration-color: #008080; font-weight: bold\">0.9168</span>, <span style=\"color: #008080; text-decoration-color: #008080; font-weight: bold\">0.9617</span>, <span style=\"color: #008080; text-decoration-color: #008080; font-weight: bold\">0.7144</span>, <span style=\"color: #008080; text-decoration-color: #008080; font-weight: bold\">1.0000</span>, <span style=\"color: #008080; text-decoration-color: #008080; font-weight: bold\">0.8411</span><span style=\"font-weight: bold\">]</span>,\n",
       "       <span style=\"color: #808000; text-decoration-color: #808000\">device</span>=<span style=\"color: #008000; text-decoration-color: #008000\">'cuda:0'</span><span style=\"font-weight: bold\">)</span>,\n",
       "            <span style=\"color: #008000; text-decoration-color: #008000\">'recall_per_class'</span>: <span style=\"color: #800080; text-decoration-color: #800080; font-weight: bold\">tensor</span><span style=\"font-weight: bold\">([</span><span style=\"color: #008080; text-decoration-color: #008080; font-weight: bold\">0.6749</span>, <span style=\"color: #008080; text-decoration-color: #008080; font-weight: bold\">0.7676</span>, <span style=\"color: #008080; text-decoration-color: #008080; font-weight: bold\">0.8194</span>, <span style=\"color: #008080; text-decoration-color: #008080; font-weight: bold\">0.9901</span>, <span style=\"color: #008080; text-decoration-color: #008080; font-weight: bold\">0.9167</span>, <span style=\"color: #008080; text-decoration-color: #008080; font-weight: bold\">0.9000</span>, <span style=\"color: #008080; text-decoration-color: #008080; font-weight: bold\">0.7937</span><span style=\"font-weight: bold\">]</span>,\n",
       "       <span style=\"color: #808000; text-decoration-color: #808000\">device</span>=<span style=\"color: #008000; text-decoration-color: #008000\">'cuda:0'</span><span style=\"font-weight: bold\">)</span>,\n",
       "            <span style=\"color: #008000; text-decoration-color: #008000\">'f1_per_class'</span>: <span style=\"color: #800080; text-decoration-color: #800080; font-weight: bold\">tensor</span><span style=\"font-weight: bold\">([</span><span style=\"color: #008080; text-decoration-color: #008080; font-weight: bold\">0.7022</span>, <span style=\"color: #008080; text-decoration-color: #008080; font-weight: bold\">0.8184</span>, <span style=\"color: #008080; text-decoration-color: #008080; font-weight: bold\">0.8654</span>, <span style=\"color: #008080; text-decoration-color: #008080; font-weight: bold\">0.9757</span>, <span style=\"color: #008080; text-decoration-color: #008080; font-weight: bold\">0.8030</span>, <span style=\"color: #008080; text-decoration-color: #008080; font-weight: bold\">0.9474</span>, <span style=\"color: #008080; text-decoration-color: #008080; font-weight: bold\">0.8167</span><span style=\"font-weight: bold\">]</span>,\n",
       "       <span style=\"color: #808000; text-decoration-color: #808000\">device</span>=<span style=\"color: #008000; text-decoration-color: #008000\">'cuda:0'</span><span style=\"font-weight: bold\">)</span>\n",
       "        <span style=\"font-weight: bold\">}</span>,\n",
       "        <span style=\"font-weight: bold\">{</span>\n",
       "            <span style=\"color: #008000; text-decoration-color: #008000\">'acc'</span>: <span style=\"color: #800080; text-decoration-color: #800080; font-weight: bold\">tensor</span><span style=\"font-weight: bold\">(</span><span style=\"color: #008080; text-decoration-color: #008080; font-weight: bold\">0.9754</span>, <span style=\"color: #808000; text-decoration-color: #808000\">device</span>=<span style=\"color: #008000; text-decoration-color: #008000\">'cuda:0'</span><span style=\"font-weight: bold\">)</span>,\n",
       "            <span style=\"color: #008000; text-decoration-color: #008000\">'f1_macro'</span>: <span style=\"color: #800080; text-decoration-color: #800080; font-weight: bold\">tensor</span><span style=\"font-weight: bold\">(</span><span style=\"color: #008080; text-decoration-color: #008080; font-weight: bold\">0.9714</span>, <span style=\"color: #808000; text-decoration-color: #808000\">device</span>=<span style=\"color: #008000; text-decoration-color: #008000\">'cuda:0'</span><span style=\"font-weight: bold\">)</span>,\n",
       "            <span style=\"color: #008000; text-decoration-color: #008000\">'f1_weighted'</span>: <span style=\"color: #800080; text-decoration-color: #800080; font-weight: bold\">tensor</span><span style=\"font-weight: bold\">(</span><span style=\"color: #008080; text-decoration-color: #008080; font-weight: bold\">0.9754</span>, <span style=\"color: #808000; text-decoration-color: #808000\">device</span>=<span style=\"color: #008000; text-decoration-color: #008000\">'cuda:0'</span><span style=\"font-weight: bold\">)</span>,\n",
       "            <span style=\"color: #008000; text-decoration-color: #008000\">'precision_per_class'</span>: <span style=\"color: #800080; text-decoration-color: #800080; font-weight: bold\">tensor</span><span style=\"font-weight: bold\">([</span><span style=\"color: #008080; text-decoration-color: #008080; font-weight: bold\">0.9534</span>, <span style=\"color: #008080; text-decoration-color: #008080; font-weight: bold\">0.9797</span>, <span style=\"color: #008080; text-decoration-color: #008080; font-weight: bold\">0.9886</span>, <span style=\"color: #008080; text-decoration-color: #008080; font-weight: bold\">0.9945</span>, <span style=\"color: #008080; text-decoration-color: #008080; font-weight: bold\">0.9300</span>, <span style=\"color: #008080; text-decoration-color: #008080; font-weight: bold\">0.9689</span>, <span style=\"color: #008080; text-decoration-color: #008080; font-weight: bold\">0.9954</span><span style=\"font-weight: bold\">]</span>,\n",
       "       <span style=\"color: #808000; text-decoration-color: #808000\">device</span>=<span style=\"color: #008000; text-decoration-color: #008000\">'cuda:0'</span><span style=\"font-weight: bold\">)</span>,\n",
       "            <span style=\"color: #008000; text-decoration-color: #008000\">'recall_per_class'</span>: <span style=\"color: #800080; text-decoration-color: #800080; font-weight: bold\">tensor</span><span style=\"font-weight: bold\">([</span><span style=\"color: #008080; text-decoration-color: #008080; font-weight: bold\">0.9735</span>, <span style=\"color: #008080; text-decoration-color: #008080; font-weight: bold\">0.9554</span>, <span style=\"color: #008080; text-decoration-color: #008080; font-weight: bold\">0.9560</span>, <span style=\"color: #008080; text-decoration-color: #008080; font-weight: bold\">0.9731</span>, <span style=\"color: #008080; text-decoration-color: #008080; font-weight: bold\">0.9347</span>, <span style=\"color: #008080; text-decoration-color: #008080; font-weight: bold\">1.0000</span>, <span style=\"color: #008080; text-decoration-color: #008080; font-weight: bold\">0.9977</span><span style=\"font-weight: bold\">]</span>,\n",
       "       <span style=\"color: #808000; text-decoration-color: #808000\">device</span>=<span style=\"color: #008000; text-decoration-color: #008000\">'cuda:0'</span><span style=\"font-weight: bold\">)</span>,\n",
       "            <span style=\"color: #008000; text-decoration-color: #008000\">'f1_per_class'</span>: <span style=\"color: #800080; text-decoration-color: #800080; font-weight: bold\">tensor</span><span style=\"font-weight: bold\">([</span><span style=\"color: #008080; text-decoration-color: #008080; font-weight: bold\">0.9634</span>, <span style=\"color: #008080; text-decoration-color: #008080; font-weight: bold\">0.9674</span>, <span style=\"color: #008080; text-decoration-color: #008080; font-weight: bold\">0.9721</span>, <span style=\"color: #008080; text-decoration-color: #008080; font-weight: bold\">0.9837</span>, <span style=\"color: #008080; text-decoration-color: #008080; font-weight: bold\">0.9323</span>, <span style=\"color: #008080; text-decoration-color: #008080; font-weight: bold\">0.9842</span>, <span style=\"color: #008080; text-decoration-color: #008080; font-weight: bold\">0.9965</span><span style=\"font-weight: bold\">]</span>,\n",
       "       <span style=\"color: #808000; text-decoration-color: #808000\">device</span>=<span style=\"color: #008000; text-decoration-color: #008000\">'cuda:0'</span><span style=\"font-weight: bold\">)</span>\n",
       "        <span style=\"font-weight: bold\">}</span>,\n",
       "        <span style=\"font-weight: bold\">{</span>\n",
       "            <span style=\"color: #008000; text-decoration-color: #008000\">'acc'</span>: <span style=\"color: #800080; text-decoration-color: #800080; font-weight: bold\">tensor</span><span style=\"font-weight: bold\">(</span><span style=\"color: #008080; text-decoration-color: #008080; font-weight: bold\">0.7491</span>, <span style=\"color: #808000; text-decoration-color: #808000\">device</span>=<span style=\"color: #008000; text-decoration-color: #008000\">'cuda:0'</span><span style=\"font-weight: bold\">)</span>,\n",
       "            <span style=\"color: #008000; text-decoration-color: #008000\">'f1_macro'</span>: <span style=\"color: #800080; text-decoration-color: #800080; font-weight: bold\">tensor</span><span style=\"font-weight: bold\">(</span><span style=\"color: #008080; text-decoration-color: #008080; font-weight: bold\">0.7663</span>, <span style=\"color: #808000; text-decoration-color: #808000\">device</span>=<span style=\"color: #008000; text-decoration-color: #008000\">'cuda:0'</span><span style=\"font-weight: bold\">)</span>,\n",
       "            <span style=\"color: #008000; text-decoration-color: #008000\">'f1_weighted'</span>: <span style=\"color: #800080; text-decoration-color: #800080; font-weight: bold\">tensor</span><span style=\"font-weight: bold\">(</span><span style=\"color: #008080; text-decoration-color: #008080; font-weight: bold\">0.7578</span>, <span style=\"color: #808000; text-decoration-color: #808000\">device</span>=<span style=\"color: #008000; text-decoration-color: #008000\">'cuda:0'</span><span style=\"font-weight: bold\">)</span>,\n",
       "            <span style=\"color: #008000; text-decoration-color: #008000\">'precision_per_class'</span>: <span style=\"color: #800080; text-decoration-color: #800080; font-weight: bold\">tensor</span><span style=\"font-weight: bold\">([</span><span style=\"color: #008080; text-decoration-color: #008080; font-weight: bold\">0.4636</span>, <span style=\"color: #008080; text-decoration-color: #008080; font-weight: bold\">0.8191</span>, <span style=\"color: #008080; text-decoration-color: #008080; font-weight: bold\">0.9589</span>, <span style=\"color: #008080; text-decoration-color: #008080; font-weight: bold\">0.5895</span>, <span style=\"color: #008080; text-decoration-color: #008080; font-weight: bold\">0.9554</span>, <span style=\"color: #008080; text-decoration-color: #008080; font-weight: bold\">1.0000</span>, <span style=\"color: #008080; text-decoration-color: #008080; font-weight: bold\">0.9805</span><span style=\"font-weight: bold\">]</span>,\n",
       "       <span style=\"color: #808000; text-decoration-color: #808000\">device</span>=<span style=\"color: #008000; text-decoration-color: #008000\">'cuda:0'</span><span style=\"font-weight: bold\">)</span>,\n",
       "            <span style=\"color: #008000; text-decoration-color: #008000\">'recall_per_class'</span>: <span style=\"color: #800080; text-decoration-color: #800080; font-weight: bold\">tensor</span><span style=\"font-weight: bold\">([</span><span style=\"color: #008080; text-decoration-color: #008080; font-weight: bold\">0.8843</span>, <span style=\"color: #008080; text-decoration-color: #008080; font-weight: bold\">0.6937</span>, <span style=\"color: #008080; text-decoration-color: #008080; font-weight: bold\">0.8757</span>, <span style=\"color: #008080; text-decoration-color: #008080; font-weight: bold\">1.0000</span>, <span style=\"color: #008080; text-decoration-color: #008080; font-weight: bold\">0.5957</span>, <span style=\"color: #008080; text-decoration-color: #008080; font-weight: bold\">0.9132</span>, <span style=\"color: #008080; text-decoration-color: #008080; font-weight: bold\">0.4963</span><span style=\"font-weight: bold\">]</span>,\n",
       "       <span style=\"color: #808000; text-decoration-color: #808000\">device</span>=<span style=\"color: #008000; text-decoration-color: #008000\">'cuda:0'</span><span style=\"font-weight: bold\">)</span>,\n",
       "            <span style=\"color: #008000; text-decoration-color: #008000\">'f1_per_class'</span>: <span style=\"color: #800080; text-decoration-color: #800080; font-weight: bold\">tensor</span><span style=\"font-weight: bold\">([</span><span style=\"color: #008080; text-decoration-color: #008080; font-weight: bold\">0.6083</span>, <span style=\"color: #008080; text-decoration-color: #008080; font-weight: bold\">0.7512</span>, <span style=\"color: #008080; text-decoration-color: #008080; font-weight: bold\">0.9154</span>, <span style=\"color: #008080; text-decoration-color: #008080; font-weight: bold\">0.7418</span>, <span style=\"color: #008080; text-decoration-color: #008080; font-weight: bold\">0.7338</span>, <span style=\"color: #008080; text-decoration-color: #008080; font-weight: bold\">0.9546</span>, <span style=\"color: #008080; text-decoration-color: #008080; font-weight: bold\">0.6590</span><span style=\"font-weight: bold\">]</span>,\n",
       "       <span style=\"color: #808000; text-decoration-color: #808000\">device</span>=<span style=\"color: #008000; text-decoration-color: #008000\">'cuda:0'</span><span style=\"font-weight: bold\">)</span>\n",
       "        <span style=\"font-weight: bold\">}</span>,\n",
       "        <span style=\"font-weight: bold\">{</span>\n",
       "            <span style=\"color: #008000; text-decoration-color: #008000\">'acc'</span>: <span style=\"color: #800080; text-decoration-color: #800080; font-weight: bold\">tensor</span><span style=\"font-weight: bold\">(</span><span style=\"color: #008080; text-decoration-color: #008080; font-weight: bold\">0.8359</span>, <span style=\"color: #808000; text-decoration-color: #808000\">device</span>=<span style=\"color: #008000; text-decoration-color: #008000\">'cuda:0'</span><span style=\"font-weight: bold\">)</span>,\n",
       "            <span style=\"color: #008000; text-decoration-color: #008000\">'f1_macro'</span>: <span style=\"color: #800080; text-decoration-color: #800080; font-weight: bold\">tensor</span><span style=\"font-weight: bold\">(</span><span style=\"color: #008080; text-decoration-color: #008080; font-weight: bold\">0.8316</span>, <span style=\"color: #808000; text-decoration-color: #808000\">device</span>=<span style=\"color: #008000; text-decoration-color: #008000\">'cuda:0'</span><span style=\"font-weight: bold\">)</span>,\n",
       "            <span style=\"color: #008000; text-decoration-color: #008000\">'f1_weighted'</span>: <span style=\"color: #800080; text-decoration-color: #800080; font-weight: bold\">tensor</span><span style=\"font-weight: bold\">(</span><span style=\"color: #008080; text-decoration-color: #008080; font-weight: bold\">0.8362</span>, <span style=\"color: #808000; text-decoration-color: #808000\">device</span>=<span style=\"color: #008000; text-decoration-color: #008000\">'cuda:0'</span><span style=\"font-weight: bold\">)</span>,\n",
       "            <span style=\"color: #008000; text-decoration-color: #008000\">'precision_per_class'</span>: <span style=\"color: #800080; text-decoration-color: #800080; font-weight: bold\">tensor</span><span style=\"font-weight: bold\">([</span><span style=\"color: #008080; text-decoration-color: #008080; font-weight: bold\">0.8276</span>, <span style=\"color: #008080; text-decoration-color: #008080; font-weight: bold\">0.6853</span>, <span style=\"color: #008080; text-decoration-color: #008080; font-weight: bold\">0.8978</span>, <span style=\"color: #008080; text-decoration-color: #008080; font-weight: bold\">0.9922</span>, <span style=\"color: #008080; text-decoration-color: #008080; font-weight: bold\">0.6857</span>, <span style=\"color: #008080; text-decoration-color: #008080; font-weight: bold\">0.8831</span>, <span style=\"color: #008080; text-decoration-color: #008080; font-weight: bold\">0.9545</span><span style=\"font-weight: bold\">]</span>,\n",
       "       <span style=\"color: #808000; text-decoration-color: #808000\">device</span>=<span style=\"color: #008000; text-decoration-color: #008000\">'cuda:0'</span><span style=\"font-weight: bold\">)</span>,\n",
       "            <span style=\"color: #008000; text-decoration-color: #008000\">'recall_per_class'</span>: <span style=\"color: #800080; text-decoration-color: #800080; font-weight: bold\">tensor</span><span style=\"font-weight: bold\">([</span><span style=\"color: #008080; text-decoration-color: #008080; font-weight: bold\">0.8865</span>, <span style=\"color: #008080; text-decoration-color: #008080; font-weight: bold\">0.9137</span>, <span style=\"color: #008080; text-decoration-color: #008080; font-weight: bold\">0.8632</span>, <span style=\"color: #008080; text-decoration-color: #008080; font-weight: bold\">0.6902</span>, <span style=\"color: #008080; text-decoration-color: #008080; font-weight: bold\">0.8358</span>, <span style=\"color: #008080; text-decoration-color: #008080; font-weight: bold\">0.9729</span>, <span style=\"color: #008080; text-decoration-color: #008080; font-weight: bold\">0.7016</span><span style=\"font-weight: bold\">]</span>,\n",
       "       <span style=\"color: #808000; text-decoration-color: #808000\">device</span>=<span style=\"color: #008000; text-decoration-color: #008000\">'cuda:0'</span><span style=\"font-weight: bold\">)</span>,\n",
       "            <span style=\"color: #008000; text-decoration-color: #008000\">'f1_per_class'</span>: <span style=\"color: #800080; text-decoration-color: #800080; font-weight: bold\">tensor</span><span style=\"font-weight: bold\">([</span><span style=\"color: #008080; text-decoration-color: #008080; font-weight: bold\">0.8561</span>, <span style=\"color: #008080; text-decoration-color: #008080; font-weight: bold\">0.7832</span>, <span style=\"color: #008080; text-decoration-color: #008080; font-weight: bold\">0.8801</span>, <span style=\"color: #008080; text-decoration-color: #008080; font-weight: bold\">0.8141</span>, <span style=\"color: #008080; text-decoration-color: #008080; font-weight: bold\">0.7534</span>, <span style=\"color: #008080; text-decoration-color: #008080; font-weight: bold\">0.9258</span>, <span style=\"color: #008080; text-decoration-color: #008080; font-weight: bold\">0.8087</span><span style=\"font-weight: bold\">]</span>,\n",
       "       <span style=\"color: #808000; text-decoration-color: #808000\">device</span>=<span style=\"color: #008000; text-decoration-color: #008000\">'cuda:0'</span><span style=\"font-weight: bold\">)</span>\n",
       "        <span style=\"font-weight: bold\">}</span>\n",
       "    <span style=\"font-weight: bold\">]</span>\n",
       "<span style=\"font-weight: bold\">}</span>\n",
       "</pre>\n"
      ]
     },
     "metadata": {},
     "output_type": "display_data"
    }
   ],
   "execution_count": 8
  },
  {
   "metadata": {
    "ExecuteTime": {
     "end_time": "2025-05-12T13:04:21.774449Z",
     "start_time": "2025-05-12T13:04:21.322186Z"
    }
   },
   "cell_type": "code",
   "source": [
    "import json\n",
    "with open(\"SummaryResults.json\", \"w\") as f:\n",
    "    json.dump(RESULTS, f)"
   ],
   "id": "3e500b664516881a",
   "outputs": [
    {
     "data": {
      "text/plain": [
       "\u001B[31m╭─\u001B[0m\u001B[31m──────────────────────────────\u001B[0m\u001B[31m \u001B[0m\u001B[1;31mTraceback \u001B[0m\u001B[1;2;31m(most recent call last)\u001B[0m\u001B[31m \u001B[0m\u001B[31m───────────────────────────────\u001B[0m\u001B[31m─╮\u001B[0m\n",
       "\u001B[31m│\u001B[0m in <module>:3                                                                                    \u001B[31m│\u001B[0m\n",
       "\u001B[31m│\u001B[0m                                                                                                  \u001B[31m│\u001B[0m\n",
       "\u001B[31m│\u001B[0m   \u001B[2m1 \u001B[0m\u001B[94mimport\u001B[0m\u001B[90m \u001B[0m\u001B[4;96mjson\u001B[0m                                                                                  \u001B[31m│\u001B[0m\n",
       "\u001B[31m│\u001B[0m   \u001B[2m2 \u001B[0m\u001B[94mwith\u001B[0m \u001B[96mopen\u001B[0m(\u001B[33m\"\u001B[0m\u001B[33mSummaryResults.json\u001B[0m\u001B[33m\"\u001B[0m, \u001B[33m\"\u001B[0m\u001B[33mw\u001B[0m\u001B[33m\"\u001B[0m) \u001B[94mas\u001B[0m f:                                                  \u001B[31m│\u001B[0m\n",
       "\u001B[31m│\u001B[0m \u001B[31m❱ \u001B[0m3 \u001B[2m│   \u001B[0m\u001B[1;4mjson.dump(RESULTS, f)\u001B[0m                                                                    \u001B[31m│\u001B[0m\n",
       "\u001B[31m│\u001B[0m   \u001B[2m4 \u001B[0m                                                                                             \u001B[31m│\u001B[0m\n",
       "\u001B[31m│\u001B[0m                                                                                                  \u001B[31m│\u001B[0m\n",
       "\u001B[31m│\u001B[0m \u001B[2m/usr/lib/python3.12/json/\u001B[0m\u001B[1m__init__.py\u001B[0m:179 in dump                                                 \u001B[31m│\u001B[0m\n",
       "\u001B[31m│\u001B[0m                                                                                                  \u001B[31m│\u001B[0m\n",
       "\u001B[31m│\u001B[0m   \u001B[2m176 \u001B[0m\u001B[2m│   │   │   \u001B[0mdefault=default, sort_keys=sort_keys, **kw).iterencode(obj)                    \u001B[31m│\u001B[0m\n",
       "\u001B[31m│\u001B[0m   \u001B[2m177 \u001B[0m\u001B[2m│   \u001B[0m\u001B[2m# could accelerate with writelines in some versions of Python, at\u001B[0m                      \u001B[31m│\u001B[0m\n",
       "\u001B[31m│\u001B[0m   \u001B[2m178 \u001B[0m\u001B[2m│   \u001B[0m\u001B[2m# a debuggability cost\u001B[0m                                                                 \u001B[31m│\u001B[0m\n",
       "\u001B[31m│\u001B[0m \u001B[31m❱ \u001B[0m179 \u001B[2m│   \u001B[0m\u001B[1;4;94mfor\u001B[0m\u001B[1;4m chunk \u001B[0m\u001B[1;4;95min\u001B[0m\u001B[1;4m iterable:\u001B[0m                                                                 \u001B[31m│\u001B[0m\n",
       "\u001B[31m│\u001B[0m   \u001B[2m180 \u001B[0m\u001B[2m│   │   \u001B[0m\u001B[1;4mfp.write(chunk)\u001B[0m                                                                    \u001B[31m│\u001B[0m\n",
       "\u001B[31m│\u001B[0m   \u001B[2m181 \u001B[0m                                                                                           \u001B[31m│\u001B[0m\n",
       "\u001B[31m│\u001B[0m   \u001B[2m182 \u001B[0m                                                                                           \u001B[31m│\u001B[0m\n",
       "\u001B[31m│\u001B[0m                                                                                                  \u001B[31m│\u001B[0m\n",
       "\u001B[31m│\u001B[0m \u001B[2m/usr/lib/python3.12/json/\u001B[0m\u001B[1mencoder.py\u001B[0m:432 in _iterencode                                           \u001B[31m│\u001B[0m\n",
       "\u001B[31m│\u001B[0m                                                                                                  \u001B[31m│\u001B[0m\n",
       "\u001B[31m│\u001B[0m   \u001B[2m429 \u001B[0m\u001B[2m│   │   \u001B[0m\u001B[94melif\u001B[0m \u001B[96misinstance\u001B[0m(o, (\u001B[96mlist\u001B[0m, \u001B[96mtuple\u001B[0m)):                                                 \u001B[31m│\u001B[0m\n",
       "\u001B[31m│\u001B[0m   \u001B[2m430 \u001B[0m\u001B[2m│   │   │   \u001B[0m\u001B[94myield from\u001B[0m _iterencode_list(o, _current_indent_level)                          \u001B[31m│\u001B[0m\n",
       "\u001B[31m│\u001B[0m   \u001B[2m431 \u001B[0m\u001B[2m│   │   \u001B[0m\u001B[94melif\u001B[0m \u001B[96misinstance\u001B[0m(o, \u001B[96mdict\u001B[0m):                                                          \u001B[31m│\u001B[0m\n",
       "\u001B[31m│\u001B[0m \u001B[31m❱ \u001B[0m432 \u001B[2m│   │   │   \u001B[0m\u001B[1;4;94myield from\u001B[0m\u001B[1;4m _iterencode_dict(o, _current_indent_level)\u001B[0m                          \u001B[31m│\u001B[0m\n",
       "\u001B[31m│\u001B[0m   \u001B[2m433 \u001B[0m\u001B[2m│   │   \u001B[0m\u001B[94melse\u001B[0m:                                                                              \u001B[31m│\u001B[0m\n",
       "\u001B[31m│\u001B[0m   \u001B[2m434 \u001B[0m\u001B[2m│   │   │   \u001B[0m\u001B[94mif\u001B[0m markers \u001B[95mis\u001B[0m \u001B[95mnot\u001B[0m \u001B[94mNone\u001B[0m:                                                        \u001B[31m│\u001B[0m\n",
       "\u001B[31m│\u001B[0m   \u001B[2m435 \u001B[0m\u001B[2m│   │   │   │   \u001B[0mmarkerid = \u001B[96mid\u001B[0m(o)                                                           \u001B[31m│\u001B[0m\n",
       "\u001B[31m│\u001B[0m                                                                                                  \u001B[31m│\u001B[0m\n",
       "\u001B[31m│\u001B[0m \u001B[2m/usr/lib/python3.12/json/\u001B[0m\u001B[1mencoder.py\u001B[0m:406 in _iterencode_dict                                      \u001B[31m│\u001B[0m\n",
       "\u001B[31m│\u001B[0m                                                                                                  \u001B[31m│\u001B[0m\n",
       "\u001B[31m│\u001B[0m   \u001B[2m403 \u001B[0m\u001B[2m│   │   │   │   │   \u001B[0mchunks = _iterencode_dict(value, _current_indent_level)                \u001B[31m│\u001B[0m\n",
       "\u001B[31m│\u001B[0m   \u001B[2m404 \u001B[0m\u001B[2m│   │   │   │   \u001B[0m\u001B[94melse\u001B[0m:                                                                      \u001B[31m│\u001B[0m\n",
       "\u001B[31m│\u001B[0m   \u001B[2m405 \u001B[0m\u001B[2m│   │   │   │   │   \u001B[0mchunks = _iterencode(value, _current_indent_level)                     \u001B[31m│\u001B[0m\n",
       "\u001B[31m│\u001B[0m \u001B[31m❱ \u001B[0m406 \u001B[2m│   │   │   │   \u001B[0m\u001B[1;4;94myield from\u001B[0m\u001B[1;4m chunks\u001B[0m                                                          \u001B[31m│\u001B[0m\n",
       "\u001B[31m│\u001B[0m   \u001B[2m407 \u001B[0m\u001B[2m│   │   \u001B[0m\u001B[94mif\u001B[0m newline_indent \u001B[95mis\u001B[0m \u001B[95mnot\u001B[0m \u001B[94mNone\u001B[0m:                                                     \u001B[31m│\u001B[0m\n",
       "\u001B[31m│\u001B[0m   \u001B[2m408 \u001B[0m\u001B[2m│   │   │   \u001B[0m_current_indent_level -= \u001B[94m1\u001B[0m                                                     \u001B[31m│\u001B[0m\n",
       "\u001B[31m│\u001B[0m   \u001B[2m409 \u001B[0m\u001B[2m│   │   │   \u001B[0m\u001B[94myield\u001B[0m \u001B[33m'\u001B[0m\u001B[33m\\n\u001B[0m\u001B[33m'\u001B[0m + _indent * _current_indent_level                                   \u001B[31m│\u001B[0m\n",
       "\u001B[31m│\u001B[0m                                                                                                  \u001B[31m│\u001B[0m\n",
       "\u001B[31m│\u001B[0m \u001B[2m/usr/lib/python3.12/json/\u001B[0m\u001B[1mencoder.py\u001B[0m:326 in _iterencode_list                                      \u001B[31m│\u001B[0m\n",
       "\u001B[31m│\u001B[0m                                                                                                  \u001B[31m│\u001B[0m\n",
       "\u001B[31m│\u001B[0m   \u001B[2m323 \u001B[0m\u001B[2m│   │   │   │   │   \u001B[0mchunks = _iterencode_dict(value, _current_indent_level)                \u001B[31m│\u001B[0m\n",
       "\u001B[31m│\u001B[0m   \u001B[2m324 \u001B[0m\u001B[2m│   │   │   │   \u001B[0m\u001B[94melse\u001B[0m:                                                                      \u001B[31m│\u001B[0m\n",
       "\u001B[31m│\u001B[0m   \u001B[2m325 \u001B[0m\u001B[2m│   │   │   │   │   \u001B[0mchunks = _iterencode(value, _current_indent_level)                     \u001B[31m│\u001B[0m\n",
       "\u001B[31m│\u001B[0m \u001B[31m❱ \u001B[0m326 \u001B[2m│   │   │   │   \u001B[0m\u001B[1;4;94myield from\u001B[0m\u001B[1;4m chunks\u001B[0m                                                          \u001B[31m│\u001B[0m\n",
       "\u001B[31m│\u001B[0m   \u001B[2m327 \u001B[0m\u001B[2m│   │   \u001B[0m\u001B[94mif\u001B[0m newline_indent \u001B[95mis\u001B[0m \u001B[95mnot\u001B[0m \u001B[94mNone\u001B[0m:                                                     \u001B[31m│\u001B[0m\n",
       "\u001B[31m│\u001B[0m   \u001B[2m328 \u001B[0m\u001B[2m│   │   │   \u001B[0m_current_indent_level -= \u001B[94m1\u001B[0m                                                     \u001B[31m│\u001B[0m\n",
       "\u001B[31m│\u001B[0m   \u001B[2m329 \u001B[0m\u001B[2m│   │   │   \u001B[0m\u001B[94myield\u001B[0m \u001B[33m'\u001B[0m\u001B[33m\\n\u001B[0m\u001B[33m'\u001B[0m + _indent * _current_indent_level                                   \u001B[31m│\u001B[0m\n",
       "\u001B[31m│\u001B[0m                                                                                                  \u001B[31m│\u001B[0m\n",
       "\u001B[31m│\u001B[0m \u001B[2m/usr/lib/python3.12/json/\u001B[0m\u001B[1mencoder.py\u001B[0m:406 in _iterencode_dict                                      \u001B[31m│\u001B[0m\n",
       "\u001B[31m│\u001B[0m                                                                                                  \u001B[31m│\u001B[0m\n",
       "\u001B[31m│\u001B[0m   \u001B[2m403 \u001B[0m\u001B[2m│   │   │   │   │   \u001B[0mchunks = _iterencode_dict(value, _current_indent_level)                \u001B[31m│\u001B[0m\n",
       "\u001B[31m│\u001B[0m   \u001B[2m404 \u001B[0m\u001B[2m│   │   │   │   \u001B[0m\u001B[94melse\u001B[0m:                                                                      \u001B[31m│\u001B[0m\n",
       "\u001B[31m│\u001B[0m   \u001B[2m405 \u001B[0m\u001B[2m│   │   │   │   │   \u001B[0mchunks = _iterencode(value, _current_indent_level)                     \u001B[31m│\u001B[0m\n",
       "\u001B[31m│\u001B[0m \u001B[31m❱ \u001B[0m406 \u001B[2m│   │   │   │   \u001B[0m\u001B[1;4;94myield from\u001B[0m\u001B[1;4m chunks\u001B[0m                                                          \u001B[31m│\u001B[0m\n",
       "\u001B[31m│\u001B[0m   \u001B[2m407 \u001B[0m\u001B[2m│   │   \u001B[0m\u001B[94mif\u001B[0m newline_indent \u001B[95mis\u001B[0m \u001B[95mnot\u001B[0m \u001B[94mNone\u001B[0m:                                                     \u001B[31m│\u001B[0m\n",
       "\u001B[31m│\u001B[0m   \u001B[2m408 \u001B[0m\u001B[2m│   │   │   \u001B[0m_current_indent_level -= \u001B[94m1\u001B[0m                                                     \u001B[31m│\u001B[0m\n",
       "\u001B[31m│\u001B[0m   \u001B[2m409 \u001B[0m\u001B[2m│   │   │   \u001B[0m\u001B[94myield\u001B[0m \u001B[33m'\u001B[0m\u001B[33m\\n\u001B[0m\u001B[33m'\u001B[0m + _indent * _current_indent_level                                   \u001B[31m│\u001B[0m\n",
       "\u001B[31m│\u001B[0m                                                                                                  \u001B[31m│\u001B[0m\n",
       "\u001B[31m│\u001B[0m \u001B[2m/usr/lib/python3.12/json/\u001B[0m\u001B[1mencoder.py\u001B[0m:439 in _iterencode                                           \u001B[31m│\u001B[0m\n",
       "\u001B[31m│\u001B[0m                                                                                                  \u001B[31m│\u001B[0m\n",
       "\u001B[31m│\u001B[0m   \u001B[2m436 \u001B[0m\u001B[2m│   │   │   │   \u001B[0m\u001B[94mif\u001B[0m markerid \u001B[95min\u001B[0m markers:                                                    \u001B[31m│\u001B[0m\n",
       "\u001B[31m│\u001B[0m   \u001B[2m437 \u001B[0m\u001B[2m│   │   │   │   │   \u001B[0m\u001B[94mraise\u001B[0m \u001B[96mValueError\u001B[0m(\u001B[33m\"\u001B[0m\u001B[33mCircular reference detected\u001B[0m\u001B[33m\"\u001B[0m)                        \u001B[31m│\u001B[0m\n",
       "\u001B[31m│\u001B[0m   \u001B[2m438 \u001B[0m\u001B[2m│   │   │   │   \u001B[0mmarkers[markerid] = o                                                      \u001B[31m│\u001B[0m\n",
       "\u001B[31m│\u001B[0m \u001B[31m❱ \u001B[0m439 \u001B[2m│   │   │   \u001B[0mo = \u001B[1;4m_default(o)\u001B[0m                                                                \u001B[31m│\u001B[0m\n",
       "\u001B[31m│\u001B[0m   \u001B[2m440 \u001B[0m\u001B[2m│   │   │   \u001B[0m\u001B[94myield from\u001B[0m _iterencode(o, _current_indent_level)                               \u001B[31m│\u001B[0m\n",
       "\u001B[31m│\u001B[0m   \u001B[2m441 \u001B[0m\u001B[2m│   │   │   \u001B[0m\u001B[94mif\u001B[0m markers \u001B[95mis\u001B[0m \u001B[95mnot\u001B[0m \u001B[94mNone\u001B[0m:                                                        \u001B[31m│\u001B[0m\n",
       "\u001B[31m│\u001B[0m   \u001B[2m442 \u001B[0m\u001B[2m│   │   │   │   \u001B[0m\u001B[94mdel\u001B[0m markers[markerid]                                                      \u001B[31m│\u001B[0m\n",
       "\u001B[31m│\u001B[0m                                                                                                  \u001B[31m│\u001B[0m\n",
       "\u001B[31m│\u001B[0m \u001B[2m/usr/lib/python3.12/json/\u001B[0m\u001B[1mencoder.py\u001B[0m:180 in default                                               \u001B[31m│\u001B[0m\n",
       "\u001B[31m│\u001B[0m                                                                                                  \u001B[31m│\u001B[0m\n",
       "\u001B[31m│\u001B[0m   \u001B[2m177 \u001B[0m\u001B[2;33m│   │   │   │   \u001B[0m\u001B[33mreturn super().default(o)\u001B[0m                                                  \u001B[31m│\u001B[0m\n",
       "\u001B[31m│\u001B[0m   \u001B[2m178 \u001B[0m\u001B[2m│   │   \u001B[0m                                                                                   \u001B[31m│\u001B[0m\n",
       "\u001B[31m│\u001B[0m   \u001B[2m179 \u001B[0m\u001B[2;33m│   │   \u001B[0m\u001B[33m\"\"\"\u001B[0m                                                                                \u001B[31m│\u001B[0m\n",
       "\u001B[31m│\u001B[0m \u001B[31m❱ \u001B[0m180 \u001B[2m│   │   \u001B[0m\u001B[1;4;94mraise\u001B[0m\u001B[1;4m \u001B[0m\u001B[1;4;96mTypeError\u001B[0m\u001B[1;4m(\u001B[0m\u001B[1;4;33mf\u001B[0m\u001B[1;4;33m'\u001B[0m\u001B[1;4;33mObject of type \u001B[0m\u001B[1;4;33m{\u001B[0m\u001B[1;4mo.\u001B[0m\u001B[1;4;91m__class__\u001B[0m\u001B[1;4m.\u001B[0m\u001B[1;4;91m__name__\u001B[0m\u001B[1;4;33m}\u001B[0m\u001B[1;4;33m \u001B[0m\u001B[1;4;33m'\u001B[0m                          \u001B[31m│\u001B[0m\n",
       "\u001B[31m│\u001B[0m   \u001B[2m181 \u001B[0m\u001B[2m│   │   │   │   │   │   \u001B[0m\u001B[1;4;33mf\u001B[0m\u001B[1;4;33m'\u001B[0m\u001B[1;4;33mis not JSON serializable\u001B[0m\u001B[1;4;33m'\u001B[0m\u001B[1;4m)\u001B[0m                                       \u001B[31m│\u001B[0m\n",
       "\u001B[31m│\u001B[0m   \u001B[2m182 \u001B[0m\u001B[2m│   \u001B[0m                                                                                       \u001B[31m│\u001B[0m\n",
       "\u001B[31m│\u001B[0m   \u001B[2m183 \u001B[0m\u001B[2m│   \u001B[0m\u001B[94mdef\u001B[0m\u001B[90m \u001B[0m\u001B[92mencode\u001B[0m(\u001B[96mself\u001B[0m, o):                                                                   \u001B[31m│\u001B[0m\n",
       "\u001B[31m╰──────────────────────────────────────────────────────────────────────────────────────────────────╯\u001B[0m\n",
       "\u001B[1;91mTypeError: \u001B[0mObject of type Tensor is not JSON serializable\n"
      ],
      "text/html": [
       "<pre style=\"white-space:pre;overflow-x:auto;line-height:normal;font-family:Menlo,'DejaVu Sans Mono',consolas,'Courier New',monospace\"><span style=\"color: #800000; text-decoration-color: #800000\">╭─────────────────────────────── </span><span style=\"color: #800000; text-decoration-color: #800000; font-weight: bold\">Traceback </span><span style=\"color: #bf7f7f; text-decoration-color: #bf7f7f; font-weight: bold\">(most recent call last)</span><span style=\"color: #800000; text-decoration-color: #800000\"> ────────────────────────────────╮</span>\n",
       "<span style=\"color: #800000; text-decoration-color: #800000\">│</span> in &lt;module&gt;:3                                                                                    <span style=\"color: #800000; text-decoration-color: #800000\">│</span>\n",
       "<span style=\"color: #800000; text-decoration-color: #800000\">│</span>                                                                                                  <span style=\"color: #800000; text-decoration-color: #800000\">│</span>\n",
       "<span style=\"color: #800000; text-decoration-color: #800000\">│</span>   <span style=\"color: #7f7f7f; text-decoration-color: #7f7f7f\">1 </span><span style=\"color: #0000ff; text-decoration-color: #0000ff\">import</span><span style=\"color: #808080; text-decoration-color: #808080\"> </span><span style=\"color: #00ffff; text-decoration-color: #00ffff; text-decoration: underline\">json</span>                                                                                  <span style=\"color: #800000; text-decoration-color: #800000\">│</span>\n",
       "<span style=\"color: #800000; text-decoration-color: #800000\">│</span>   <span style=\"color: #7f7f7f; text-decoration-color: #7f7f7f\">2 </span><span style=\"color: #0000ff; text-decoration-color: #0000ff\">with</span> <span style=\"color: #00ffff; text-decoration-color: #00ffff\">open</span>(<span style=\"color: #808000; text-decoration-color: #808000\">\"SummaryResults.json\"</span>, <span style=\"color: #808000; text-decoration-color: #808000\">\"w\"</span>) <span style=\"color: #0000ff; text-decoration-color: #0000ff\">as</span> f:                                                  <span style=\"color: #800000; text-decoration-color: #800000\">│</span>\n",
       "<span style=\"color: #800000; text-decoration-color: #800000\">│</span> <span style=\"color: #800000; text-decoration-color: #800000\">❱ </span>3 <span style=\"color: #7f7f7f; text-decoration-color: #7f7f7f\">│   </span><span style=\"font-weight: bold; text-decoration: underline\">json.dump(RESULTS, f)</span>                                                                    <span style=\"color: #800000; text-decoration-color: #800000\">│</span>\n",
       "<span style=\"color: #800000; text-decoration-color: #800000\">│</span>   <span style=\"color: #7f7f7f; text-decoration-color: #7f7f7f\">4 </span>                                                                                             <span style=\"color: #800000; text-decoration-color: #800000\">│</span>\n",
       "<span style=\"color: #800000; text-decoration-color: #800000\">│</span>                                                                                                  <span style=\"color: #800000; text-decoration-color: #800000\">│</span>\n",
       "<span style=\"color: #800000; text-decoration-color: #800000\">│</span> <span style=\"color: #7f7f7f; text-decoration-color: #7f7f7f\">/usr/lib/python3.12/json/</span><span style=\"font-weight: bold\">__init__.py</span>:179 in dump                                                 <span style=\"color: #800000; text-decoration-color: #800000\">│</span>\n",
       "<span style=\"color: #800000; text-decoration-color: #800000\">│</span>                                                                                                  <span style=\"color: #800000; text-decoration-color: #800000\">│</span>\n",
       "<span style=\"color: #800000; text-decoration-color: #800000\">│</span>   <span style=\"color: #7f7f7f; text-decoration-color: #7f7f7f\">176 </span><span style=\"color: #7f7f7f; text-decoration-color: #7f7f7f\">│   │   │   </span>default=default, sort_keys=sort_keys, **kw).iterencode(obj)                    <span style=\"color: #800000; text-decoration-color: #800000\">│</span>\n",
       "<span style=\"color: #800000; text-decoration-color: #800000\">│</span>   <span style=\"color: #7f7f7f; text-decoration-color: #7f7f7f\">177 </span><span style=\"color: #7f7f7f; text-decoration-color: #7f7f7f\">│   </span><span style=\"color: #7f7f7f; text-decoration-color: #7f7f7f\"># could accelerate with writelines in some versions of Python, at</span>                      <span style=\"color: #800000; text-decoration-color: #800000\">│</span>\n",
       "<span style=\"color: #800000; text-decoration-color: #800000\">│</span>   <span style=\"color: #7f7f7f; text-decoration-color: #7f7f7f\">178 </span><span style=\"color: #7f7f7f; text-decoration-color: #7f7f7f\">│   </span><span style=\"color: #7f7f7f; text-decoration-color: #7f7f7f\"># a debuggability cost</span>                                                                 <span style=\"color: #800000; text-decoration-color: #800000\">│</span>\n",
       "<span style=\"color: #800000; text-decoration-color: #800000\">│</span> <span style=\"color: #800000; text-decoration-color: #800000\">❱ </span>179 <span style=\"color: #7f7f7f; text-decoration-color: #7f7f7f\">│   </span><span style=\"color: #0000ff; text-decoration-color: #0000ff; font-weight: bold; text-decoration: underline\">for</span><span style=\"font-weight: bold; text-decoration: underline\"> chunk </span><span style=\"color: #ff00ff; text-decoration-color: #ff00ff; font-weight: bold; text-decoration: underline\">in</span><span style=\"font-weight: bold; text-decoration: underline\"> iterable:</span>                                                                 <span style=\"color: #800000; text-decoration-color: #800000\">│</span>\n",
       "<span style=\"color: #800000; text-decoration-color: #800000\">│</span>   <span style=\"color: #7f7f7f; text-decoration-color: #7f7f7f\">180 </span><span style=\"color: #7f7f7f; text-decoration-color: #7f7f7f\">│   │   </span><span style=\"font-weight: bold; text-decoration: underline\">fp.write(chunk)</span>                                                                    <span style=\"color: #800000; text-decoration-color: #800000\">│</span>\n",
       "<span style=\"color: #800000; text-decoration-color: #800000\">│</span>   <span style=\"color: #7f7f7f; text-decoration-color: #7f7f7f\">181 </span>                                                                                           <span style=\"color: #800000; text-decoration-color: #800000\">│</span>\n",
       "<span style=\"color: #800000; text-decoration-color: #800000\">│</span>   <span style=\"color: #7f7f7f; text-decoration-color: #7f7f7f\">182 </span>                                                                                           <span style=\"color: #800000; text-decoration-color: #800000\">│</span>\n",
       "<span style=\"color: #800000; text-decoration-color: #800000\">│</span>                                                                                                  <span style=\"color: #800000; text-decoration-color: #800000\">│</span>\n",
       "<span style=\"color: #800000; text-decoration-color: #800000\">│</span> <span style=\"color: #7f7f7f; text-decoration-color: #7f7f7f\">/usr/lib/python3.12/json/</span><span style=\"font-weight: bold\">encoder.py</span>:432 in _iterencode                                           <span style=\"color: #800000; text-decoration-color: #800000\">│</span>\n",
       "<span style=\"color: #800000; text-decoration-color: #800000\">│</span>                                                                                                  <span style=\"color: #800000; text-decoration-color: #800000\">│</span>\n",
       "<span style=\"color: #800000; text-decoration-color: #800000\">│</span>   <span style=\"color: #7f7f7f; text-decoration-color: #7f7f7f\">429 </span><span style=\"color: #7f7f7f; text-decoration-color: #7f7f7f\">│   │   </span><span style=\"color: #0000ff; text-decoration-color: #0000ff\">elif</span> <span style=\"color: #00ffff; text-decoration-color: #00ffff\">isinstance</span>(o, (<span style=\"color: #00ffff; text-decoration-color: #00ffff\">list</span>, <span style=\"color: #00ffff; text-decoration-color: #00ffff\">tuple</span>)):                                                 <span style=\"color: #800000; text-decoration-color: #800000\">│</span>\n",
       "<span style=\"color: #800000; text-decoration-color: #800000\">│</span>   <span style=\"color: #7f7f7f; text-decoration-color: #7f7f7f\">430 </span><span style=\"color: #7f7f7f; text-decoration-color: #7f7f7f\">│   │   │   </span><span style=\"color: #0000ff; text-decoration-color: #0000ff\">yield from</span> _iterencode_list(o, _current_indent_level)                          <span style=\"color: #800000; text-decoration-color: #800000\">│</span>\n",
       "<span style=\"color: #800000; text-decoration-color: #800000\">│</span>   <span style=\"color: #7f7f7f; text-decoration-color: #7f7f7f\">431 </span><span style=\"color: #7f7f7f; text-decoration-color: #7f7f7f\">│   │   </span><span style=\"color: #0000ff; text-decoration-color: #0000ff\">elif</span> <span style=\"color: #00ffff; text-decoration-color: #00ffff\">isinstance</span>(o, <span style=\"color: #00ffff; text-decoration-color: #00ffff\">dict</span>):                                                          <span style=\"color: #800000; text-decoration-color: #800000\">│</span>\n",
       "<span style=\"color: #800000; text-decoration-color: #800000\">│</span> <span style=\"color: #800000; text-decoration-color: #800000\">❱ </span>432 <span style=\"color: #7f7f7f; text-decoration-color: #7f7f7f\">│   │   │   </span><span style=\"color: #0000ff; text-decoration-color: #0000ff; font-weight: bold; text-decoration: underline\">yield from</span><span style=\"font-weight: bold; text-decoration: underline\"> _iterencode_dict(o, _current_indent_level)</span>                          <span style=\"color: #800000; text-decoration-color: #800000\">│</span>\n",
       "<span style=\"color: #800000; text-decoration-color: #800000\">│</span>   <span style=\"color: #7f7f7f; text-decoration-color: #7f7f7f\">433 </span><span style=\"color: #7f7f7f; text-decoration-color: #7f7f7f\">│   │   </span><span style=\"color: #0000ff; text-decoration-color: #0000ff\">else</span>:                                                                              <span style=\"color: #800000; text-decoration-color: #800000\">│</span>\n",
       "<span style=\"color: #800000; text-decoration-color: #800000\">│</span>   <span style=\"color: #7f7f7f; text-decoration-color: #7f7f7f\">434 </span><span style=\"color: #7f7f7f; text-decoration-color: #7f7f7f\">│   │   │   </span><span style=\"color: #0000ff; text-decoration-color: #0000ff\">if</span> markers <span style=\"color: #ff00ff; text-decoration-color: #ff00ff\">is</span> <span style=\"color: #ff00ff; text-decoration-color: #ff00ff\">not</span> <span style=\"color: #0000ff; text-decoration-color: #0000ff\">None</span>:                                                        <span style=\"color: #800000; text-decoration-color: #800000\">│</span>\n",
       "<span style=\"color: #800000; text-decoration-color: #800000\">│</span>   <span style=\"color: #7f7f7f; text-decoration-color: #7f7f7f\">435 </span><span style=\"color: #7f7f7f; text-decoration-color: #7f7f7f\">│   │   │   │   </span>markerid = <span style=\"color: #00ffff; text-decoration-color: #00ffff\">id</span>(o)                                                           <span style=\"color: #800000; text-decoration-color: #800000\">│</span>\n",
       "<span style=\"color: #800000; text-decoration-color: #800000\">│</span>                                                                                                  <span style=\"color: #800000; text-decoration-color: #800000\">│</span>\n",
       "<span style=\"color: #800000; text-decoration-color: #800000\">│</span> <span style=\"color: #7f7f7f; text-decoration-color: #7f7f7f\">/usr/lib/python3.12/json/</span><span style=\"font-weight: bold\">encoder.py</span>:406 in _iterencode_dict                                      <span style=\"color: #800000; text-decoration-color: #800000\">│</span>\n",
       "<span style=\"color: #800000; text-decoration-color: #800000\">│</span>                                                                                                  <span style=\"color: #800000; text-decoration-color: #800000\">│</span>\n",
       "<span style=\"color: #800000; text-decoration-color: #800000\">│</span>   <span style=\"color: #7f7f7f; text-decoration-color: #7f7f7f\">403 </span><span style=\"color: #7f7f7f; text-decoration-color: #7f7f7f\">│   │   │   │   │   </span>chunks = _iterencode_dict(value, _current_indent_level)                <span style=\"color: #800000; text-decoration-color: #800000\">│</span>\n",
       "<span style=\"color: #800000; text-decoration-color: #800000\">│</span>   <span style=\"color: #7f7f7f; text-decoration-color: #7f7f7f\">404 </span><span style=\"color: #7f7f7f; text-decoration-color: #7f7f7f\">│   │   │   │   </span><span style=\"color: #0000ff; text-decoration-color: #0000ff\">else</span>:                                                                      <span style=\"color: #800000; text-decoration-color: #800000\">│</span>\n",
       "<span style=\"color: #800000; text-decoration-color: #800000\">│</span>   <span style=\"color: #7f7f7f; text-decoration-color: #7f7f7f\">405 </span><span style=\"color: #7f7f7f; text-decoration-color: #7f7f7f\">│   │   │   │   │   </span>chunks = _iterencode(value, _current_indent_level)                     <span style=\"color: #800000; text-decoration-color: #800000\">│</span>\n",
       "<span style=\"color: #800000; text-decoration-color: #800000\">│</span> <span style=\"color: #800000; text-decoration-color: #800000\">❱ </span>406 <span style=\"color: #7f7f7f; text-decoration-color: #7f7f7f\">│   │   │   │   </span><span style=\"color: #0000ff; text-decoration-color: #0000ff; font-weight: bold; text-decoration: underline\">yield from</span><span style=\"font-weight: bold; text-decoration: underline\"> chunks</span>                                                          <span style=\"color: #800000; text-decoration-color: #800000\">│</span>\n",
       "<span style=\"color: #800000; text-decoration-color: #800000\">│</span>   <span style=\"color: #7f7f7f; text-decoration-color: #7f7f7f\">407 </span><span style=\"color: #7f7f7f; text-decoration-color: #7f7f7f\">│   │   </span><span style=\"color: #0000ff; text-decoration-color: #0000ff\">if</span> newline_indent <span style=\"color: #ff00ff; text-decoration-color: #ff00ff\">is</span> <span style=\"color: #ff00ff; text-decoration-color: #ff00ff\">not</span> <span style=\"color: #0000ff; text-decoration-color: #0000ff\">None</span>:                                                     <span style=\"color: #800000; text-decoration-color: #800000\">│</span>\n",
       "<span style=\"color: #800000; text-decoration-color: #800000\">│</span>   <span style=\"color: #7f7f7f; text-decoration-color: #7f7f7f\">408 </span><span style=\"color: #7f7f7f; text-decoration-color: #7f7f7f\">│   │   │   </span>_current_indent_level -= <span style=\"color: #0000ff; text-decoration-color: #0000ff\">1</span>                                                     <span style=\"color: #800000; text-decoration-color: #800000\">│</span>\n",
       "<span style=\"color: #800000; text-decoration-color: #800000\">│</span>   <span style=\"color: #7f7f7f; text-decoration-color: #7f7f7f\">409 </span><span style=\"color: #7f7f7f; text-decoration-color: #7f7f7f\">│   │   │   </span><span style=\"color: #0000ff; text-decoration-color: #0000ff\">yield</span> <span style=\"color: #808000; text-decoration-color: #808000\">'\\n'</span> + _indent * _current_indent_level                                   <span style=\"color: #800000; text-decoration-color: #800000\">│</span>\n",
       "<span style=\"color: #800000; text-decoration-color: #800000\">│</span>                                                                                                  <span style=\"color: #800000; text-decoration-color: #800000\">│</span>\n",
       "<span style=\"color: #800000; text-decoration-color: #800000\">│</span> <span style=\"color: #7f7f7f; text-decoration-color: #7f7f7f\">/usr/lib/python3.12/json/</span><span style=\"font-weight: bold\">encoder.py</span>:326 in _iterencode_list                                      <span style=\"color: #800000; text-decoration-color: #800000\">│</span>\n",
       "<span style=\"color: #800000; text-decoration-color: #800000\">│</span>                                                                                                  <span style=\"color: #800000; text-decoration-color: #800000\">│</span>\n",
       "<span style=\"color: #800000; text-decoration-color: #800000\">│</span>   <span style=\"color: #7f7f7f; text-decoration-color: #7f7f7f\">323 </span><span style=\"color: #7f7f7f; text-decoration-color: #7f7f7f\">│   │   │   │   │   </span>chunks = _iterencode_dict(value, _current_indent_level)                <span style=\"color: #800000; text-decoration-color: #800000\">│</span>\n",
       "<span style=\"color: #800000; text-decoration-color: #800000\">│</span>   <span style=\"color: #7f7f7f; text-decoration-color: #7f7f7f\">324 </span><span style=\"color: #7f7f7f; text-decoration-color: #7f7f7f\">│   │   │   │   </span><span style=\"color: #0000ff; text-decoration-color: #0000ff\">else</span>:                                                                      <span style=\"color: #800000; text-decoration-color: #800000\">│</span>\n",
       "<span style=\"color: #800000; text-decoration-color: #800000\">│</span>   <span style=\"color: #7f7f7f; text-decoration-color: #7f7f7f\">325 </span><span style=\"color: #7f7f7f; text-decoration-color: #7f7f7f\">│   │   │   │   │   </span>chunks = _iterencode(value, _current_indent_level)                     <span style=\"color: #800000; text-decoration-color: #800000\">│</span>\n",
       "<span style=\"color: #800000; text-decoration-color: #800000\">│</span> <span style=\"color: #800000; text-decoration-color: #800000\">❱ </span>326 <span style=\"color: #7f7f7f; text-decoration-color: #7f7f7f\">│   │   │   │   </span><span style=\"color: #0000ff; text-decoration-color: #0000ff; font-weight: bold; text-decoration: underline\">yield from</span><span style=\"font-weight: bold; text-decoration: underline\"> chunks</span>                                                          <span style=\"color: #800000; text-decoration-color: #800000\">│</span>\n",
       "<span style=\"color: #800000; text-decoration-color: #800000\">│</span>   <span style=\"color: #7f7f7f; text-decoration-color: #7f7f7f\">327 </span><span style=\"color: #7f7f7f; text-decoration-color: #7f7f7f\">│   │   </span><span style=\"color: #0000ff; text-decoration-color: #0000ff\">if</span> newline_indent <span style=\"color: #ff00ff; text-decoration-color: #ff00ff\">is</span> <span style=\"color: #ff00ff; text-decoration-color: #ff00ff\">not</span> <span style=\"color: #0000ff; text-decoration-color: #0000ff\">None</span>:                                                     <span style=\"color: #800000; text-decoration-color: #800000\">│</span>\n",
       "<span style=\"color: #800000; text-decoration-color: #800000\">│</span>   <span style=\"color: #7f7f7f; text-decoration-color: #7f7f7f\">328 </span><span style=\"color: #7f7f7f; text-decoration-color: #7f7f7f\">│   │   │   </span>_current_indent_level -= <span style=\"color: #0000ff; text-decoration-color: #0000ff\">1</span>                                                     <span style=\"color: #800000; text-decoration-color: #800000\">│</span>\n",
       "<span style=\"color: #800000; text-decoration-color: #800000\">│</span>   <span style=\"color: #7f7f7f; text-decoration-color: #7f7f7f\">329 </span><span style=\"color: #7f7f7f; text-decoration-color: #7f7f7f\">│   │   │   </span><span style=\"color: #0000ff; text-decoration-color: #0000ff\">yield</span> <span style=\"color: #808000; text-decoration-color: #808000\">'\\n'</span> + _indent * _current_indent_level                                   <span style=\"color: #800000; text-decoration-color: #800000\">│</span>\n",
       "<span style=\"color: #800000; text-decoration-color: #800000\">│</span>                                                                                                  <span style=\"color: #800000; text-decoration-color: #800000\">│</span>\n",
       "<span style=\"color: #800000; text-decoration-color: #800000\">│</span> <span style=\"color: #7f7f7f; text-decoration-color: #7f7f7f\">/usr/lib/python3.12/json/</span><span style=\"font-weight: bold\">encoder.py</span>:406 in _iterencode_dict                                      <span style=\"color: #800000; text-decoration-color: #800000\">│</span>\n",
       "<span style=\"color: #800000; text-decoration-color: #800000\">│</span>                                                                                                  <span style=\"color: #800000; text-decoration-color: #800000\">│</span>\n",
       "<span style=\"color: #800000; text-decoration-color: #800000\">│</span>   <span style=\"color: #7f7f7f; text-decoration-color: #7f7f7f\">403 </span><span style=\"color: #7f7f7f; text-decoration-color: #7f7f7f\">│   │   │   │   │   </span>chunks = _iterencode_dict(value, _current_indent_level)                <span style=\"color: #800000; text-decoration-color: #800000\">│</span>\n",
       "<span style=\"color: #800000; text-decoration-color: #800000\">│</span>   <span style=\"color: #7f7f7f; text-decoration-color: #7f7f7f\">404 </span><span style=\"color: #7f7f7f; text-decoration-color: #7f7f7f\">│   │   │   │   </span><span style=\"color: #0000ff; text-decoration-color: #0000ff\">else</span>:                                                                      <span style=\"color: #800000; text-decoration-color: #800000\">│</span>\n",
       "<span style=\"color: #800000; text-decoration-color: #800000\">│</span>   <span style=\"color: #7f7f7f; text-decoration-color: #7f7f7f\">405 </span><span style=\"color: #7f7f7f; text-decoration-color: #7f7f7f\">│   │   │   │   │   </span>chunks = _iterencode(value, _current_indent_level)                     <span style=\"color: #800000; text-decoration-color: #800000\">│</span>\n",
       "<span style=\"color: #800000; text-decoration-color: #800000\">│</span> <span style=\"color: #800000; text-decoration-color: #800000\">❱ </span>406 <span style=\"color: #7f7f7f; text-decoration-color: #7f7f7f\">│   │   │   │   </span><span style=\"color: #0000ff; text-decoration-color: #0000ff; font-weight: bold; text-decoration: underline\">yield from</span><span style=\"font-weight: bold; text-decoration: underline\"> chunks</span>                                                          <span style=\"color: #800000; text-decoration-color: #800000\">│</span>\n",
       "<span style=\"color: #800000; text-decoration-color: #800000\">│</span>   <span style=\"color: #7f7f7f; text-decoration-color: #7f7f7f\">407 </span><span style=\"color: #7f7f7f; text-decoration-color: #7f7f7f\">│   │   </span><span style=\"color: #0000ff; text-decoration-color: #0000ff\">if</span> newline_indent <span style=\"color: #ff00ff; text-decoration-color: #ff00ff\">is</span> <span style=\"color: #ff00ff; text-decoration-color: #ff00ff\">not</span> <span style=\"color: #0000ff; text-decoration-color: #0000ff\">None</span>:                                                     <span style=\"color: #800000; text-decoration-color: #800000\">│</span>\n",
       "<span style=\"color: #800000; text-decoration-color: #800000\">│</span>   <span style=\"color: #7f7f7f; text-decoration-color: #7f7f7f\">408 </span><span style=\"color: #7f7f7f; text-decoration-color: #7f7f7f\">│   │   │   </span>_current_indent_level -= <span style=\"color: #0000ff; text-decoration-color: #0000ff\">1</span>                                                     <span style=\"color: #800000; text-decoration-color: #800000\">│</span>\n",
       "<span style=\"color: #800000; text-decoration-color: #800000\">│</span>   <span style=\"color: #7f7f7f; text-decoration-color: #7f7f7f\">409 </span><span style=\"color: #7f7f7f; text-decoration-color: #7f7f7f\">│   │   │   </span><span style=\"color: #0000ff; text-decoration-color: #0000ff\">yield</span> <span style=\"color: #808000; text-decoration-color: #808000\">'\\n'</span> + _indent * _current_indent_level                                   <span style=\"color: #800000; text-decoration-color: #800000\">│</span>\n",
       "<span style=\"color: #800000; text-decoration-color: #800000\">│</span>                                                                                                  <span style=\"color: #800000; text-decoration-color: #800000\">│</span>\n",
       "<span style=\"color: #800000; text-decoration-color: #800000\">│</span> <span style=\"color: #7f7f7f; text-decoration-color: #7f7f7f\">/usr/lib/python3.12/json/</span><span style=\"font-weight: bold\">encoder.py</span>:439 in _iterencode                                           <span style=\"color: #800000; text-decoration-color: #800000\">│</span>\n",
       "<span style=\"color: #800000; text-decoration-color: #800000\">│</span>                                                                                                  <span style=\"color: #800000; text-decoration-color: #800000\">│</span>\n",
       "<span style=\"color: #800000; text-decoration-color: #800000\">│</span>   <span style=\"color: #7f7f7f; text-decoration-color: #7f7f7f\">436 </span><span style=\"color: #7f7f7f; text-decoration-color: #7f7f7f\">│   │   │   │   </span><span style=\"color: #0000ff; text-decoration-color: #0000ff\">if</span> markerid <span style=\"color: #ff00ff; text-decoration-color: #ff00ff\">in</span> markers:                                                    <span style=\"color: #800000; text-decoration-color: #800000\">│</span>\n",
       "<span style=\"color: #800000; text-decoration-color: #800000\">│</span>   <span style=\"color: #7f7f7f; text-decoration-color: #7f7f7f\">437 </span><span style=\"color: #7f7f7f; text-decoration-color: #7f7f7f\">│   │   │   │   │   </span><span style=\"color: #0000ff; text-decoration-color: #0000ff\">raise</span> <span style=\"color: #00ffff; text-decoration-color: #00ffff\">ValueError</span>(<span style=\"color: #808000; text-decoration-color: #808000\">\"Circular reference detected\"</span>)                        <span style=\"color: #800000; text-decoration-color: #800000\">│</span>\n",
       "<span style=\"color: #800000; text-decoration-color: #800000\">│</span>   <span style=\"color: #7f7f7f; text-decoration-color: #7f7f7f\">438 </span><span style=\"color: #7f7f7f; text-decoration-color: #7f7f7f\">│   │   │   │   </span>markers[markerid] = o                                                      <span style=\"color: #800000; text-decoration-color: #800000\">│</span>\n",
       "<span style=\"color: #800000; text-decoration-color: #800000\">│</span> <span style=\"color: #800000; text-decoration-color: #800000\">❱ </span>439 <span style=\"color: #7f7f7f; text-decoration-color: #7f7f7f\">│   │   │   </span>o = <span style=\"font-weight: bold; text-decoration: underline\">_default(o)</span>                                                                <span style=\"color: #800000; text-decoration-color: #800000\">│</span>\n",
       "<span style=\"color: #800000; text-decoration-color: #800000\">│</span>   <span style=\"color: #7f7f7f; text-decoration-color: #7f7f7f\">440 </span><span style=\"color: #7f7f7f; text-decoration-color: #7f7f7f\">│   │   │   </span><span style=\"color: #0000ff; text-decoration-color: #0000ff\">yield from</span> _iterencode(o, _current_indent_level)                               <span style=\"color: #800000; text-decoration-color: #800000\">│</span>\n",
       "<span style=\"color: #800000; text-decoration-color: #800000\">│</span>   <span style=\"color: #7f7f7f; text-decoration-color: #7f7f7f\">441 </span><span style=\"color: #7f7f7f; text-decoration-color: #7f7f7f\">│   │   │   </span><span style=\"color: #0000ff; text-decoration-color: #0000ff\">if</span> markers <span style=\"color: #ff00ff; text-decoration-color: #ff00ff\">is</span> <span style=\"color: #ff00ff; text-decoration-color: #ff00ff\">not</span> <span style=\"color: #0000ff; text-decoration-color: #0000ff\">None</span>:                                                        <span style=\"color: #800000; text-decoration-color: #800000\">│</span>\n",
       "<span style=\"color: #800000; text-decoration-color: #800000\">│</span>   <span style=\"color: #7f7f7f; text-decoration-color: #7f7f7f\">442 </span><span style=\"color: #7f7f7f; text-decoration-color: #7f7f7f\">│   │   │   │   </span><span style=\"color: #0000ff; text-decoration-color: #0000ff\">del</span> markers[markerid]                                                      <span style=\"color: #800000; text-decoration-color: #800000\">│</span>\n",
       "<span style=\"color: #800000; text-decoration-color: #800000\">│</span>                                                                                                  <span style=\"color: #800000; text-decoration-color: #800000\">│</span>\n",
       "<span style=\"color: #800000; text-decoration-color: #800000\">│</span> <span style=\"color: #7f7f7f; text-decoration-color: #7f7f7f\">/usr/lib/python3.12/json/</span><span style=\"font-weight: bold\">encoder.py</span>:180 in default                                               <span style=\"color: #800000; text-decoration-color: #800000\">│</span>\n",
       "<span style=\"color: #800000; text-decoration-color: #800000\">│</span>                                                                                                  <span style=\"color: #800000; text-decoration-color: #800000\">│</span>\n",
       "<span style=\"color: #800000; text-decoration-color: #800000\">│</span>   <span style=\"color: #7f7f7f; text-decoration-color: #7f7f7f\">177 </span><span style=\"color: #bfbf7f; text-decoration-color: #bfbf7f\">│   │   │   │   </span><span style=\"color: #808000; text-decoration-color: #808000\">return super().default(o)</span>                                                  <span style=\"color: #800000; text-decoration-color: #800000\">│</span>\n",
       "<span style=\"color: #800000; text-decoration-color: #800000\">│</span>   <span style=\"color: #7f7f7f; text-decoration-color: #7f7f7f\">178 </span><span style=\"color: #7f7f7f; text-decoration-color: #7f7f7f\">│   │   </span>                                                                                   <span style=\"color: #800000; text-decoration-color: #800000\">│</span>\n",
       "<span style=\"color: #800000; text-decoration-color: #800000\">│</span>   <span style=\"color: #7f7f7f; text-decoration-color: #7f7f7f\">179 </span><span style=\"color: #bfbf7f; text-decoration-color: #bfbf7f\">│   │   </span><span style=\"color: #808000; text-decoration-color: #808000\">\"\"\"</span>                                                                                <span style=\"color: #800000; text-decoration-color: #800000\">│</span>\n",
       "<span style=\"color: #800000; text-decoration-color: #800000\">│</span> <span style=\"color: #800000; text-decoration-color: #800000\">❱ </span>180 <span style=\"color: #7f7f7f; text-decoration-color: #7f7f7f\">│   │   </span><span style=\"color: #0000ff; text-decoration-color: #0000ff; font-weight: bold; text-decoration: underline\">raise</span><span style=\"font-weight: bold; text-decoration: underline\"> </span><span style=\"color: #00ffff; text-decoration-color: #00ffff; font-weight: bold; text-decoration: underline\">TypeError</span><span style=\"font-weight: bold; text-decoration: underline\">(</span><span style=\"color: #808000; text-decoration-color: #808000; font-weight: bold; text-decoration: underline\">f'Object of type {</span><span style=\"font-weight: bold; text-decoration: underline\">o.</span><span style=\"color: #ff0000; text-decoration-color: #ff0000; font-weight: bold; text-decoration: underline\">__class__</span><span style=\"font-weight: bold; text-decoration: underline\">.</span><span style=\"color: #ff0000; text-decoration-color: #ff0000; font-weight: bold; text-decoration: underline\">__name__</span><span style=\"color: #808000; text-decoration-color: #808000; font-weight: bold; text-decoration: underline\">} '</span>                          <span style=\"color: #800000; text-decoration-color: #800000\">│</span>\n",
       "<span style=\"color: #800000; text-decoration-color: #800000\">│</span>   <span style=\"color: #7f7f7f; text-decoration-color: #7f7f7f\">181 </span><span style=\"color: #7f7f7f; text-decoration-color: #7f7f7f\">│   │   │   │   │   │   </span><span style=\"color: #808000; text-decoration-color: #808000; font-weight: bold; text-decoration: underline\">f'is not JSON serializable'</span><span style=\"font-weight: bold; text-decoration: underline\">)</span>                                       <span style=\"color: #800000; text-decoration-color: #800000\">│</span>\n",
       "<span style=\"color: #800000; text-decoration-color: #800000\">│</span>   <span style=\"color: #7f7f7f; text-decoration-color: #7f7f7f\">182 </span><span style=\"color: #7f7f7f; text-decoration-color: #7f7f7f\">│   </span>                                                                                       <span style=\"color: #800000; text-decoration-color: #800000\">│</span>\n",
       "<span style=\"color: #800000; text-decoration-color: #800000\">│</span>   <span style=\"color: #7f7f7f; text-decoration-color: #7f7f7f\">183 </span><span style=\"color: #7f7f7f; text-decoration-color: #7f7f7f\">│   </span><span style=\"color: #0000ff; text-decoration-color: #0000ff\">def</span><span style=\"color: #808080; text-decoration-color: #808080\"> </span><span style=\"color: #00ff00; text-decoration-color: #00ff00\">encode</span>(<span style=\"color: #00ffff; text-decoration-color: #00ffff\">self</span>, o):                                                                   <span style=\"color: #800000; text-decoration-color: #800000\">│</span>\n",
       "<span style=\"color: #800000; text-decoration-color: #800000\">╰──────────────────────────────────────────────────────────────────────────────────────────────────╯</span>\n",
       "<span style=\"color: #ff0000; text-decoration-color: #ff0000; font-weight: bold\">TypeError: </span>Object of type Tensor is not JSON serializable\n",
       "</pre>\n"
      ]
     },
     "metadata": {},
     "output_type": "display_data"
    }
   ],
   "execution_count": 9
  },
  {
   "metadata": {},
   "cell_type": "code",
   "outputs": [],
   "execution_count": null,
   "source": "",
   "id": "ab0fa38cc639886c"
  }
 ],
 "metadata": {
  "kernelspec": {
   "display_name": "Python 3",
   "language": "python",
   "name": "python3"
  },
  "language_info": {
   "codemirror_mode": {
    "name": "ipython",
    "version": 2
   },
   "file_extension": ".py",
   "mimetype": "text/x-python",
   "name": "python",
   "nbconvert_exporter": "python",
   "pygments_lexer": "ipython2",
   "version": "2.7.6"
  }
 },
 "nbformat": 4,
 "nbformat_minor": 5
}
