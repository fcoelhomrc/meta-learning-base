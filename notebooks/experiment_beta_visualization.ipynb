{
 "cells": [
  {
   "cell_type": "code",
   "id": "319c98836d36bb6c",
   "metadata": {
    "ExecuteTime": {
     "end_time": "2025-05-11T17:14:04.586674Z",
     "start_time": "2025-05-11T17:14:04.573560Z"
    }
   },
   "source": [
    "import os\n",
    "\n",
    "import albumentations as A\n",
    "import rich.progress as rprogress\n",
    "import torch\n",
    "from rich.traceback import install\n",
    "\n",
    "from types import SimpleNamespace\n",
    "\n",
    "from src.callbacks import ModelCheckpoint\n",
    "from src.datasets import MultiDomainDataset, DomainRole, PreprocessingPipeline\n",
    "from src.models import MLDG, BaseLearner, Encoder, Classifier\n",
    "\n",
    "install(show_locals=False)\n",
    "\n",
    "args = {\n",
    "    \"num_classes\": 7,\n",
    "    \"batch_size\": 16,\n",
    "    \"nonlinear_classifier\": False,\n",
    "    \"dropout\": 0.,\n",
    "    \"lr\": 1e-5,\n",
    "    \"weight_decay\": 0.,\n",
    "}\n",
    "args = SimpleNamespace(**args)\n",
    "\n",
    "\n",
    "# Backend: albumentations\n",
    "transform = A.Compose([\n",
    "    A.Resize(height=224, width=224),\n",
    "    A.Normalize(\n",
    "        mean=(0.485, 0.456, 0.406), std=(0.229, 0.224, 0.225)\n",
    "    ),\n",
    "    A.ToTensorV2(),\n",
    "])\n",
    "\n",
    "augment_transform = A.Compose([\n",
    "    A.RandomResizedCrop(size=(224, 224), scale=(0.7, 1.0), p=1.0),\n",
    "    A.HorizontalFlip(p=0.5),\n",
    "    A.ColorJitter(brightness=0.3, contrast=0.3, saturation=0.3, hue=0.3, p=0.5),\n",
    "    A.ToGray(num_output_channels=3, p=0.10),\n",
    "    A.Normalize(\n",
    "        mean=(0.485, 0.456, 0.406), std=(0.229, 0.224, 0.225)\n",
    "    ),\n",
    "    A.ToTensorV2(),\n",
    "])\n",
    "\n",
    "\n",
    "def wrapper_albumentations_transform(transform: A.Compose):\n",
    "    def transform_(img):\n",
    "        img_ = img.permute(1, 2, 0).numpy()\n",
    "        try:\n",
    "            return transform(image=img_).get(\"image\")\n",
    "        except Exception as error:\n",
    "            print(f\"Failed to apply transform at image {img_.shape}, {img_.dtype}\")\n",
    "            raise error\n",
    "\n",
    "    return transform_\n",
    "\n",
    "pipeline = PreprocessingPipeline(\n",
    "    source_transform=wrapper_albumentations_transform(augment_transform),\n",
    "    target_transform=wrapper_albumentations_transform(transform),\n",
    ")"
   ],
   "outputs": [],
   "execution_count": 13
  },
  {
   "metadata": {
    "ExecuteTime": {
     "end_time": "2025-05-11T17:13:37.407304Z",
     "start_time": "2025-05-11T17:13:37.293466Z"
    }
   },
   "cell_type": "code",
   "source": [
    "device = \"cuda\" if torch.cuda.is_available() else \"cpu\"\n",
    "print(f\"Device selected: {device}\")"
   ],
   "id": "de8b9faea255ce8b",
   "outputs": [
    {
     "name": "stdout",
     "output_type": "stream",
     "text": [
      "Device selected: cuda\n"
     ]
    }
   ],
   "execution_count": 2
  },
  {
   "metadata": {
    "ExecuteTime": {
     "end_time": "2025-05-11T17:13:37.437912Z",
     "start_time": "2025-05-11T17:13:37.435756Z"
    }
   },
   "cell_type": "code",
   "source": [
    "domains = [\"art_painting\", \"cartoon\", \"photo\", \"sketch\"]\n",
    "roles = [DomainRole.TARGET, DomainRole.TARGET, DomainRole.TARGET, DomainRole.TARGET]\n"
   ],
   "id": "6d81d516b15adbae",
   "outputs": [],
   "execution_count": 3
  },
  {
   "metadata": {
    "ExecuteTime": {
     "end_time": "2025-05-11T17:14:43.129766Z",
     "start_time": "2025-05-11T17:14:43.125422Z"
    }
   },
   "cell_type": "code",
   "source": [
    "def load_model(checkpoint, args):\n",
    "\n",
    "    model = MLDG(\n",
    "        network=BaseLearner(\n",
    "            encoder=Encoder(hparams={}),\n",
    "            classifier=Classifier(hparams={\"num_feats\": 2048, \"num_classes\": args.num_classes, \"dropout\": args.dropout})\n",
    "        ),\n",
    "        device=device,\n",
    "        num_classes=args.num_classes,\n",
    "        num_domains=len([role for role in roles if role == DomainRole.TARGET]),\n",
    "        hparams={\n",
    "            \"num_meta_test\": 1,\n",
    "            \"lr\": args.lr,\n",
    "            \"weight_decay\": args.weight_decay,\n",
    "            \"beta\": args.beta,\n",
    "            \"lr_clone\": args.lr,  # TODO: for now, using same value for both\n",
    "            \"weight_decay_clone\": args.weight_decay,\n",
    "        }\n",
    "    )\n",
    "\n",
    "    # Test\n",
    "    model.load_state_dict(\n",
    "        state_dict=torch.load(\n",
    "            checkpoint\n",
    "        )\n",
    "    )\n",
    "    model.eval()\n",
    "    return model\n"
   ],
   "id": "ae3e9eb60df241d4",
   "outputs": [],
   "execution_count": 16
  },
  {
   "metadata": {
    "ExecuteTime": {
     "end_time": "2025-05-11T17:14:45.238813Z",
     "start_time": "2025-05-11T17:14:45.182640Z"
    }
   },
   "cell_type": "code",
   "source": [
    "dataset = MultiDomainDataset(\n",
    "    root=\"../data/PACS/\",\n",
    "    domains=domains,\n",
    "    roles=roles,\n",
    "    transforms=[pipeline] * len(domains),\n",
    "    seed=0,\n",
    "    split_ratio=0.80,\n",
    ")\n",
    "\n",
    "\n",
    "progress_bar = rprogress.Progress(\n",
    "    rprogress.SpinnerColumn(),\n",
    "    *rprogress.Progress.get_default_columns(),\n",
    "    rprogress.TimeElapsedColumn(),\n",
    "    rprogress.TextColumn(\"{task.fields[metrics]}\", justify=\"right\"),\n",
    ")\n",
    "\n",
    "loaders = dataset.build_target_dataloaders(\n",
    "    use_splits=False, batch_size=16, num_workers=8,\n",
    "    shuffle=False, persistent_workers=True\n",
    ")"
   ],
   "id": "751b3d4a1c90e0d9",
   "outputs": [],
   "execution_count": 17
  },
  {
   "metadata": {
    "ExecuteTime": {
     "end_time": "2025-05-11T17:14:45.398828Z",
     "start_time": "2025-05-11T17:14:45.394770Z"
    }
   },
   "cell_type": "code",
   "source": [
    "RESULTS = {\n",
    "    \"BETAS\": [0., 0.2, 0.4, 0.6, 0.8, 1.0, 1.2, 1.4, 1.6, 1.8, 2.0],\n",
    "    \"CHECKPOINTS\": [\n",
    "        \"../dump/rare-violet-50.ckpt\",\n",
    "        \"../dump/super-moon-51.ckpt\",\n",
    "        \"../dump/revived-aardvark-52.ckpt\",\n",
    "        \"../dump/glorious-monkey-53.ckpt\",\n",
    "        \"../dump/deep-cherry-54.ckpt\",\n",
    "        \"../dump/wise-valley-55.ckpt\",\n",
    "        \"../dump/still-donkey-56.ckpt\",\n",
    "        \"../dump/silvery-silence-57.ckpt\",\n",
    "        \"../dump/treasured-dawn-58.ckpt\",\n",
    "        \"../dump/rosy-disco-59.ckpt\",\n",
    "        \"../dump/drawn-water-60.ckpt\",\n",
    "    ],\n",
    "    \"TEST_ACC\": [],\n",
    "}"
   ],
   "id": "cde7777d3b759f5e",
   "outputs": [],
   "execution_count": 18
  },
  {
   "metadata": {
    "ExecuteTime": {
     "end_time": "2025-05-11T17:14:46.229696Z",
     "start_time": "2025-05-11T17:14:46.225173Z"
    }
   },
   "cell_type": "code",
   "source": [
    "for checkpoint in RESULTS[\"CHECKPOINTS\"]:\n",
    "    if not os.path.exists(checkpoint):\n",
    "        print(f\"Failed to locate checkpoint {checkpoint}\")"
   ],
   "id": "b9314b6890488e71",
   "outputs": [],
   "execution_count": 19
  },
  {
   "metadata": {
    "ExecuteTime": {
     "end_time": "2025-05-11T17:14:46.464467Z",
     "start_time": "2025-05-11T17:14:46.459854Z"
    }
   },
   "cell_type": "code",
   "source": "args",
   "id": "600d873d637e8dd3",
   "outputs": [
    {
     "data": {
      "text/plain": [
       "namespace(num_classes=7,\n",
       "          batch_size=16,\n",
       "          nonlinear_classifier=False,\n",
       "          dropout=0.0,\n",
       "          lr=1e-05,\n",
       "          weight_decay=0.0,\n",
       "          beta=0.0)"
      ]
     },
     "execution_count": 20,
     "metadata": {},
     "output_type": "execute_result"
    }
   ],
   "execution_count": 20
  },
  {
   "metadata": {
    "jupyter": {
     "is_executing": true
    },
    "ExecuteTime": {
     "start_time": "2025-05-11T17:14:47.609669Z"
    }
   },
   "cell_type": "code",
   "source": [
    "with progress_bar:\n",
    "    for BETA, CHECKPOINT in zip(RESULTS[\"BETAS\"], RESULTS[\"CHECKPOINTS\"]):\n",
    "        args.beta = BETA\n",
    "        model = load_model(CHECKPOINT, args)\n",
    "\n",
    "\n",
    "        tasks = [\n",
    "            progress_bar.add_task(\n",
    "                description=f\"Testing {dataset.domains[i]}\",\n",
    "                total=len(loader),\n",
    "                metrics=f\"acc: --\",\n",
    "            )\n",
    "            for i, loader in enumerate(loaders)\n",
    "        ]\n",
    "\n",
    "\n",
    "        ACC = []\n",
    "        for task, loader in zip(tasks, loaders):\n",
    "            acc = 0\n",
    "            count = 0\n",
    "            for batch in loader:\n",
    "                acc_ = model.log_metrics((batch,))\n",
    "\n",
    "                count += 1\n",
    "                acc += acc_\n",
    "\n",
    "                progress_bar.update(\n",
    "                    task,\n",
    "                    advance=1,\n",
    "                    metrics=f\"acc: {acc_:.2%}\",\n",
    "                )\n",
    "\n",
    "            acc /= count\n",
    "\n",
    "            progress_bar.update(\n",
    "                task,\n",
    "                metrics=f\"acc: {acc:.2%}\",\n",
    "            )\n",
    "            ACC.append(acc)\n",
    "        RESULTS[\"TEST_ACC\"].append(ACC)"
   ],
   "id": "a3d08a0fab200826",
   "outputs": [
    {
     "data": {
      "text/plain": [
       "Output()"
      ],
      "application/vnd.jupyter.widget-view+json": {
       "version_major": 2,
       "version_minor": 0,
       "model_id": "21f1f2e09b574ebfaa99180f0b2b2467"
      }
     },
     "metadata": {},
     "output_type": "display_data"
    }
   ],
   "execution_count": null
  },
  {
   "metadata": {},
   "cell_type": "code",
   "outputs": [],
   "execution_count": null,
   "source": "",
   "id": "initial_id"
  }
 ],
 "metadata": {
  "kernelspec": {
   "display_name": "Python 3",
   "language": "python",
   "name": "python3"
  },
  "language_info": {
   "codemirror_mode": {
    "name": "ipython",
    "version": 2
   },
   "file_extension": ".py",
   "mimetype": "text/x-python",
   "name": "python",
   "nbconvert_exporter": "python",
   "pygments_lexer": "ipython2",
   "version": "2.7.6"
  }
 },
 "nbformat": 4,
 "nbformat_minor": 5
}
